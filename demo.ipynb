{
 "cells": [
  {
   "cell_type": "markdown",
   "metadata": {},
   "source": [
    "# Samples for MusicVAE and Miditok"
   ]
  },
  {
   "cell_type": "code",
   "execution_count": 1,
   "metadata": {},
   "outputs": [],
   "source": [
    "import miditoolkit\n",
    "from miditoolkit import MidiFile, notes2pianoroll\n",
    "from miditok import (REMI, CPWord, Event, MIDILike, MIDITokenizer, MuMIDI,\n",
    "                     OctupleMono)\n",
    "\n",
    "path_midi = miditoolkit.midi.utils.example_midi_file()\n",
    "midi = MidiFile(path_midi)"
   ]
  },
  {
   "cell_type": "code",
   "execution_count": 2,
   "metadata": {},
   "outputs": [
    {
     "name": "stdout",
     "output_type": "stream",
     "text": [
      "2404\n"
     ]
    }
   ],
   "source": [
    "from typing import List\n",
    "from src.tokenizers import split_to_bars\n",
    "\n",
    "tokenizer = REMI()\n",
    "tokens = tokenizer.midi_to_tokens(midi)[0]\n",
    "\n",
    "print(len(tokens))"
   ]
  },
  {
   "cell_type": "code",
   "execution_count": 3,
   "metadata": {},
   "outputs": [
    {
     "data": {
      "text/plain": [
       "<AxesSubplot:>"
      ]
     },
     "execution_count": 3,
     "metadata": {},
     "output_type": "execute_result"
    },
    {
     "data": {
      "image/png": "[encoded data removed]",
      "text/plain": [
       "<Figure size 432x288 with 1 Axes>"
      ]
     },
     "metadata": {
      "needs_background": "light"
     },
     "output_type": "display_data"
    }
   ],
   "source": [
    "import pandas as pd\n",
    "\n",
    "tokens_split = split_to_bars(tokens, tokenizer)\n",
    "pd.Series([len(l) for l in tokens_split]).hist()"
   ]
  },
  {
   "cell_type": "code",
   "execution_count": 4,
   "metadata": {},
   "outputs": [],
   "source": [
    "split_midi = tokenizer.tokens_to_midi([tokens_split[1]])"
   ]
  },
  {
   "cell_type": "code",
   "execution_count": 13,
   "metadata": {},
   "outputs": [
    {
     "data": {
      "text/html": [
       "\n",
       "    <div class=\"bk-root\">\n",
       "        <a href=\"https://bokeh.org\" target=\"_blank\" class=\"bk-logo bk-logo-small bk-logo-notebook\"></a>\n",
       "        <span id=\"1051\">Loading BokehJS ...</span>\n",
       "    </div>"
      ]
     },
     "metadata": {},
     "output_type": "display_data"
    },
    {
     "data": {
      "application/javascript": "\n(function(root) {\n  function now() {\n    return new Date();\n  }\n\n  const force = true;\n\n  if (typeof root._bokeh_onload_callbacks === \"undefined\" || force === true) {\n    root._bokeh_onload_callbacks = [];\n    root._bokeh_is_loading = undefined;\n  }\n\n  const JS_MIME_TYPE = 'application/javascript';\n  const HTML_MIME_TYPE = 'text/html';\n  const EXEC_MIME_TYPE = 'application/vnd.bokehjs_exec.v0+json';\n  const CLASS_NAME = 'output_bokeh rendered_html';\n\n  /**\n   * Render data to the DOM node\n   */\n  function render(props, node) {\n    const script = document.createElement(\"script\");\n    node.appendChild(script);\n  }\n\n  /**\n   * Handle when an output is cleared or removed\n   */\n  function handleClearOutput(event, handle) {\n    const cell = handle.cell;\n\n    const id = cell.output_area._bokeh_element_id;\n    const server_id = cell.output_area._bokeh_server_id;\n    // Clean up Bokeh references\n    if (id != null && id in Bokeh.index) {\n      Bokeh.index[id].model.document.clear();\n      delete Bokeh.index[id];\n    }\n\n    if (server_id !== undefined) {\n      // Clean up Bokeh references\n      const cmd_clean = \"from bokeh.io.state import curstate; print(curstate().uuid_to_server['\" + server_id + \"'].get_sessions()[0].document.roots[0]._id)\";\n      cell.notebook.kernel.execute(cmd_clean, {\n        iopub: {\n          output: function(msg) {\n            const id = msg.content.text.trim();\n            if (id in Bokeh.index) {\n              Bokeh.index[id].model.document.clear();\n              delete Bokeh.index[id];\n            }\n          }\n        }\n      });\n      // Destroy server and session\n      const cmd_destroy = \"import bokeh.io.notebook as ion; ion.destroy_server('\" + server_id + \"')\";\n      cell.notebook.kernel.execute(cmd_destroy);\n    }\n  }\n\n  /**\n   * Handle when a new output is added\n   */\n  function handleAddOutput(event, handle) {\n    const output_area = handle.output_area;\n    const output = handle.output;\n\n    // limit handleAddOutput to display_data with EXEC_MIME_TYPE content only\n    if ((output.output_type != \"display_data\") || (!Object.prototype.hasOwnProperty.call(output.data, EXEC_MIME_TYPE))) {\n      return\n    }\n\n    const toinsert = output_area.element.find(\".\" + CLASS_NAME.split(' ')[0]);\n\n    if (output.metadata[EXEC_MIME_TYPE][\"id\"] !== undefined) {\n      toinsert[toinsert.length - 1].firstChild.textContent = output.data[JS_MIME_TYPE];\n      // store reference to embed id on output_area\n      output_area._bokeh_element_id = output.metadata[EXEC_MIME_TYPE][\"id\"];\n    }\n    if (output.metadata[EXEC_MIME_TYPE][\"server_id\"] !== undefined) {\n      const bk_div = document.createElement(\"div\");\n      bk_div.innerHTML = output.data[HTML_MIME_TYPE];\n      const script_attrs = bk_div.children[0].attributes;\n      for (let i = 0; i < script_attrs.length; i++) {\n        toinsert[toinsert.length - 1].firstChild.setAttribute(script_attrs[i].name, script_attrs[i].value);\n        toinsert[toinsert.length - 1].firstChild.textContent = bk_div.children[0].textContent\n      }\n      // store reference to server id on output_area\n      output_area._bokeh_server_id = output.metadata[EXEC_MIME_TYPE][\"server_id\"];\n    }\n  }\n\n  function register_renderer(events, OutputArea) {\n\n    function append_mime(data, metadata, element) {\n      // create a DOM node to render to\n      const toinsert = this.create_output_subarea(\n        metadata,\n        CLASS_NAME,\n        EXEC_MIME_TYPE\n      );\n      this.keyboard_manager.register_events(toinsert);\n      // Render to node\n      const props = {data: data, metadata: metadata[EXEC_MIME_TYPE]};\n      render(props, toinsert[toinsert.length - 1]);\n      element.append(toinsert);\n      return toinsert\n    }\n\n    /* Handle when an output is cleared or removed */\n    events.on('clear_output.CodeCell', handleClearOutput);\n    events.on('delete.Cell', handleClearOutput);\n\n    /* Handle when a new output is added */\n    events.on('output_added.OutputArea', handleAddOutput);\n\n    /**\n     * Register the mime type and append_mime function with output_area\n     */\n    OutputArea.prototype.register_mime_type(EXEC_MIME_TYPE, append_mime, {\n      /* Is output safe? */\n      safe: true,\n      /* Index of renderer in `output_area.display_order` */\n      index: 0\n    });\n  }\n\n  // register the mime type if in Jupyter Notebook environment and previously unregistered\n  if (root.Jupyter !== undefined) {\n    const events = require('base/js/events');\n    const OutputArea = require('notebook/js/outputarea').OutputArea;\n\n    if (OutputArea.prototype.mime_types().indexOf(EXEC_MIME_TYPE) == -1) {\n      register_renderer(events, OutputArea);\n    }\n  }\n\n  \n  if (typeof (root._bokeh_timeout) === \"undefined\" || force === true) {\n    root._bokeh_timeout = Date.now() + 5000;\n    root._bokeh_failed_load = false;\n  }\n\n  const NB_LOAD_WARNING = {'data': {'text/html':\n     \"<div style='background-color: #fdd'>\\n\"+\n     \"<p>\\n\"+\n     \"BokehJS does not appear to have successfully loaded. If loading BokehJS from CDN, this \\n\"+\n     \"may be due to a slow or bad network connection. Possible fixes:\\n\"+\n     \"</p>\\n\"+\n     \"<ul>\\n\"+\n     \"<li>re-rerun `output_notebook()` to attempt to load from CDN again, or</li>\\n\"+\n     \"<li>use INLINE resources instead, as so:</li>\\n\"+\n     \"</ul>\\n\"+\n     \"<code>\\n\"+\n     \"from bokeh.resources import INLINE\\n\"+\n     \"output_notebook(resources=INLINE)\\n\"+\n     \"</code>\\n\"+\n     \"</div>\"}};\n\n  function display_loaded() {\n    const el = document.getElementById(\"1051\");\n    if (el != null) {\n      el.textContent = \"BokehJS is loading...\";\n    }\n    if (root.Bokeh !== undefined) {\n      if (el != null) {\n        el.textContent = \"BokehJS \" + root.Bokeh.version + \" successfully loaded.\";\n      }\n    } else if (Date.now() < root._bokeh_timeout) {\n      setTimeout(display_loaded, 100)\n    }\n  }\n\n\n  function run_callbacks() {\n    try {\n      root._bokeh_onload_callbacks.forEach(function(callback) {\n        if (callback != null)\n          callback();\n      });\n    } finally {\n      delete root._bokeh_onload_callbacks\n    }\n    console.debug(\"Bokeh: all callbacks have finished\");\n  }\n\n  function load_libs(css_urls, js_urls, callback) {\n    if (css_urls == null) css_urls = [];\n    if (js_urls == null) js_urls = [];\n\n    root._bokeh_onload_callbacks.push(callback);\n    if (root._bokeh_is_loading > 0) {\n      console.debug(\"Bokeh: BokehJS is being loaded, scheduling callback at\", now());\n      return null;\n    }\n    if (js_urls == null || js_urls.length === 0) {\n      run_callbacks();\n      return null;\n    }\n    console.debug(\"Bokeh: BokehJS not loaded, scheduling load and callback at\", now());\n    root._bokeh_is_loading = css_urls.length + js_urls.length;\n\n    function on_load() {\n      root._bokeh_is_loading--;\n      if (root._bokeh_is_loading === 0) {\n        console.debug(\"Bokeh: all BokehJS libraries/stylesheets loaded\");\n        run_callbacks()\n      }\n    }\n\n    function on_error(url) {\n      console.error(\"failed to load \" + url);\n    }\n\n    for (let i = 0; i < css_urls.length; i++) {\n      const url = css_urls[i];\n      const element = document.createElement(\"link\");\n      element.onload = on_load;\n      element.onerror = on_error.bind(null, url);\n      element.rel = \"stylesheet\";\n      element.type = \"text/css\";\n      element.href = url;\n      console.debug(\"Bokeh: injecting link tag for BokehJS stylesheet: \", url);\n      document.body.appendChild(element);\n    }\n\n    for (let i = 0; i < js_urls.length; i++) {\n      const url = js_urls[i];\n      const element = document.createElement('script');\n      element.onload = on_load;\n      element.onerror = on_error.bind(null, url);\n      element.async = false;\n      element.src = url;\n      console.debug(\"Bokeh: injecting script tag for BokehJS library: \", url);\n      document.head.appendChild(element);\n    }\n  };\n\n  function inject_raw_css(css) {\n    const element = document.createElement(\"style\");\n    element.appendChild(document.createTextNode(css));\n    document.body.appendChild(element);\n  }\n\n  \n  const js_urls = [\"https://cdn.bokeh.org/bokeh/release/bokeh-2.4.2.min.js\", \"https://cdn.bokeh.org/bokeh/release/bokeh-gl-2.4.2.min.js\", \"https://cdn.bokeh.org/bokeh/release/bokeh-widgets-2.4.2.min.js\", \"https://cdn.bokeh.org/bokeh/release/bokeh-tables-2.4.2.min.js\", \"https://cdn.bokeh.org/bokeh/release/bokeh-mathjax-2.4.2.min.js\"];\n  const css_urls = [];\n  \n\n  const inline_js = [\n    function(Bokeh) {\n      Bokeh.set_log_level(\"info\");\n    },\n    function(Bokeh) {\n    \n    \n    }\n  ];\n\n  function run_inline_js() {\n    \n    if (root.Bokeh !== undefined || force === true) {\n      \n    for (let i = 0; i < inline_js.length; i++) {\n      inline_js[i].call(root, root.Bokeh);\n    }\n    if (force === true) {\n        display_loaded();\n      }} else if (Date.now() < root._bokeh_timeout) {\n      setTimeout(run_inline_js, 100);\n    } else if (!root._bokeh_failed_load) {\n      console.log(\"Bokeh: BokehJS failed to load within specified timeout.\");\n      root._bokeh_failed_load = true;\n    } else if (force !== true) {\n      const cell = $(document.getElementById(\"1051\")).parents('.cell').data().cell;\n      cell.output_area.append_execute_result(NB_LOAD_WARNING)\n    }\n\n  }\n\n  if (root._bokeh_is_loading === 0) {\n    console.debug(\"Bokeh: BokehJS loaded, going straight to plotting\");\n    run_inline_js();\n  } else {\n    load_libs(css_urls, js_urls, function() {\n      console.debug(\"Bokeh: BokehJS plotting callback run at\", now());\n      run_inline_js();\n    });\n  }\n}(window));",
      "application/vnd.bokehjs_load.v0+json": ""
     },
     "metadata": {},
     "output_type": "display_data"
    },
    {
     "data": {
      "text/html": [
       "\n",
       "\n",
       "\n",
       "\n",
       "\n",
       "\n",
       "  <div class=\"bk-root\" id=\"0aeec5d4-7ee9-450d-8631-c3cc98e6b8fa\" data-root-id=\"1002\"></div>\n"
      ]
     },
     "metadata": {},
     "output_type": "display_data"
    },
    {
     "data": {
      "application/javascript": "(function(root) {\n  function embed_document(root) {\n    \n  const docs_json = {\"9db21eef-1eea-4f2b-85e7-70305b7e0ed9\":{\"defs\":[],\"roots\":{\"references\":[{\"attributes\":{\"below\":[{\"id\":\"1011\"}],\"center\":[{\"id\":\"1014\"},{\"id\":\"1018\"}],\"height\":200,\"left\":[{\"id\":\"1015\"}],\"renderers\":[{\"id\":\"1039\"}],\"title\":{\"id\":\"1041\"},\"toolbar\":{\"id\":\"1025\"},\"width\":500,\"x_range\":{\"id\":\"1003\"},\"x_scale\":{\"id\":\"1007\"},\"y_range\":{\"id\":\"1005\"},\"y_scale\":{\"id\":\"1009\"}},\"id\":\"1002\",\"subtype\":\"Figure\",\"type\":\"Plot\"},{\"attributes\":{\"interval\":12},\"id\":\"1031\",\"type\":\"SingleIntervalTicker\"},{\"attributes\":{\"tools\":[{\"id\":\"1019\"},{\"id\":\"1020\"},{\"id\":\"1021\"},{\"id\":\"1022\"},{\"id\":\"1023\"}]},\"id\":\"1025\",\"type\":\"Toolbar\"},{\"attributes\":{},\"id\":\"1009\",\"type\":\"LinearScale\"},{\"attributes\":{\"axis_label\":\"pitch (MIDI)\",\"coordinates\":null,\"formatter\":{\"id\":\"1043\"},\"group\":null,\"major_label_policy\":{\"id\":\"1044\"},\"ticker\":{\"id\":\"1031\"}},\"id\":\"1015\",\"type\":\"LinearAxis\"},{\"attributes\":{\"coordinates\":null,\"data_source\":{\"id\":\"1034\"},\"glyph\":{\"id\":\"1036\"},\"group\":null,\"hover_glyph\":null,\"muted_glyph\":{\"id\":\"1038\"},\"nonselection_glyph\":{\"id\":\"1037\"},\"view\":{\"id\":\"1040\"}},\"id\":\"1039\",\"type\":\"GlyphRenderer\"},{\"attributes\":{\"source\":{\"id\":\"1034\"}},\"id\":\"1040\",\"type\":\"CDSView\"},{\"attributes\":{\"bottom\":{\"field\":\"bottom\"},\"fill_alpha\":{\"field\":\"fill_alpha\"},\"fill_color\":{\"value\":\"#d53e4f\"},\"left\":{\"field\":\"start_time\"},\"right\":{\"field\":\"end_time\"},\"top\":{\"field\":\"top\"}},\"id\":\"1036\",\"type\":\"Quad\"},{\"attributes\":{\"axis\":{\"id\":\"1011\"},\"coordinates\":null,\"group\":null,\"ticker\":null},\"id\":\"1014\",\"type\":\"Grid\"},{\"attributes\":{},\"id\":\"1003\",\"type\":\"DataRange1d\"},{\"attributes\":{},\"id\":\"1007\",\"type\":\"LinearScale\"},{\"attributes\":{\"coordinates\":null,\"group\":null},\"id\":\"1041\",\"type\":\"Title\"},{\"attributes\":{\"bottom\":{\"field\":\"bottom\"},\"fill_alpha\":{\"value\":0.1},\"fill_color\":{\"value\":\"#d53e4f\"},\"hatch_alpha\":{\"value\":0.1},\"left\":{\"field\":\"start_time\"},\"line_alpha\":{\"value\":0.1},\"right\":{\"field\":\"end_time\"},\"top\":{\"field\":\"top\"}},\"id\":\"1037\",\"type\":\"Quad\"},{\"attributes\":{\"data\":{\"bottom\":{\"__ndarray__\":\"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\",\"dtype\":\"float64\",\"order\":\"little\",\"shape\":[941]},\"duration\":{\"__ndarray__\":\"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\",\"dtype\":\"float64\",\"order\":\"little\",\"shape\":[941]},\"end_time\":{\"__ndarray__\":\"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\",\"dtype\":\"float64\",\"order\":\"little\",\"shape\":[941]},\"fill_alpha\":{\"__ndarray__\":\"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\",\"dtype\":\"float64\",\"order\":\"little\",\"shape\":[941]},\"index\":[0,1,2,3,4,5,6,7,8,9,10,11,12,13,14,15,16,17,18,19,20,21,22,23,24,25,26,27,28,29,30,31,32,33,34,35,36,37,38,39,40,41,42,43,44,45,46,47,48,49,50,51,52,53,54,55,56,57,58,59,60,61,62,63,64,65,66,67,68,69,70,71,72,73,74,75,76,77,78,79,80,81,82,83,84,85,86,87,88,89,90,91,92,93,94,95,96,97,98,99,100,101,102,103,104,105,106,107,108,109,110,111,112,113,114,115,116,117,118,119,120,121,122,123,124,125,126,127,128,129,130,131,132,133,134,135,136,137,138,139,140,141,142,143,144,145,146,147,148,149,150,151,152,153,154,155,156,157,158,159,160,161,162,163,164,165,166,167,168,169,170,171,172,173,174,175,176,177,178,179,180,181,182,183,184,185,186,187,188,189,190,191,192,193,194,195,196,197,198,199,200,201,202,203,204,205,206,207,208,209,210,211,212,213,214,215,216,217,218,219,220,221,222,223,224,225,226,227,228,229,230,231,232,233,234,235,236,237,238,239,240,241,242,243,244,245,246,247,248,249,250,251,252,253,254,255,256,257,258,259,260,261,262,263,264,265,266,267,268,269,270,271,272,273,274,275,276,277,278,279,280,281,282,283,284,285,286,287,288,289,290,291,292,293,294,295,296,297,298,299,300,301,302,303,304,305,306,307,308,309,310,311,312,313,314,315,316,317,318,319,320,321,322,323,324,325,326,327,328,329,330,331,332,333,334,335,336,337,338,339,340,341,342,343,344,345,346,347,348,349,350,351,352,353,354,355,356,357,358,359,360,361,362,363,364,365,366,367,368,369,370,371,372,373,374,375,376,377,378,379,380,381,382,383,384,385,386,387,388,389,390,391,392,393,394,395,396,397,398,399,400,401,402,403,404,405,406,407,408,409,410,411,412,413,414,415,416,417,418,419,420,421,422,423,424,425,426,427,428,429,430,431,432,433,434,435,436,437,438,439,440,441,442,443,444,445,446,447,448,449,450,451,452,453,454,455,456,457,458,459,460,461,462,463,464,465,466,467,468,469,470,471,472,473,474,475,476,477,478,479,480,481,482,483,484,485,486,487,488,489,490,491,492,493,494,495,496,497,498,499,500,501,502,503,504,505,506,507,508,509,510,511,512,513,514,515,516,517,518,519,520,521,522,523,524,525,526,527,528,529,530,531,532,533,534,535,536,537,538,539,540,541,542,543,544,545,546,547,548,549,550,551,552,553,554,555,556,557,558,559,560,561,562,563,564,565,566,567,568,569,570,571,572,573,574,575,576,577,578,579,580,581,582,583,584,585,586,587,588,589,590,591,592,593,594,595,596,597,598,599,600,601,602,603,604,605,606,607,608,609,610,611,612,613,614,615,616,617,618,619,620,621,622,623,624,625,626,627,628,629,630,631,632,633,634,635,636,637,638,639,640,641,642,643,644,645,646,647,648,649,650,651,652,653,654,655,656,657,658,659,660,661,662,663,664,665,666,667,668,669,670,671,672,673,674,675,676,677,678,679,680,681,682,683,684,685,686,687,688,689,690,691,692,693,694,695,696,697,698,699,700,701,702,703,704,705,706,707,708,709,710,711,712,713,714,715,716,717,718,719,720,721,722,723,724,725,726,727,728,729,730,731,732,733,734,735,736,737,738,739,740,741,742,743,744,745,746,747,748,749,750,751,752,753,754,755,756,757,758,759,760,761,762,763,764,765,766,767,768,769,770,771,772,773,774,775,776,777,778,779,780,781,782,783,784,785,786,787,788,789,790,791,792,793,794,795,796,797,798,799,800,801,802,803,804,805,806,807,808,809,810,811,812,813,814,815,816,817,818,819,820,821,822,823,824,825,826,827,828,829,830,831,832,833,834,835,836,837,838,839,840,841,842,843,844,845,846,847,848,849,850,851,852,853,854,855,856,857,858,859,860,861,862,863,864,865,866,867,868,869,870,871,872,873,874,875,876,877,878,879,880,881,882,883,884,885,886,887,888,889,890,891,892,893,894,895,896,897,898,899,900,901,902,903,904,905,906,907,908,909,910,911,912,913,914,915,916,917,918,919,920,921,922,923,924,925,926,927,928,929,930,931,932,933,934,935,936,937,938,939,940],\"instrument\":[0,0,0,0,0,0,0,0,0,0,0,0,0,0,0,0,0,0,0,0,0,0,0,0,0,0,0,0,0,0,0,0,0,0,0,0,0,0,0,0,0,0,0,0,0,0,0,0,0,0,0,0,0,0,0,0,0,0,0,0,0,0,0,0,0,0,0,0,0,0,0,0,0,0,0,0,0,0,0,0,0,0,0,0,0,0,0,0,0,0,0,0,0,0,0,0,0,0,0,0,0,0,0,0,0,0,0,0,0,0,0,0,0,0,0,0,0,0,0,0,0,0,0,0,0,0,0,0,0,0,0,0,0,0,0,0,0,0,0,0,0,0,0,0,0,0,0,0,0,0,0,0,0,0,0,0,0,0,0,0,0,0,0,0,0,0,0,0,0,0,0,0,0,0,0,0,0,0,0,0,0,0,0,0,0,0,0,0,0,0,0,0,0,0,0,0,0,0,0,0,0,0,0,0,0,0,0,0,0,0,0,0,0,0,0,0,0,0,0,0,0,0,0,0,0,0,0,0,0,0,0,0,0,0,0,0,0,0,0,0,0,0,0,0,0,0,0,0,0,0,0,0,0,0,0,0,0,0,0,0,0,0,0,0,0,0,0,0,0,0,0,0,0,0,0,0,0,0,0,0,0,0,0,0,0,0,0,0,0,0,0,0,0,0,0,0,0,0,0,0,0,0,0,0,0,0,0,0,0,0,0,0,0,0,0,0,0,0,0,0,0,0,0,0,0,0,0,0,0,0,0,0,0,0,0,0,0,0,0,0,0,0,0,0,0,0,0,0,0,0,0,0,0,0,0,0,0,0,0,0,0,0,0,0,0,0,0,0,0,0,0,0,0,0,0,0,0,0,0,0,0,0,0,0,0,0,0,0,0,0,0,0,0,0,0,0,0,0,0,0,0,0,0,0,0,0,0,0,0,0,0,0,0,0,0,0,0,0,0,0,0,0,0,0,0,0,0,0,0,0,0,0,0,0,0,0,0,0,0,0,0,0,0,0,0,0,0,0,0,0,0,0,0,0,0,0,0,0,0,0,0,0,0,0,0,0,0,0,0,0,0,0,0,0,0,0,0,0,0,0,0,0,0,0,0,0,0,0,0,0,0,0,0,0,0,0,0,0,0,0,0,0,0,0,0,0,0,0,0,0,0,0,0,0,0,0,0,0,0,0,0,0,0,0,0,0,0,0,0,0,0,0,0,0,0,0,0,0,0,0,0,0,0,0,0,0,0,0,0,0,0,0,0,0,0,0,0,0,0,0,0,0,0,0,0,0,0,0,0,0,0,0,0,0,0,0,0,0,0,0,0,0,0,0,0,0,0,0,0,0,0,0,0,0,0,0,0,0,0,0,0,0,0,0,0,0,0,0,0,0,0,0,0,0,0,0,0,0,0,0,0,0,0,0,0,0,0,0,0,0,0,0,0,0,0,0,0,0,0,0,0,0,0,0,0,0,0,0,0,0,0,0,0,0,0,0,0,0,0,0,0,0,0,0,0,0,0,0,0,0,0,0,0,0,0,0,0,0,0,0,0,0,0,0,0,0,0,0,0,0,0,0,0,0,0,0,0,0,0,0,0,0,0,0,0,0,0,0,0,0,0,0,0,0,0,0,0,0,0,0,0,0,0,0,0,0,0,0,0,0,0,0,0,0,0,0,0,0,0,0,0,0,0,0,0,0,0,0,0,0,0,0,0,0,0,0,0,0,0,0,0,0,0,0,0,0,0,0,0,0,0,0,0,0,0,0,0,0,0,0,0,0,0,0,0,0,0,0,0,0,0,0,0,0,0,0,0,0,0,0,0,0,0,0,0,0,0,0,0,0,0,0,0,0,0,0,0,0,0,0,0,0,0,0,0,0,0,0,0,0,0,0,0,0,0,0,0,0,0,0,0,0,0,0,0,0,0,0,0,0,0,0,0,0,0,0,0,0,0,0,0,0,0,0,0,0,0,0,0,0,0,0,0,0,0,0,0,0,0,0,0,0,0,0,0,0,0,0,0,0,0,0,0,0,0,0,0,0,0,0,0,0,0,0,0,0,0,0,0,0,0,0,0,0,0,0,0,0,0,0,0,0,0,0,0,0,0,0,0,0,0,0,0,0,0,0,0,0,0,0,0],\"pitch\":[76,78,52,64,71,76,79,76,71,78,45,64,79,76,64,71,78,64,79,83,52,64,71,76,59,66,67,43,71,76,43,71,76,78,52,71,76,79,54,79,43,55,71,76,79,43,55,67,71,74,79,43,71,74,78,43,74,79,43,67,71,76,43,62,43,67,71,78,43,55,67,71,74,79,43,62,71,67,71,76,79,43,55,43,71,43,55,71,78,43,62,71,79,43,55,67,71,74,45,71,57,71,43,69,72,43,69,79,45,57,45,57,71,43,72,43,74,79,45,57,71,45,57,43,55,67,69,45,55,57,64,69,43,71,43,64,71,72,75,43,74,79,47,59,71,75,78,71,75,71,75,47,71,75,78,47,59,75,64,75,76,47,66,75,76,47,71,75,78,54,71,47,54,59,83,54,71,47,54,71,76,83,54,71,43,71,78,81,43,71,52,71,79,83,64,76,43,71,78,43,71,79,83,76,83,43,64,78,43,45,71,79,52,76,79,83,81,76,43,64,71,76,79,43,52,71,74,79,43,52,74,43,52,74,54,74,43,55,79,43,62,79,43,78,79,43,79,55,67,79,43,62,79,43,76,43,79,55,79,43,62,43,86,43,74,79,43,86,43,55,79,62,79,43,67,74,79,50,62,67,79,57,79,45,64,78,45,57,66,78,45,78,64,81,66,71,47,59,71,78,43,64,71,78,71,78,71,78,79,40,52,78,47,78,52,79,43,71,76,71,78,52,71,76,79,47,59,71,47,59,50,79,40,52,83,59,76,43,64,76,83,71,76,76,83,76,83,43,50,78,76,48,76,79,43,76,79,76,79,43,72,76,48,67,76,79,48,55,48,83,50,83,43,55,74,81,43,69,81,43,62,79,81,43,74,43,69,81,43,62,43,83,43,83,43,62,83,43,55,79,83,55,81,43,55,81,83,50,81,55,81,83,52,81,43,45,76,79,67,76,64,76,79,81,76,79,83,64,76,83,50,62,71,83,76,48,76,79,60,76,64,76,48,60,67,76,48,76,48,76,79,60,67,78,50,74,79,43,74,66,43,64,74,79,74,62,71,57,81,62,74,52,71,76,79,43,71,76,52,71,76,79,62,76,48,60,79,35,76,79,83,71,83,64,81,43,71,79,81,71,81,54,78,81,47,71,81,83,48,76,79,81,76,79,81,76,79,81,72,76,67,76,79,48,55,48,83,50,60,74,81,69,81,62,79,81,43,74,81,83,69,81,62,83,43,83,43,55,81,83,43,62,81,83,55,67,79,83,55,81,43,55,79,81,83,43,83,86,55,79,52,81,76,79,76,88,76,79,76,79,83,64,76,79,83,43,50,71,74,83,88,76,48,76,79,60,76,64,76,60,67,76,76,48,76,79,60,67,78,50,74,57,74,66,64,74,79,74,50,62,78,57,81,62,78,52,71,79,76,71,71,76,52,64,71,76,79,50,62,48,60,35,47,71,64,83,59,71,83,81,71,54,81,88,90,60,91,54,81,90,88,54,62,66,81,86,81,86,81,83,59,66,81,83,79,86,52,62,79,81,86,79,54,69,81,72,83,81,84,81,59,71,83,71,81,90,71,76,79,76,78,79,76,78,79,76,78,83,76,66,67,76,78,79,79,79,78,79,76,78,79,71,79,71,78,79,74,71,71,72,79,71,72,79,71,69,69,71,72,75,79,78,75,75,78,75,76,76,78,71,83,83,81,83,76,78,79,83,83,78,79,83,81,76,79,79,74,74,74,79,79,79,79,79,79,76,79,79,86,79,86,79,79,79,79,79,78,78,78,81,71,78,78,78,78,79,78,78,79,76,78,79,71,79,83,76,83,83,83,78,76,79,79,79,76,79,83,83,81,81,79,81,74,81,83,83,83,83,81,83,81,83,81,79,76,81,83,83,83,76,79,76,76,76,76,79,78,79,74,66,79,74,71,81,74,79,71,76,79,76,79,83,83,81,79,81,81,81,83,81,76,79,83,81,81,79,81,83,81,83,83,83,83,83,81,83,86,79,81,79,88,79,83,83,88,76,79,76,76,76,76,79,78,74,74,66,79,74,78,81,78,79,76,71,76,79,62,60,71,83,83,81,90,91,90,88,86,81,86,83,83,79,86,86,79,81,83,84,81,83,90],\"program\":[0,0,0,0,0,0,0,0,0,0,0,0,0,0,0,0,0,0,0,0,0,0,0,0,0,0,0,0,0,0,0,0,0,0,0,0,0,0,0,0,0,0,0,0,0,0,0,0,0,0,0,0,0,0,0,0,0,0,0,0,0,0,0,0,0,0,0,0,0,0,0,0,0,0,0,0,0,0,0,0,0,0,0,0,0,0,0,0,0,0,0,0,0,0,0,0,0,0,0,0,0,0,0,0,0,0,0,0,0,0,0,0,0,0,0,0,0,0,0,0,0,0,0,0,0,0,0,0,0,0,0,0,0,0,0,0,0,0,0,0,0,0,0,0,0,0,0,0,0,0,0,0,0,0,0,0,0,0,0,0,0,0,0,0,0,0,0,0,0,0,0,0,0,0,0,0,0,0,0,0,0,0,0,0,0,0,0,0,0,0,0,0,0,0,0,0,0,0,0,0,0,0,0,0,0,0,0,0,0,0,0,0,0,0,0,0,0,0,0,0,0,0,0,0,0,0,0,0,0,0,0,0,0,0,0,0,0,0,0,0,0,0,0,0,0,0,0,0,0,0,0,0,0,0,0,0,0,0,0,0,0,0,0,0,0,0,0,0,0,0,0,0,0,0,0,0,0,0,0,0,0,0,0,0,0,0,0,0,0,0,0,0,0,0,0,0,0,0,0,0,0,0,0,0,0,0,0,0,0,0,0,0,0,0,0,0,0,0,0,0,0,0,0,0,0,0,0,0,0,0,0,0,0,0,0,0,0,0,0,0,0,0,0,0,0,0,0,0,0,0,0,0,0,0,0,0,0,0,0,0,0,0,0,0,0,0,0,0,0,0,0,0,0,0,0,0,0,0,0,0,0,0,0,0,0,0,0,0,0,0,0,0,0,0,0,0,0,0,0,0,0,0,0,0,0,0,0,0,0,0,0,0,0,0,0,0,0,0,0,0,0,0,0,0,0,0,0,0,0,0,0,0,0,0,0,0,0,0,0,0,0,0,0,0,0,0,0,0,0,0,0,0,0,0,0,0,0,0,0,0,0,0,0,0,0,0,0,0,0,0,0,0,0,0,0,0,0,0,0,0,0,0,0,0,0,0,0,0,0,0,0,0,0,0,0,0,0,0,0,0,0,0,0,0,0,0,0,0,0,0,0,0,0,0,0,0,0,0,0,0,0,0,0,0,0,0,0,0,0,0,0,0,0,0,0,0,0,0,0,0,0,0,0,0,0,0,0,0,0,0,0,0,0,0,0,0,0,0,0,0,0,0,0,0,0,0,0,0,0,0,0,0,0,0,0,0,0,0,0,0,0,0,0,0,0,0,0,0,0,0,0,0,0,0,0,0,0,0,0,0,0,0,0,0,0,0,0,0,0,0,0,0,0,0,0,0,0,0,0,0,0,0,0,0,0,0,0,0,0,0,0,0,0,0,0,0,0,0,0,0,0,0,0,0,0,0,0,0,0,0,0,0,0,0,0,0,0,0,0,0,0,0,0,0,0,0,0,0,0,0,0,0,0,0,0,0,0,0,0,0,0,0,0,0,0,0,0,0,0,0,0,0,0,0,0,0,0,0,0,0,0,0,0,0,0,0,0,0,0,0,0,0,0,0,0,0,0,0,0,0,0,0,0,0,0,0,0,0,0,0,0,0,0,0,0,0,0,0,0,0,0,0,0,0,0,0,0,0,0,0,0,0,0,0,0,0,0,0,0,0,0,0,0,0,0,0,0,0,0,0,0,0,0,0,0,0,0,0,0,0,0,0,0,0,0,0,0,0,0,0,0,0,0,0,0,0,0,0,0,0,0,0,0,0,0,0,0,0,0,0,0,0,0,0,0,0,0,0,0,0,0,0,0,0,0,0,0,0,0,0,0,0,0,0,0,0,0,0,0,0,0,0,0,0,0,0,0,0,0,0,0,0,0,0,0,0,0,0,0,0,0,0,0,0,0,0,0,0,0,0,0,0,0,0,0,0,0,0,0,0,0,0,0,0,0,0,0,0,0,0,0,0,0,0,0,0,0,0,0,0,0,0,0,0,0,0,0,0,0,0,0,0,0,0,0,0,0,0,0,0,0,0,0,0,0,0,0,0,0,0,0,0,0,0,0,0,0,0,0,0,0],\"start_time\":{\"__ndarray__\":\"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\",\"dtype\":\"float64\",\"order\":\"little\",\"shape\":[941]},\"top\":{\"__ndarray__\":\"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\",\"dtype\":\"float64\",\"order\":\"little\",\"shape\":[941]},\"velocity\":[55,67,59,63,63,63,67,55,43,59,51,55,59,59,39,43,59,55,59,55,55,51,55,59,47,47,47,43,59,51,47,47,59,67,47,39,55,63,59,55,55,55,55,63,67,51,51,59,47,63,59,43,39,59,59,51,63,67,47,43,55,55,43,59,55,59,63,67,51,51,51,47,59,67,39,59,43,59,43,59,63,51,59,39,51,43,47,43,63,55,59,67,67,43,47,51,47,59,51,63,63,55,43,55,63,47,63,67,59,51,51,55,55,43,59,47,59,67,55,43,63,51,55,47,51,55,63,47,35,43,55,51,43,59,51,43,63,63,47,47,63,63,59,55,55,63,63,55,55,39,67,47,59,71,59,55,63,63,63,55,59,43,59,55,55,55,55,59,67,59,59,51,51,55,59,47,55,43,43,47,55,55,43,51,43,43,59,63,43,59,51,51,63,59,55,63,51,51,67,43,47,67,59,63,55,47,47,67,55,55,63,71,51,55,59,59,63,59,43,55,43,51,63,47,47,59,59,59,39,39,51,39,43,63,43,63,47,51,63,47,51,63,55,67,67,47,67,59,55,63,43,47,67,39,55,43,67,51,55,39,59,47,67,43,59,55,43,67,47,47,67,47,63,51,59,59,67,55,51,47,55,59,55,43,43,59,43,39,59,63,43,63,47,63,47,55,55,51,47,67,55,55,47,67,59,63,43,63,59,39,47,59,51,55,55,55,43,59,63,47,63,51,51,55,59,51,47,55,51,51,47,59,51,51,55,59,59,39,51,51,55,55,51,63,59,59,51,55,47,67,51,51,47,67,39,47,67,59,63,47,59,67,47,59,51,63,59,51,55,59,47,55,39,43,59,63,39,47,67,43,51,55,67,39,59,39,55,55,35,51,59,59,43,63,47,59,63,43,47,59,55,39,63,47,47,59,59,43,67,47,59,59,55,67,39,43,55,63,59,55,55,55,59,55,59,59,59,51,55,51,55,55,63,59,51,59,55,67,59,59,51,59,47,39,47,59,43,59,55,55,63,47,55,59,51,59,63,47,67,63,51,59,63,55,63,47,59,51,59,63,63,59,59,63,63,39,51,51,55,55,59,59,51,63,59,63,67,55,43,55,59,55,59,63,71,47,51,67,59,59,67,51,63,55,51,59,55,63,51,59,63,59,51,67,55,51,59,51,51,67,51,51,67,55,47,59,59,47,43,51,67,43,63,59,63,63,39,55,59,59,51,59,47,47,59,55,47,51,55,59,47,63,63,63,47,55,59,59,39,63,47,55,55,59,59,43,51,63,43,55,55,63,59,67,55,63,59,67,55,63,59,51,51,51,55,55,51,55,59,59,63,55,55,55,67,51,59,51,55,39,47,59,59,51,51,67,59,59,67,51,59,43,59,47,55,63,59,51,47,43,59,59,67,55,67,55,63,63,51,47,39,55,59,55,59,59,63,47,55,63,63,59,59,59,51,59,47,47,55,55,47,59,51,55,55,59,71,43,55,67,55,47,51,55,55,63,59,55,55,51,55,47,51,51,63,63,55,59,67,63,55,67,55,51,63,47,59,55,55,47,63,63,59,51,51,59,51,55,67,55,67,67,55,59,59,59,59,55,59,47,47,51,67,63,55,67,59,67,55,67,67,43,63,51,63,67,59,63,55,63,67,55,59,67,63,63,51,59,63,47,63,63,55,67,59,63,59,55,67,59,59,55,63,59,63,67,67,59,55,67,71,59,63,59,63,59,51,63,63,63,63,67,67,63,67,55,67,55,67,55,67,67,63,67,55,55,59,63,63,63,55,67,67,63,63,59,59,55,55,63,63,59,55,59,55,59,55,59,51,67,51,67,67,63,67,63,59,55,63,67,55,67,59,55,59,63,63,55,63,59,67,59,67,63,55,55,59,51,59,51,67,59,59,59,59,63,59,63,67,63,55,63,59,59,63,63,51,51,59,63,67,59,59,71,67,59,67,55,63,51,67,67,59,67,63,63,63,59,59,47,55,59,63,59,63,59,63,55,63,67,63,67,59,55,63,55,67,59,55,59,59,67,67,59,59,47,59,51,59,67,67,63,51,47,55,63,55,63,59,59,55,55,55,71,67,55,63,59,55,51,51,63,63,55,67,63,59,55,47,59,59]},\"selected\":{\"id\":\"1049\"},\"selection_policy\":{\"id\":\"1048\"}},\"id\":\"1034\",\"type\":\"ColumnDataSource\"},{\"attributes\":{},\"id\":\"1022\",\"type\":\"ResetTool\"},{\"attributes\":{},\"id\":\"1044\",\"type\":\"AllLabels\"},{\"attributes\":{},\"id\":\"1043\",\"type\":\"BasicTickFormatter\"},{\"attributes\":{\"bottom_units\":\"screen\",\"coordinates\":null,\"fill_alpha\":0.5,\"fill_color\":\"lightgrey\",\"group\":null,\"left_units\":\"screen\",\"level\":\"overlay\",\"line_alpha\":1.0,\"line_color\":\"black\",\"line_dash\":[4,4],\"line_width\":2,\"right_units\":\"screen\",\"syncable\":false,\"top_units\":\"screen\"},\"id\":\"1024\",\"type\":\"BoxAnnotation\"},{\"attributes\":{},\"id\":\"1020\",\"type\":\"PanTool\"},{\"attributes\":{},\"id\":\"1046\",\"type\":\"BasicTickFormatter\"},{\"attributes\":{},\"id\":\"1047\",\"type\":\"AllLabels\"},{\"attributes\":{\"interval\":12},\"id\":\"1033\",\"type\":\"SingleIntervalTicker\"},{\"attributes\":{\"bottom\":{\"field\":\"bottom\"},\"fill_alpha\":{\"value\":0.2},\"fill_color\":{\"value\":\"#d53e4f\"},\"hatch_alpha\":{\"value\":0.2},\"left\":{\"field\":\"start_time\"},\"line_alpha\":{\"value\":0.2},\"right\":{\"field\":\"end_time\"},\"top\":{\"field\":\"top\"}},\"id\":\"1038\",\"type\":\"Quad\"},{\"attributes\":{\"callback\":null,\"tooltips\":[[\"pitch\",\"@pitch\"],[\"program\",\"@program\"],[\"velo\",\"@velocity\"],[\"duration\",\"@duration\"],[\"start_time\",\"@start_time\"],[\"end_time\",\"@end_time\"],[\"velocity\",\"@velocity\"],[\"fill_alpha\",\"@fill_alpha\"]]},\"id\":\"1019\",\"type\":\"HoverTool\"},{\"attributes\":{\"axis\":{\"id\":\"1015\"},\"coordinates\":null,\"dimension\":1,\"group\":null,\"ticker\":{\"id\":\"1033\"}},\"id\":\"1018\",\"type\":\"Grid\"},{\"attributes\":{},\"id\":\"1048\",\"type\":\"UnionRenderers\"},{\"attributes\":{},\"id\":\"1023\",\"type\":\"SaveTool\"},{\"attributes\":{},\"id\":\"1049\",\"type\":\"Selection\"},{\"attributes\":{\"overlay\":{\"id\":\"1024\"}},\"id\":\"1021\",\"type\":\"BoxZoomTool\"},{\"attributes\":{},\"id\":\"1012\",\"type\":\"BasicTicker\"},{\"attributes\":{},\"id\":\"1005\",\"type\":\"DataRange1d\"},{\"attributes\":{\"axis_label\":\"time (sec)\",\"coordinates\":null,\"formatter\":{\"id\":\"1046\"},\"group\":null,\"major_label_policy\":{\"id\":\"1047\"},\"ticker\":{\"id\":\"1012\"}},\"id\":\"1011\",\"type\":\"LinearAxis\"}],\"root_ids\":[\"1002\"]},\"title\":\"Bokeh Application\",\"version\":\"2.4.2\"}};\n  const render_items = [{\"docid\":\"9db21eef-1eea-4f2b-85e7-70305b7e0ed9\",\"root_ids\":[\"1002\"],\"roots\":{\"1002\":\"0aeec5d4-7ee9-450d-8631-c3cc98e6b8fa\"}}];\n  root.Bokeh.embed.embed_items_notebook(docs_json, render_items);\n\n  }\n  if (root.Bokeh !== undefined) {\n    embed_document(root);\n  } else {\n    let attempts = 0;\n    const timer = setInterval(function(root) {\n      if (root.Bokeh !== undefined) {\n        clearInterval(timer);\n        embed_document(root);\n      } else {\n        attempts++;\n        if (attempts > 100) {\n          clearInterval(timer);\n          console.log(\"Bokeh: ERROR: Unable to run BokehJS code because BokehJS library is missing\");\n        }\n      }\n    }, 10, root)\n  }\n})(window);",
      "application/vnd.bokehjs_exec.v0+json": ""
     },
     "metadata": {
      "application/vnd.bokehjs_exec.v0+json": {
       "id": "1002"
      }
     },
     "output_type": "display_data"
    },
    {
     "data": {
      "text/html": [
       "\n",
       "    <div class=\"bk-root\">\n",
       "        <a href=\"https://bokeh.org\" target=\"_blank\" class=\"bk-logo bk-logo-small bk-logo-notebook\"></a>\n",
       "        <span id=\"1161\">Loading BokehJS ...</span>\n",
       "    </div>"
      ]
     },
     "metadata": {},
     "output_type": "display_data"
    },
    {
     "data": {
      "application/javascript": "\n(function(root) {\n  function now() {\n    return new Date();\n  }\n\n  const force = true;\n\n  if (typeof root._bokeh_onload_callbacks === \"undefined\" || force === true) {\n    root._bokeh_onload_callbacks = [];\n    root._bokeh_is_loading = undefined;\n  }\n\n  const JS_MIME_TYPE = 'application/javascript';\n  const HTML_MIME_TYPE = 'text/html';\n  const EXEC_MIME_TYPE = 'application/vnd.bokehjs_exec.v0+json';\n  const CLASS_NAME = 'output_bokeh rendered_html';\n\n  /**\n   * Render data to the DOM node\n   */\n  function render(props, node) {\n    const script = document.createElement(\"script\");\n    node.appendChild(script);\n  }\n\n  /**\n   * Handle when an output is cleared or removed\n   */\n  function handleClearOutput(event, handle) {\n    const cell = handle.cell;\n\n    const id = cell.output_area._bokeh_element_id;\n    const server_id = cell.output_area._bokeh_server_id;\n    // Clean up Bokeh references\n    if (id != null && id in Bokeh.index) {\n      Bokeh.index[id].model.document.clear();\n      delete Bokeh.index[id];\n    }\n\n    if (server_id !== undefined) {\n      // Clean up Bokeh references\n      const cmd_clean = \"from bokeh.io.state import curstate; print(curstate().uuid_to_server['\" + server_id + \"'].get_sessions()[0].document.roots[0]._id)\";\n      cell.notebook.kernel.execute(cmd_clean, {\n        iopub: {\n          output: function(msg) {\n            const id = msg.content.text.trim();\n            if (id in Bokeh.index) {\n              Bokeh.index[id].model.document.clear();\n              delete Bokeh.index[id];\n            }\n          }\n        }\n      });\n      // Destroy server and session\n      const cmd_destroy = \"import bokeh.io.notebook as ion; ion.destroy_server('\" + server_id + \"')\";\n      cell.notebook.kernel.execute(cmd_destroy);\n    }\n  }\n\n  /**\n   * Handle when a new output is added\n   */\n  function handleAddOutput(event, handle) {\n    const output_area = handle.output_area;\n    const output = handle.output;\n\n    // limit handleAddOutput to display_data with EXEC_MIME_TYPE content only\n    if ((output.output_type != \"display_data\") || (!Object.prototype.hasOwnProperty.call(output.data, EXEC_MIME_TYPE))) {\n      return\n    }\n\n    const toinsert = output_area.element.find(\".\" + CLASS_NAME.split(' ')[0]);\n\n    if (output.metadata[EXEC_MIME_TYPE][\"id\"] !== undefined) {\n      toinsert[toinsert.length - 1].firstChild.textContent = output.data[JS_MIME_TYPE];\n      // store reference to embed id on output_area\n      output_area._bokeh_element_id = output.metadata[EXEC_MIME_TYPE][\"id\"];\n    }\n    if (output.metadata[EXEC_MIME_TYPE][\"server_id\"] !== undefined) {\n      const bk_div = document.createElement(\"div\");\n      bk_div.innerHTML = output.data[HTML_MIME_TYPE];\n      const script_attrs = bk_div.children[0].attributes;\n      for (let i = 0; i < script_attrs.length; i++) {\n        toinsert[toinsert.length - 1].firstChild.setAttribute(script_attrs[i].name, script_attrs[i].value);\n        toinsert[toinsert.length - 1].firstChild.textContent = bk_div.children[0].textContent\n      }\n      // store reference to server id on output_area\n      output_area._bokeh_server_id = output.metadata[EXEC_MIME_TYPE][\"server_id\"];\n    }\n  }\n\n  function register_renderer(events, OutputArea) {\n\n    function append_mime(data, metadata, element) {\n      // create a DOM node to render to\n      const toinsert = this.create_output_subarea(\n        metadata,\n        CLASS_NAME,\n        EXEC_MIME_TYPE\n      );\n      this.keyboard_manager.register_events(toinsert);\n      // Render to node\n      const props = {data: data, metadata: metadata[EXEC_MIME_TYPE]};\n      render(props, toinsert[toinsert.length - 1]);\n      element.append(toinsert);\n      return toinsert\n    }\n\n    /* Handle when an output is cleared or removed */\n    events.on('clear_output.CodeCell', handleClearOutput);\n    events.on('delete.Cell', handleClearOutput);\n\n    /* Handle when a new output is added */\n    events.on('output_added.OutputArea', handleAddOutput);\n\n    /**\n     * Register the mime type and append_mime function with output_area\n     */\n    OutputArea.prototype.register_mime_type(EXEC_MIME_TYPE, append_mime, {\n      /* Is output safe? */\n      safe: true,\n      /* Index of renderer in `output_area.display_order` */\n      index: 0\n    });\n  }\n\n  // register the mime type if in Jupyter Notebook environment and previously unregistered\n  if (root.Jupyter !== undefined) {\n    const events = require('base/js/events');\n    const OutputArea = require('notebook/js/outputarea').OutputArea;\n\n    if (OutputArea.prototype.mime_types().indexOf(EXEC_MIME_TYPE) == -1) {\n      register_renderer(events, OutputArea);\n    }\n  }\n\n  \n  if (typeof (root._bokeh_timeout) === \"undefined\" || force === true) {\n    root._bokeh_timeout = Date.now() + 5000;\n    root._bokeh_failed_load = false;\n  }\n\n  const NB_LOAD_WARNING = {'data': {'text/html':\n     \"<div style='background-color: #fdd'>\\n\"+\n     \"<p>\\n\"+\n     \"BokehJS does not appear to have successfully loaded. If loading BokehJS from CDN, this \\n\"+\n     \"may be due to a slow or bad network connection. Possible fixes:\\n\"+\n     \"</p>\\n\"+\n     \"<ul>\\n\"+\n     \"<li>re-rerun `output_notebook()` to attempt to load from CDN again, or</li>\\n\"+\n     \"<li>use INLINE resources instead, as so:</li>\\n\"+\n     \"</ul>\\n\"+\n     \"<code>\\n\"+\n     \"from bokeh.resources import INLINE\\n\"+\n     \"output_notebook(resources=INLINE)\\n\"+\n     \"</code>\\n\"+\n     \"</div>\"}};\n\n  function display_loaded() {\n    const el = document.getElementById(\"1161\");\n    if (el != null) {\n      el.textContent = \"BokehJS is loading...\";\n    }\n    if (root.Bokeh !== undefined) {\n      if (el != null) {\n        el.textContent = \"BokehJS \" + root.Bokeh.version + \" successfully loaded.\";\n      }\n    } else if (Date.now() < root._bokeh_timeout) {\n      setTimeout(display_loaded, 100)\n    }\n  }\n\n\n  function run_callbacks() {\n    try {\n      root._bokeh_onload_callbacks.forEach(function(callback) {\n        if (callback != null)\n          callback();\n      });\n    } finally {\n      delete root._bokeh_onload_callbacks\n    }\n    console.debug(\"Bokeh: all callbacks have finished\");\n  }\n\n  function load_libs(css_urls, js_urls, callback) {\n    if (css_urls == null) css_urls = [];\n    if (js_urls == null) js_urls = [];\n\n    root._bokeh_onload_callbacks.push(callback);\n    if (root._bokeh_is_loading > 0) {\n      console.debug(\"Bokeh: BokehJS is being loaded, scheduling callback at\", now());\n      return null;\n    }\n    if (js_urls == null || js_urls.length === 0) {\n      run_callbacks();\n      return null;\n    }\n    console.debug(\"Bokeh: BokehJS not loaded, scheduling load and callback at\", now());\n    root._bokeh_is_loading = css_urls.length + js_urls.length;\n\n    function on_load() {\n      root._bokeh_is_loading--;\n      if (root._bokeh_is_loading === 0) {\n        console.debug(\"Bokeh: all BokehJS libraries/stylesheets loaded\");\n        run_callbacks()\n      }\n    }\n\n    function on_error(url) {\n      console.error(\"failed to load \" + url);\n    }\n\n    for (let i = 0; i < css_urls.length; i++) {\n      const url = css_urls[i];\n      const element = document.createElement(\"link\");\n      element.onload = on_load;\n      element.onerror = on_error.bind(null, url);\n      element.rel = \"stylesheet\";\n      element.type = \"text/css\";\n      element.href = url;\n      console.debug(\"Bokeh: injecting link tag for BokehJS stylesheet: \", url);\n      document.body.appendChild(element);\n    }\n\n    for (let i = 0; i < js_urls.length; i++) {\n      const url = js_urls[i];\n      const element = document.createElement('script');\n      element.onload = on_load;\n      element.onerror = on_error.bind(null, url);\n      element.async = false;\n      element.src = url;\n      console.debug(\"Bokeh: injecting script tag for BokehJS library: \", url);\n      document.head.appendChild(element);\n    }\n  };\n\n  function inject_raw_css(css) {\n    const element = document.createElement(\"style\");\n    element.appendChild(document.createTextNode(css));\n    document.body.appendChild(element);\n  }\n\n  \n  const js_urls = [\"https://cdn.bokeh.org/bokeh/release/bokeh-2.4.2.min.js\", \"https://cdn.bokeh.org/bokeh/release/bokeh-gl-2.4.2.min.js\", \"https://cdn.bokeh.org/bokeh/release/bokeh-widgets-2.4.2.min.js\", \"https://cdn.bokeh.org/bokeh/release/bokeh-tables-2.4.2.min.js\", \"https://cdn.bokeh.org/bokeh/release/bokeh-mathjax-2.4.2.min.js\"];\n  const css_urls = [];\n  \n\n  const inline_js = [\n    function(Bokeh) {\n      Bokeh.set_log_level(\"info\");\n    },\n    function(Bokeh) {\n    \n    \n    }\n  ];\n\n  function run_inline_js() {\n    \n    if (root.Bokeh !== undefined || force === true) {\n      \n    for (let i = 0; i < inline_js.length; i++) {\n      inline_js[i].call(root, root.Bokeh);\n    }\n    if (force === true) {\n        display_loaded();\n      }} else if (Date.now() < root._bokeh_timeout) {\n      setTimeout(run_inline_js, 100);\n    } else if (!root._bokeh_failed_load) {\n      console.log(\"Bokeh: BokehJS failed to load within specified timeout.\");\n      root._bokeh_failed_load = true;\n    } else if (force !== true) {\n      const cell = $(document.getElementById(\"1161\")).parents('.cell').data().cell;\n      cell.output_area.append_execute_result(NB_LOAD_WARNING)\n    }\n\n  }\n\n  if (root._bokeh_is_loading === 0) {\n    console.debug(\"Bokeh: BokehJS loaded, going straight to plotting\");\n    run_inline_js();\n  } else {\n    load_libs(css_urls, js_urls, function() {\n      console.debug(\"Bokeh: BokehJS plotting callback run at\", now());\n      run_inline_js();\n    });\n  }\n}(window));",
      "application/vnd.bokehjs_load.v0+json": ""
     },
     "metadata": {},
     "output_type": "display_data"
    },
    {
     "data": {
      "text/html": [
       "\n",
       "\n",
       "\n",
       "\n",
       "\n",
       "\n",
       "  <div class=\"bk-root\" id=\"9c3520d5-ceb4-4f70-861e-e6c45b86e978\" data-root-id=\"1112\"></div>\n"
      ]
     },
     "metadata": {},
     "output_type": "display_data"
    },
    {
     "data": {
      "application/javascript": "(function(root) {\n  function embed_document(root) {\n    \n  const docs_json = {\"3b1fc1a4-3155-4c96-9999-9b9920d9cf93\":{\"defs\":[],\"roots\":{\"references\":[{\"attributes\":{\"below\":[{\"id\":\"1121\"}],\"center\":[{\"id\":\"1124\"},{\"id\":\"1128\"}],\"height\":200,\"left\":[{\"id\":\"1125\"}],\"renderers\":[{\"id\":\"1149\"}],\"title\":{\"id\":\"1151\"},\"toolbar\":{\"id\":\"1135\"},\"width\":500,\"x_range\":{\"id\":\"1113\"},\"x_scale\":{\"id\":\"1117\"},\"y_range\":{\"id\":\"1115\"},\"y_scale\":{\"id\":\"1119\"}},\"id\":\"1112\",\"subtype\":\"Figure\",\"type\":\"Plot\"},{\"attributes\":{\"data\":{\"bottom\":{\"__ndarray__\":\"zczMzMxMRkDNzMzMzMxPQGZmZmZmplNAZmZmZmbmUkDNzMzMzMxPQGZmZmZmplFAZmZmZmZmU0DNzMzMzMxPQGZmZmZmplNAZmZmZmamVEDNzMzMzMxJQM3MzMzMzE9AZmZmZmamUUBmZmZmZuZSQM3MzMzMTE1AZmZmZmZmUEA=\",\"dtype\":\"float64\",\"order\":\"little\",\"shape\":[16]},\"duration\":{\"__ndarray__\":\"AAAAAAAAGEAAAAAAAADoPwAAAAAAAOA/AAAAAAAA0D8AAAAAAADQPwAAAAAAAOA/AAAAAAAA0D8AAAAAAADQPwAAAAAAAOg/AAAAAAAA0D8AAAAAAADgPwAAAAAAAOg/AAAAAAAA4D8AAAAAAADgPwAAAAAAANA/AAAAAAAA0D8=\",\"dtype\":\"float64\",\"order\":\"little\",\"shape\":[16]},\"end_time\":{\"__ndarray__\":\"AAAAAAAAGEAAAAAAAADoPwAAAAAAAOA/AAAAAAAA6D8AAAAAAADwPwAAAAAAAPQ/AAAAAAAA8D8AAAAAAAD0PwAAAAAAAPw/AAAAAAAA9D8AAAAAAAD8PwAAAAAAAABAAAAAAAAA/D8AAAAAAAD8PwAAAAAAAPw/AAAAAAAAAEA=\",\"dtype\":\"float64\",\"order\":\"little\",\"shape\":[16]},\"fill_alpha\":{\"__ndarray__\":\"AAAAAACA2T8AAAAAAIDbPwAAAAAAgN0/AAAAAACA3T8AAAAAAIDTPwAAAAAAgNU/AAAAAACA3T8AAAAAAIDbPwAAAAAAgN0/AAAAAACA2z8AAAAAAIDbPwAAAAAAgNk/AAAAAACA2z8AAAAAAIDdPwAAAAAAgNc/AAAAAACA1z8=\",\"dtype\":\"float64\",\"order\":\"little\",\"shape\":[16]},\"index\":[0,1,2,3,4,5,6,7,8,9,10,11,12,13,14,15],\"instrument\":[0,0,0,0,0,0,0,0,0,0,0,0,0,0,0,0],\"pitch\":[45,64,79,76,64,71,78,64,79,83,52,64,71,76,59,66],\"program\":[0,0,0,0,0,0,0,0,0,0,0,0,0,0,0,0],\"start_time\":{\"__ndarray__\":\"AAAAAAAAAAAAAAAAAAAAAAAAAAAAAAAAAAAAAAAA4D8AAAAAAADoPwAAAAAAAOg/AAAAAAAA6D8AAAAAAADwPwAAAAAAAPA/AAAAAAAA8D8AAAAAAAD0PwAAAAAAAPQ/AAAAAAAA9D8AAAAAAAD0PwAAAAAAAPg/AAAAAAAA/D8=\",\"dtype\":\"float64\",\"order\":\"little\",\"shape\":[16]},\"top\":{\"__ndarray__\":\"MzMzMzOzRkCamZmZmRlQQJqZmZmZ2VNAmpmZmZkZU0CamZmZmRlQQJqZmZmZ2VFAmpmZmZmZU0CamZmZmRlQQJqZmZmZ2VNAmpmZmZnZVEAzMzMzMzNKQJqZmZmZGVBAmpmZmZnZUUCamZmZmRlTQDMzMzMzs01AmpmZmZmZUEA=\",\"dtype\":\"float64\",\"order\":\"little\",\"shape\":[16]},\"velocity\":[51,55,59,59,39,43,59,55,59,55,55,51,55,59,47,47]},\"selected\":{\"id\":\"1159\"},\"selection_policy\":{\"id\":\"1158\"}},\"id\":\"1144\",\"type\":\"ColumnDataSource\"},{\"attributes\":{\"callback\":null,\"tooltips\":[[\"pitch\",\"@pitch\"],[\"program\",\"@program\"],[\"velo\",\"@velocity\"],[\"duration\",\"@duration\"],[\"start_time\",\"@start_time\"],[\"end_time\",\"@end_time\"],[\"velocity\",\"@velocity\"],[\"fill_alpha\",\"@fill_alpha\"]]},\"id\":\"1129\",\"type\":\"HoverTool\"},{\"attributes\":{},\"id\":\"1133\",\"type\":\"SaveTool\"},{\"attributes\":{\"axis\":{\"id\":\"1125\"},\"coordinates\":null,\"dimension\":1,\"group\":null,\"ticker\":{\"id\":\"1143\"}},\"id\":\"1128\",\"type\":\"Grid\"},{\"attributes\":{},\"id\":\"1122\",\"type\":\"BasicTicker\"},{\"attributes\":{},\"id\":\"1158\",\"type\":\"UnionRenderers\"},{\"attributes\":{},\"id\":\"1130\",\"type\":\"PanTool\"},{\"attributes\":{},\"id\":\"1159\",\"type\":\"Selection\"},{\"attributes\":{\"interval\":12},\"id\":\"1141\",\"type\":\"SingleIntervalTicker\"},{\"attributes\":{},\"id\":\"1132\",\"type\":\"ResetTool\"},{\"attributes\":{\"bottom\":{\"field\":\"bottom\"},\"fill_alpha\":{\"value\":0.1},\"fill_color\":{\"value\":\"#d53e4f\"},\"hatch_alpha\":{\"value\":0.1},\"left\":{\"field\":\"start_time\"},\"line_alpha\":{\"value\":0.1},\"right\":{\"field\":\"end_time\"},\"top\":{\"field\":\"top\"}},\"id\":\"1147\",\"type\":\"Quad\"},{\"attributes\":{\"axis_label\":\"time (sec)\",\"coordinates\":null,\"formatter\":{\"id\":\"1156\"},\"group\":null,\"major_label_policy\":{\"id\":\"1157\"},\"ticker\":{\"id\":\"1122\"}},\"id\":\"1121\",\"type\":\"LinearAxis\"},{\"attributes\":{},\"id\":\"1119\",\"type\":\"LinearScale\"},{\"attributes\":{},\"id\":\"1115\",\"type\":\"DataRange1d\"},{\"attributes\":{\"axis_label\":\"pitch (MIDI)\",\"coordinates\":null,\"formatter\":{\"id\":\"1153\"},\"group\":null,\"major_label_policy\":{\"id\":\"1154\"},\"ticker\":{\"id\":\"1141\"}},\"id\":\"1125\",\"type\":\"LinearAxis\"},{\"attributes\":{\"bottom\":{\"field\":\"bottom\"},\"fill_alpha\":{\"field\":\"fill_alpha\"},\"fill_color\":{\"value\":\"#d53e4f\"},\"left\":{\"field\":\"start_time\"},\"right\":{\"field\":\"end_time\"},\"top\":{\"field\":\"top\"}},\"id\":\"1146\",\"type\":\"Quad\"},{\"attributes\":{},\"id\":\"1154\",\"type\":\"AllLabels\"},{\"attributes\":{},\"id\":\"1156\",\"type\":\"BasicTickFormatter\"},{\"attributes\":{\"interval\":12},\"id\":\"1143\",\"type\":\"SingleIntervalTicker\"},{\"attributes\":{},\"id\":\"1113\",\"type\":\"DataRange1d\"},{\"attributes\":{},\"id\":\"1157\",\"type\":\"AllLabels\"},{\"attributes\":{},\"id\":\"1117\",\"type\":\"LinearScale\"},{\"attributes\":{\"source\":{\"id\":\"1144\"}},\"id\":\"1150\",\"type\":\"CDSView\"},{\"attributes\":{\"tools\":[{\"id\":\"1129\"},{\"id\":\"1130\"},{\"id\":\"1131\"},{\"id\":\"1132\"},{\"id\":\"1133\"}]},\"id\":\"1135\",\"type\":\"Toolbar\"},{\"attributes\":{\"bottom_units\":\"screen\",\"coordinates\":null,\"fill_alpha\":0.5,\"fill_color\":\"lightgrey\",\"group\":null,\"left_units\":\"screen\",\"level\":\"overlay\",\"line_alpha\":1.0,\"line_color\":\"black\",\"line_dash\":[4,4],\"line_width\":2,\"right_units\":\"screen\",\"syncable\":false,\"top_units\":\"screen\"},\"id\":\"1134\",\"type\":\"BoxAnnotation\"},{\"attributes\":{\"overlay\":{\"id\":\"1134\"}},\"id\":\"1131\",\"type\":\"BoxZoomTool\"},{\"attributes\":{\"coordinates\":null,\"group\":null},\"id\":\"1151\",\"type\":\"Title\"},{\"attributes\":{\"coordinates\":null,\"data_source\":{\"id\":\"1144\"},\"glyph\":{\"id\":\"1146\"},\"group\":null,\"hover_glyph\":null,\"muted_glyph\":{\"id\":\"1148\"},\"nonselection_glyph\":{\"id\":\"1147\"},\"view\":{\"id\":\"1150\"}},\"id\":\"1149\",\"type\":\"GlyphRenderer\"},{\"attributes\":{\"axis\":{\"id\":\"1121\"},\"coordinates\":null,\"group\":null,\"ticker\":null},\"id\":\"1124\",\"type\":\"Grid\"},{\"attributes\":{\"bottom\":{\"field\":\"bottom\"},\"fill_alpha\":{\"value\":0.2},\"fill_color\":{\"value\":\"#d53e4f\"},\"hatch_alpha\":{\"value\":0.2},\"left\":{\"field\":\"start_time\"},\"line_alpha\":{\"value\":0.2},\"right\":{\"field\":\"end_time\"},\"top\":{\"field\":\"top\"}},\"id\":\"1148\",\"type\":\"Quad\"},{\"attributes\":{},\"id\":\"1153\",\"type\":\"BasicTickFormatter\"}],\"root_ids\":[\"1112\"]},\"title\":\"Bokeh Application\",\"version\":\"2.4.2\"}};\n  const render_items = [{\"docid\":\"3b1fc1a4-3155-4c96-9999-9b9920d9cf93\",\"root_ids\":[\"1112\"],\"roots\":{\"1112\":\"9c3520d5-ceb4-4f70-861e-e6c45b86e978\"}}];\n  root.Bokeh.embed.embed_items_notebook(docs_json, render_items);\n\n  }\n  if (root.Bokeh !== undefined) {\n    embed_document(root);\n  } else {\n    let attempts = 0;\n    const timer = setInterval(function(root) {\n      if (root.Bokeh !== undefined) {\n        clearInterval(timer);\n        embed_document(root);\n      } else {\n        attempts++;\n        if (attempts > 100) {\n          clearInterval(timer);\n          console.log(\"Bokeh: ERROR: Unable to run BokehJS code because BokehJS library is missing\");\n        }\n      }\n    }, 10, root)\n  }\n})(window);",
      "application/vnd.bokehjs_exec.v0+json": ""
     },
     "metadata": {
      "application/vnd.bokehjs_exec.v0+json": {
       "id": "1112"
      }
     },
     "output_type": "display_data"
    }
   ],
   "source": [
    "from src.utils import miditoolkit_to_notesequence\n",
    "from note_seq import plot_sequence\n",
    "\n",
    "plot_sequence(miditoolkit_to_notesequence(midi))\n",
    "plot_sequence(miditoolkit_to_notesequence(split_midi))"
   ]
  },
  {
   "cell_type": "code",
   "execution_count": 15,
   "metadata": {},
   "outputs": [
    {
     "data": {
      "text/plain": [
       "[Instrument(program=0, is_drum=False, name=\"piano\"),\n",
       " Instrument(program=0, is_drum=False, name=\"melody\")]"
      ]
     },
     "execution_count": 15,
     "metadata": {},
     "output_type": "execute_result"
    }
   ],
   "source": [
    "from src.utils import extract_target_part\n",
    "\n",
    "midi.instruments"
   ]
  },
  {
   "cell_type": "markdown",
   "metadata": {},
   "source": [
    "# Training"
   ]
  },
  {
   "cell_type": "code",
   "execution_count": 1,
   "metadata": {},
   "outputs": [],
   "source": [
    "from src.config import MusicVAEConfig\n",
    "from argparse import Namespace\n",
    "\n",
    "args = Namespace(\n",
    "    target_instrument=\"melody\", learning_rate=1e-4, epochs=10, batchsize=32,\n",
    "    dataset_dir=\"/home/atsuya/datasets/meta_midi_dataset/MMD_MIDI/\",\n",
    "    encoding_method=\"remi\")\n",
    "config = MusicVAEConfig(args)\n",
    "tokenizer = config.tokenizer_type()\n"
   ]
  },
  {
   "cell_type": "code",
   "execution_count": 2,
   "metadata": {},
   "outputs": [],
   "source": [
    "from src.datasets import MidiDataModule, _tokenize_midi_file\n",
    "\n",
    "data = MidiDataModule(tokenizer, config, \n",
    "                      max_n_midi_files=1000,\n",
    "                      shuffle_data_pathes=True,\n",
    "                      max_seq_length=1024)\n"
   ]
  },
  {
   "cell_type": "code",
   "execution_count": 3,
   "metadata": {},
   "outputs": [
    {
     "name": "stderr",
     "output_type": "stream",
     "text": [
      "Loading MIDI files: 100%|██████████| 1000/1000 [00:10<00:00, 97.86it/s]\n"
     ]
    }
   ],
   "source": [
    "data.prepare_data()\n",
    "data.setup()"
   ]
  },
  {
   "cell_type": "markdown",
   "metadata": {},
   "source": [
    "## Data Distribution"
   ]
  },
  {
   "cell_type": "code",
   "execution_count": 4,
   "metadata": {},
   "outputs": [
    {
     "name": "stdout",
     "output_type": "stream",
     "text": [
      "count    9506.0\n",
      "mean     1024.0\n",
      "std         0.0\n",
      "min      1024.0\n",
      "25%      1024.0\n",
      "50%      1024.0\n",
      "75%      1024.0\n",
      "max      1024.0\n",
      "dtype: float64\n"
     ]
    },
    {
     "data": {
      "text/plain": [
       "<AxesSubplot:>"
      ]
     },
     "execution_count": 4,
     "metadata": {},
     "output_type": "execute_result"
    },
    {
     "data": {
      "image/png": "[encoded data removed]",
      "text/plain": [
       "<Figure size 432x288 with 1 Axes>"
      ]
     },
     "metadata": {
      "needs_background": "light"
     },
     "output_type": "display_data"
    }
   ],
   "source": [
    "import pandas as pd\n",
    "\n",
    "len_dist = pd.Series([len(t) for t in data.dataset.all_tokens])\n",
    "print(len_dist.describe())\n",
    "len_dist.hist()"
   ]
  },
  {
   "cell_type": "code",
   "execution_count": 6,
   "metadata": {},
   "outputs": [
    {
     "data": {
      "text/html": [
       "\n",
       "    <div class=\"bk-root\">\n",
       "        <a href=\"https://bokeh.org\" target=\"_blank\" class=\"bk-logo bk-logo-small bk-logo-notebook\"></a>\n",
       "        <span id=\"1161\">Loading BokehJS ...</span>\n",
       "    </div>"
      ]
     },
     "metadata": {},
     "output_type": "display_data"
    },
    {
     "data": {
      "application/javascript": "\n(function(root) {\n  function now() {\n    return new Date();\n  }\n\n  const force = true;\n\n  if (typeof root._bokeh_onload_callbacks === \"undefined\" || force === true) {\n    root._bokeh_onload_callbacks = [];\n    root._bokeh_is_loading = undefined;\n  }\n\n  const JS_MIME_TYPE = 'application/javascript';\n  const HTML_MIME_TYPE = 'text/html';\n  const EXEC_MIME_TYPE = 'application/vnd.bokehjs_exec.v0+json';\n  const CLASS_NAME = 'output_bokeh rendered_html';\n\n  /**\n   * Render data to the DOM node\n   */\n  function render(props, node) {\n    const script = document.createElement(\"script\");\n    node.appendChild(script);\n  }\n\n  /**\n   * Handle when an output is cleared or removed\n   */\n  function handleClearOutput(event, handle) {\n    const cell = handle.cell;\n\n    const id = cell.output_area._bokeh_element_id;\n    const server_id = cell.output_area._bokeh_server_id;\n    // Clean up Bokeh references\n    if (id != null && id in Bokeh.index) {\n      Bokeh.index[id].model.document.clear();\n      delete Bokeh.index[id];\n    }\n\n    if (server_id !== undefined) {\n      // Clean up Bokeh references\n      const cmd_clean = \"from bokeh.io.state import curstate; print(curstate().uuid_to_server['\" + server_id + \"'].get_sessions()[0].document.roots[0]._id)\";\n      cell.notebook.kernel.execute(cmd_clean, {\n        iopub: {\n          output: function(msg) {\n            const id = msg.content.text.trim();\n            if (id in Bokeh.index) {\n              Bokeh.index[id].model.document.clear();\n              delete Bokeh.index[id];\n            }\n          }\n        }\n      });\n      // Destroy server and session\n      const cmd_destroy = \"import bokeh.io.notebook as ion; ion.destroy_server('\" + server_id + \"')\";\n      cell.notebook.kernel.execute(cmd_destroy);\n    }\n  }\n\n  /**\n   * Handle when a new output is added\n   */\n  function handleAddOutput(event, handle) {\n    const output_area = handle.output_area;\n    const output = handle.output;\n\n    // limit handleAddOutput to display_data with EXEC_MIME_TYPE content only\n    if ((output.output_type != \"display_data\") || (!Object.prototype.hasOwnProperty.call(output.data, EXEC_MIME_TYPE))) {\n      return\n    }\n\n    const toinsert = output_area.element.find(\".\" + CLASS_NAME.split(' ')[0]);\n\n    if (output.metadata[EXEC_MIME_TYPE][\"id\"] !== undefined) {\n      toinsert[toinsert.length - 1].firstChild.textContent = output.data[JS_MIME_TYPE];\n      // store reference to embed id on output_area\n      output_area._bokeh_element_id = output.metadata[EXEC_MIME_TYPE][\"id\"];\n    }\n    if (output.metadata[EXEC_MIME_TYPE][\"server_id\"] !== undefined) {\n      const bk_div = document.createElement(\"div\");\n      bk_div.innerHTML = output.data[HTML_MIME_TYPE];\n      const script_attrs = bk_div.children[0].attributes;\n      for (let i = 0; i < script_attrs.length; i++) {\n        toinsert[toinsert.length - 1].firstChild.setAttribute(script_attrs[i].name, script_attrs[i].value);\n        toinsert[toinsert.length - 1].firstChild.textContent = bk_div.children[0].textContent\n      }\n      // store reference to server id on output_area\n      output_area._bokeh_server_id = output.metadata[EXEC_MIME_TYPE][\"server_id\"];\n    }\n  }\n\n  function register_renderer(events, OutputArea) {\n\n    function append_mime(data, metadata, element) {\n      // create a DOM node to render to\n      const toinsert = this.create_output_subarea(\n        metadata,\n        CLASS_NAME,\n        EXEC_MIME_TYPE\n      );\n      this.keyboard_manager.register_events(toinsert);\n      // Render to node\n      const props = {data: data, metadata: metadata[EXEC_MIME_TYPE]};\n      render(props, toinsert[toinsert.length - 1]);\n      element.append(toinsert);\n      return toinsert\n    }\n\n    /* Handle when an output is cleared or removed */\n    events.on('clear_output.CodeCell', handleClearOutput);\n    events.on('delete.Cell', handleClearOutput);\n\n    /* Handle when a new output is added */\n    events.on('output_added.OutputArea', handleAddOutput);\n\n    /**\n     * Register the mime type and append_mime function with output_area\n     */\n    OutputArea.prototype.register_mime_type(EXEC_MIME_TYPE, append_mime, {\n      /* Is output safe? */\n      safe: true,\n      /* Index of renderer in `output_area.display_order` */\n      index: 0\n    });\n  }\n\n  // register the mime type if in Jupyter Notebook environment and previously unregistered\n  if (root.Jupyter !== undefined) {\n    const events = require('base/js/events');\n    const OutputArea = require('notebook/js/outputarea').OutputArea;\n\n    if (OutputArea.prototype.mime_types().indexOf(EXEC_MIME_TYPE) == -1) {\n      register_renderer(events, OutputArea);\n    }\n  }\n\n  \n  if (typeof (root._bokeh_timeout) === \"undefined\" || force === true) {\n    root._bokeh_timeout = Date.now() + 5000;\n    root._bokeh_failed_load = false;\n  }\n\n  const NB_LOAD_WARNING = {'data': {'text/html':\n     \"<div style='background-color: #fdd'>\\n\"+\n     \"<p>\\n\"+\n     \"BokehJS does not appear to have successfully loaded. If loading BokehJS from CDN, this \\n\"+\n     \"may be due to a slow or bad network connection. Possible fixes:\\n\"+\n     \"</p>\\n\"+\n     \"<ul>\\n\"+\n     \"<li>re-rerun `output_notebook()` to attempt to load from CDN again, or</li>\\n\"+\n     \"<li>use INLINE resources instead, as so:</li>\\n\"+\n     \"</ul>\\n\"+\n     \"<code>\\n\"+\n     \"from bokeh.resources import INLINE\\n\"+\n     \"output_notebook(resources=INLINE)\\n\"+\n     \"</code>\\n\"+\n     \"</div>\"}};\n\n  function display_loaded() {\n    const el = document.getElementById(\"1161\");\n    if (el != null) {\n      el.textContent = \"BokehJS is loading...\";\n    }\n    if (root.Bokeh !== undefined) {\n      if (el != null) {\n        el.textContent = \"BokehJS \" + root.Bokeh.version + \" successfully loaded.\";\n      }\n    } else if (Date.now() < root._bokeh_timeout) {\n      setTimeout(display_loaded, 100)\n    }\n  }\n\n\n  function run_callbacks() {\n    try {\n      root._bokeh_onload_callbacks.forEach(function(callback) {\n        if (callback != null)\n          callback();\n      });\n    } finally {\n      delete root._bokeh_onload_callbacks\n    }\n    console.debug(\"Bokeh: all callbacks have finished\");\n  }\n\n  function load_libs(css_urls, js_urls, callback) {\n    if (css_urls == null) css_urls = [];\n    if (js_urls == null) js_urls = [];\n\n    root._bokeh_onload_callbacks.push(callback);\n    if (root._bokeh_is_loading > 0) {\n      console.debug(\"Bokeh: BokehJS is being loaded, scheduling callback at\", now());\n      return null;\n    }\n    if (js_urls == null || js_urls.length === 0) {\n      run_callbacks();\n      return null;\n    }\n    console.debug(\"Bokeh: BokehJS not loaded, scheduling load and callback at\", now());\n    root._bokeh_is_loading = css_urls.length + js_urls.length;\n\n    function on_load() {\n      root._bokeh_is_loading--;\n      if (root._bokeh_is_loading === 0) {\n        console.debug(\"Bokeh: all BokehJS libraries/stylesheets loaded\");\n        run_callbacks()\n      }\n    }\n\n    function on_error(url) {\n      console.error(\"failed to load \" + url);\n    }\n\n    for (let i = 0; i < css_urls.length; i++) {\n      const url = css_urls[i];\n      const element = document.createElement(\"link\");\n      element.onload = on_load;\n      element.onerror = on_error.bind(null, url);\n      element.rel = \"stylesheet\";\n      element.type = \"text/css\";\n      element.href = url;\n      console.debug(\"Bokeh: injecting link tag for BokehJS stylesheet: \", url);\n      document.body.appendChild(element);\n    }\n\n    for (let i = 0; i < js_urls.length; i++) {\n      const url = js_urls[i];\n      const element = document.createElement('script');\n      element.onload = on_load;\n      element.onerror = on_error.bind(null, url);\n      element.async = false;\n      element.src = url;\n      console.debug(\"Bokeh: injecting script tag for BokehJS library: \", url);\n      document.head.appendChild(element);\n    }\n  };\n\n  function inject_raw_css(css) {\n    const element = document.createElement(\"style\");\n    element.appendChild(document.createTextNode(css));\n    document.body.appendChild(element);\n  }\n\n  \n  const js_urls = [\"https://cdn.bokeh.org/bokeh/release/bokeh-2.4.2.min.js\", \"https://cdn.bokeh.org/bokeh/release/bokeh-gl-2.4.2.min.js\", \"https://cdn.bokeh.org/bokeh/release/bokeh-widgets-2.4.2.min.js\", \"https://cdn.bokeh.org/bokeh/release/bokeh-tables-2.4.2.min.js\", \"https://cdn.bokeh.org/bokeh/release/bokeh-mathjax-2.4.2.min.js\"];\n  const css_urls = [];\n  \n\n  const inline_js = [\n    function(Bokeh) {\n      Bokeh.set_log_level(\"info\");\n    },\n    function(Bokeh) {\n    \n    \n    }\n  ];\n\n  function run_inline_js() {\n    \n    if (root.Bokeh !== undefined || force === true) {\n      \n    for (let i = 0; i < inline_js.length; i++) {\n      inline_js[i].call(root, root.Bokeh);\n    }\n    if (force === true) {\n        display_loaded();\n      }} else if (Date.now() < root._bokeh_timeout) {\n      setTimeout(run_inline_js, 100);\n    } else if (!root._bokeh_failed_load) {\n      console.log(\"Bokeh: BokehJS failed to load within specified timeout.\");\n      root._bokeh_failed_load = true;\n    } else if (force !== true) {\n      const cell = $(document.getElementById(\"1161\")).parents('.cell').data().cell;\n      cell.output_area.append_execute_result(NB_LOAD_WARNING)\n    }\n\n  }\n\n  if (root._bokeh_is_loading === 0) {\n    console.debug(\"Bokeh: BokehJS loaded, going straight to plotting\");\n    run_inline_js();\n  } else {\n    load_libs(css_urls, js_urls, function() {\n      console.debug(\"Bokeh: BokehJS plotting callback run at\", now());\n      run_inline_js();\n    });\n  }\n}(window));",
      "application/vnd.bokehjs_load.v0+json": ""
     },
     "metadata": {},
     "output_type": "display_data"
    },
    {
     "data": {
      "text/html": [
       "\n",
       "\n",
       "\n",
       "\n",
       "\n",
       "\n",
       "  <div class=\"bk-root\" id=\"28d839e5-4397-488a-b0e4-5bdbfadeeedd\" data-root-id=\"1112\"></div>\n"
      ]
     },
     "metadata": {},
     "output_type": "display_data"
    },
    {
     "data": {
      "application/javascript": "(function(root) {\n  function embed_document(root) {\n    \n  const docs_json = {\"ae400fd2-ba89-4306-a164-be2d0e78223b\":{\"defs\":[],\"roots\":{\"references\":[{\"attributes\":{\"below\":[{\"id\":\"1121\"}],\"center\":[{\"id\":\"1124\"},{\"id\":\"1128\"}],\"height\":200,\"left\":[{\"id\":\"1125\"}],\"renderers\":[{\"id\":\"1149\"}],\"title\":{\"id\":\"1151\"},\"toolbar\":{\"id\":\"1135\"},\"width\":500,\"x_range\":{\"id\":\"1113\"},\"x_scale\":{\"id\":\"1117\"},\"y_range\":{\"id\":\"1115\"},\"y_scale\":{\"id\":\"1119\"}},\"id\":\"1112\",\"subtype\":\"Figure\",\"type\":\"Plot\"},{\"attributes\":{},\"id\":\"1115\",\"type\":\"DataRange1d\"},{\"attributes\":{\"interval\":12},\"id\":\"1141\",\"type\":\"SingleIntervalTicker\"},{\"attributes\":{\"coordinates\":null,\"group\":null},\"id\":\"1151\",\"type\":\"Title\"},{\"attributes\":{},\"id\":\"1154\",\"type\":\"AllLabels\"},{\"attributes\":{},\"id\":\"1113\",\"type\":\"DataRange1d\"},{\"attributes\":{},\"id\":\"1153\",\"type\":\"BasicTickFormatter\"},{\"attributes\":{\"axis_label\":\"time (sec)\",\"coordinates\":null,\"formatter\":{\"id\":\"1156\"},\"group\":null,\"major_label_policy\":{\"id\":\"1157\"},\"ticker\":{\"id\":\"1122\"}},\"id\":\"1121\",\"type\":\"LinearAxis\"},{\"attributes\":{\"source\":{\"id\":\"1144\"}},\"id\":\"1150\",\"type\":\"CDSView\"},{\"attributes\":{\"bottom\":{\"field\":\"bottom\"},\"fill_alpha\":{\"value\":0.1},\"fill_color\":{\"value\":\"#d53e4f\"},\"hatch_alpha\":{\"value\":0.1},\"left\":{\"field\":\"start_time\"},\"line_alpha\":{\"value\":0.1},\"right\":{\"field\":\"end_time\"},\"top\":{\"field\":\"top\"}},\"id\":\"1147\",\"type\":\"Quad\"},{\"attributes\":{\"coordinates\":null,\"data_source\":{\"id\":\"1144\"},\"glyph\":{\"id\":\"1146\"},\"group\":null,\"hover_glyph\":null,\"muted_glyph\":{\"id\":\"1148\"},\"nonselection_glyph\":{\"id\":\"1147\"},\"view\":{\"id\":\"1150\"}},\"id\":\"1149\",\"type\":\"GlyphRenderer\"},{\"attributes\":{\"bottom\":{\"field\":\"bottom\"},\"fill_alpha\":{\"field\":\"fill_alpha\"},\"fill_color\":{\"value\":\"#d53e4f\"},\"left\":{\"field\":\"start_time\"},\"right\":{\"field\":\"end_time\"},\"top\":{\"field\":\"top\"}},\"id\":\"1146\",\"type\":\"Quad\"},{\"attributes\":{\"axis\":{\"id\":\"1121\"},\"coordinates\":null,\"group\":null,\"ticker\":null},\"id\":\"1124\",\"type\":\"Grid\"},{\"attributes\":{\"bottom\":{\"field\":\"bottom\"},\"fill_alpha\":{\"value\":0.2},\"fill_color\":{\"value\":\"#d53e4f\"},\"hatch_alpha\":{\"value\":0.2},\"left\":{\"field\":\"start_time\"},\"line_alpha\":{\"value\":0.2},\"right\":{\"field\":\"end_time\"},\"top\":{\"field\":\"top\"}},\"id\":\"1148\",\"type\":\"Quad\"},{\"attributes\":{},\"id\":\"1130\",\"type\":\"PanTool\"},{\"attributes\":{},\"id\":\"1133\",\"type\":\"SaveTool\"},{\"attributes\":{},\"id\":\"1157\",\"type\":\"AllLabels\"},{\"attributes\":{},\"id\":\"1117\",\"type\":\"LinearScale\"},{\"attributes\":{\"bottom_units\":\"screen\",\"coordinates\":null,\"fill_alpha\":0.5,\"fill_color\":\"lightgrey\",\"group\":null,\"left_units\":\"screen\",\"level\":\"overlay\",\"line_alpha\":1.0,\"line_color\":\"black\",\"line_dash\":[4,4],\"line_width\":2,\"right_units\":\"screen\",\"syncable\":false,\"top_units\":\"screen\"},\"id\":\"1134\",\"type\":\"BoxAnnotation\"},{\"attributes\":{},\"id\":\"1119\",\"type\":\"LinearScale\"},{\"attributes\":{\"axis_label\":\"pitch (MIDI)\",\"coordinates\":null,\"formatter\":{\"id\":\"1153\"},\"group\":null,\"major_label_policy\":{\"id\":\"1154\"},\"ticker\":{\"id\":\"1141\"}},\"id\":\"1125\",\"type\":\"LinearAxis\"},{\"attributes\":{},\"id\":\"1122\",\"type\":\"BasicTicker\"},{\"attributes\":{\"data\":{\"bottom\":{\"__ndarray__\":\"ZmZmZmYmUkBmZmZmZuZSQGZmZmZm5lJAZmZmZmYmUkBmZmZmZqZRQGZmZmZmZlBAZmZmZmZmUEBmZmZmZiZRQM3MzMzMzE9AZmZmZmYmUUBmZmZmZuZSQGZmZmZmJlJAZmZmZmZmUEBmZmZmZiZRQGZmZmZmJlFAZmZmZmYmUUBmZmZmZiZRQGZmZmZmZlBAZmZmZmZmUEDNzMzMzMxPQM3MzMzMTE5A\",\"dtype\":\"float64\",\"order\":\"little\",\"shape\":[21]},\"duration\":{\"__ndarray__\":\"AAAAAAAAsD8AAAAAAACwPwAAAAAAALA/AAAAAAAAsD8AAAAAAACwPwAAAAAAALA/AAAAAAAAsD8AAAAAAACwPwAAAAAAALA/AAAAAAAAsD8AAAAAAACwPwAAAAAAALA/AAAAAAAAsD8AAAAAAACwPwAAAAAAALA/AAAAAAAAsD8AAAAAAACwPwAAAAAAALA/AAAAAAAAsD8AAAAAAACwPwAAAAAAALA/\",\"dtype\":\"float64\",\"order\":\"little\",\"shape\":[21]},\"end_time\":{\"__ndarray__\":\"AAAAAAAgJEAAAAAAAGAkQAAAAAAA4CRAAAAAAAAgJUAAAAAAAKAlQAAAAAAAICZAAAAAAABwOUAAAAAAAJA5QAAAAAAA0DlAAAAAAABwO0AAAAAAAJA7QAAAAAAA0DtAAAAAAAAAPkAAAAAAABA+QAAAAAAAMD5AAAAAAABQPkAAAAAAAHA+QAAAAAAAkD5AAAAAAACwPkAAAAAAANA+QAAAAAAA8D5A\",\"dtype\":\"float64\",\"order\":\"little\",\"shape\":[21]},\"fill_alpha\":{\"__ndarray__\":\"AAAAAADA7j8AAAAAAMDuPwAAAAAAwO4/AAAAAADA7j8AAAAAAMDvPwAAAAAAwO8/AAAAAADA7j8AAAAAAMDvPwAAAAAAwO4/AAAAAADA7j8AAAAAAMDuPwAAAAAAwO8/AAAAAADA7z8AAAAAAMDuPwAAAAAAwO4/AAAAAADA7j8AAAAAAMDuPwAAAAAAwO4/AAAAAADA7j8AAAAAAMDuPwAAAAAAwO4/\",\"dtype\":\"float64\",\"order\":\"little\",\"shape\":[21]},\"index\":[0,1,2,3,4,5,6,7,8,9,10,11,12,13,14,15,16,17,18,19,20],\"instrument\":[0,0,0,0,0,0,0,0,0,0,0,0,0,0,0,0,0,0,0,0,0],\"pitch\":[73,76,76,73,71,66,66,69,64,69,76,73,66,69,69,69,69,66,66,64,61],\"program\":[0,0,0,0,0,0,0,0,0,0,0,0,0,0,0,0,0,0,0,0,0],\"start_time\":{\"__ndarray__\":\"AAAAAAAAJEAAAAAAAEAkQAAAAAAAwCRAAAAAAAAAJUAAAAAAAIAlQAAAAAAAACZAAAAAAABgOUAAAAAAAIA5QAAAAAAAwDlAAAAAAABgO0AAAAAAAIA7QAAAAAAAwDtAAAAAAADwPUAAAAAAAAA+QAAAAAAAID5AAAAAAABAPkAAAAAAAGA+QAAAAAAAgD5AAAAAAACgPkAAAAAAAMA+QAAAAAAA4D5A\",\"dtype\":\"float64\",\"order\":\"little\",\"shape\":[21]},\"top\":{\"__ndarray__\":\"mpmZmZlZUkCamZmZmRlTQJqZmZmZGVNAmpmZmZlZUkCamZmZmdlRQJqZmZmZmVBAmpmZmZmZUECamZmZmVlRQJqZmZmZGVBAmpmZmZlZUUCamZmZmRlTQJqZmZmZWVJAmpmZmZmZUECamZmZmVlRQJqZmZmZWVFAmpmZmZlZUUCamZmZmVlRQJqZmZmZmVBAmpmZmZmZUECamZmZmRlQQDMzMzMzs05A\",\"dtype\":\"float64\",\"order\":\"little\",\"shape\":[21]},\"velocity\":[123,123,123,123,127,127,123,127,123,123,123,127,127,123,123,123,123,123,123,123,123]},\"selected\":{\"id\":\"1159\"},\"selection_policy\":{\"id\":\"1158\"}},\"id\":\"1144\",\"type\":\"ColumnDataSource\"},{\"attributes\":{\"interval\":12},\"id\":\"1143\",\"type\":\"SingleIntervalTicker\"},{\"attributes\":{\"axis\":{\"id\":\"1125\"},\"coordinates\":null,\"dimension\":1,\"group\":null,\"ticker\":{\"id\":\"1143\"}},\"id\":\"1128\",\"type\":\"Grid\"},{\"attributes\":{},\"id\":\"1132\",\"type\":\"ResetTool\"},{\"attributes\":{},\"id\":\"1156\",\"type\":\"BasicTickFormatter\"},{\"attributes\":{},\"id\":\"1158\",\"type\":\"UnionRenderers\"},{\"attributes\":{\"tools\":[{\"id\":\"1129\"},{\"id\":\"1130\"},{\"id\":\"1131\"},{\"id\":\"1132\"},{\"id\":\"1133\"}]},\"id\":\"1135\",\"type\":\"Toolbar\"},{\"attributes\":{},\"id\":\"1159\",\"type\":\"Selection\"},{\"attributes\":{\"overlay\":{\"id\":\"1134\"}},\"id\":\"1131\",\"type\":\"BoxZoomTool\"},{\"attributes\":{\"callback\":null,\"tooltips\":[[\"pitch\",\"@pitch\"],[\"program\",\"@program\"],[\"velo\",\"@velocity\"],[\"duration\",\"@duration\"],[\"start_time\",\"@start_time\"],[\"end_time\",\"@end_time\"],[\"velocity\",\"@velocity\"],[\"fill_alpha\",\"@fill_alpha\"]]},\"id\":\"1129\",\"type\":\"HoverTool\"}],\"root_ids\":[\"1112\"]},\"title\":\"Bokeh Application\",\"version\":\"2.4.2\"}};\n  const render_items = [{\"docid\":\"ae400fd2-ba89-4306-a164-be2d0e78223b\",\"root_ids\":[\"1112\"],\"roots\":{\"1112\":\"28d839e5-4397-488a-b0e4-5bdbfadeeedd\"}}];\n  root.Bokeh.embed.embed_items_notebook(docs_json, render_items);\n\n  }\n  if (root.Bokeh !== undefined) {\n    embed_document(root);\n  } else {\n    let attempts = 0;\n    const timer = setInterval(function(root) {\n      if (root.Bokeh !== undefined) {\n        clearInterval(timer);\n        embed_document(root);\n      } else {\n        attempts++;\n        if (attempts > 100) {\n          clearInterval(timer);\n          console.log(\"Bokeh: ERROR: Unable to run BokehJS code because BokehJS library is missing\");\n        }\n      }\n    }, 10, root)\n  }\n})(window);",
      "application/vnd.bokehjs_exec.v0+json": ""
     },
     "metadata": {
      "application/vnd.bokehjs_exec.v0+json": {
       "id": "1112"
      }
     },
     "output_type": "display_data"
    },
    {
     "data": {
      "text/html": [
       "\n",
       "    <div class=\"bk-root\">\n",
       "        <a href=\"https://bokeh.org\" target=\"_blank\" class=\"bk-logo bk-logo-small bk-logo-notebook\"></a>\n",
       "        <span id=\"1281\">Loading BokehJS ...</span>\n",
       "    </div>"
      ]
     },
     "metadata": {},
     "output_type": "display_data"
    },
    {
     "data": {
      "application/javascript": "\n(function(root) {\n  function now() {\n    return new Date();\n  }\n\n  const force = true;\n\n  if (typeof root._bokeh_onload_callbacks === \"undefined\" || force === true) {\n    root._bokeh_onload_callbacks = [];\n    root._bokeh_is_loading = undefined;\n  }\n\n  const JS_MIME_TYPE = 'application/javascript';\n  const HTML_MIME_TYPE = 'text/html';\n  const EXEC_MIME_TYPE = 'application/vnd.bokehjs_exec.v0+json';\n  const CLASS_NAME = 'output_bokeh rendered_html';\n\n  /**\n   * Render data to the DOM node\n   */\n  function render(props, node) {\n    const script = document.createElement(\"script\");\n    node.appendChild(script);\n  }\n\n  /**\n   * Handle when an output is cleared or removed\n   */\n  function handleClearOutput(event, handle) {\n    const cell = handle.cell;\n\n    const id = cell.output_area._bokeh_element_id;\n    const server_id = cell.output_area._bokeh_server_id;\n    // Clean up Bokeh references\n    if (id != null && id in Bokeh.index) {\n      Bokeh.index[id].model.document.clear();\n      delete Bokeh.index[id];\n    }\n\n    if (server_id !== undefined) {\n      // Clean up Bokeh references\n      const cmd_clean = \"from bokeh.io.state import curstate; print(curstate().uuid_to_server['\" + server_id + \"'].get_sessions()[0].document.roots[0]._id)\";\n      cell.notebook.kernel.execute(cmd_clean, {\n        iopub: {\n          output: function(msg) {\n            const id = msg.content.text.trim();\n            if (id in Bokeh.index) {\n              Bokeh.index[id].model.document.clear();\n              delete Bokeh.index[id];\n            }\n          }\n        }\n      });\n      // Destroy server and session\n      const cmd_destroy = \"import bokeh.io.notebook as ion; ion.destroy_server('\" + server_id + \"')\";\n      cell.notebook.kernel.execute(cmd_destroy);\n    }\n  }\n\n  /**\n   * Handle when a new output is added\n   */\n  function handleAddOutput(event, handle) {\n    const output_area = handle.output_area;\n    const output = handle.output;\n\n    // limit handleAddOutput to display_data with EXEC_MIME_TYPE content only\n    if ((output.output_type != \"display_data\") || (!Object.prototype.hasOwnProperty.call(output.data, EXEC_MIME_TYPE))) {\n      return\n    }\n\n    const toinsert = output_area.element.find(\".\" + CLASS_NAME.split(' ')[0]);\n\n    if (output.metadata[EXEC_MIME_TYPE][\"id\"] !== undefined) {\n      toinsert[toinsert.length - 1].firstChild.textContent = output.data[JS_MIME_TYPE];\n      // store reference to embed id on output_area\n      output_area._bokeh_element_id = output.metadata[EXEC_MIME_TYPE][\"id\"];\n    }\n    if (output.metadata[EXEC_MIME_TYPE][\"server_id\"] !== undefined) {\n      const bk_div = document.createElement(\"div\");\n      bk_div.innerHTML = output.data[HTML_MIME_TYPE];\n      const script_attrs = bk_div.children[0].attributes;\n      for (let i = 0; i < script_attrs.length; i++) {\n        toinsert[toinsert.length - 1].firstChild.setAttribute(script_attrs[i].name, script_attrs[i].value);\n        toinsert[toinsert.length - 1].firstChild.textContent = bk_div.children[0].textContent\n      }\n      // store reference to server id on output_area\n      output_area._bokeh_server_id = output.metadata[EXEC_MIME_TYPE][\"server_id\"];\n    }\n  }\n\n  function register_renderer(events, OutputArea) {\n\n    function append_mime(data, metadata, element) {\n      // create a DOM node to render to\n      const toinsert = this.create_output_subarea(\n        metadata,\n        CLASS_NAME,\n        EXEC_MIME_TYPE\n      );\n      this.keyboard_manager.register_events(toinsert);\n      // Render to node\n      const props = {data: data, metadata: metadata[EXEC_MIME_TYPE]};\n      render(props, toinsert[toinsert.length - 1]);\n      element.append(toinsert);\n      return toinsert\n    }\n\n    /* Handle when an output is cleared or removed */\n    events.on('clear_output.CodeCell', handleClearOutput);\n    events.on('delete.Cell', handleClearOutput);\n\n    /* Handle when a new output is added */\n    events.on('output_added.OutputArea', handleAddOutput);\n\n    /**\n     * Register the mime type and append_mime function with output_area\n     */\n    OutputArea.prototype.register_mime_type(EXEC_MIME_TYPE, append_mime, {\n      /* Is output safe? */\n      safe: true,\n      /* Index of renderer in `output_area.display_order` */\n      index: 0\n    });\n  }\n\n  // register the mime type if in Jupyter Notebook environment and previously unregistered\n  if (root.Jupyter !== undefined) {\n    const events = require('base/js/events');\n    const OutputArea = require('notebook/js/outputarea').OutputArea;\n\n    if (OutputArea.prototype.mime_types().indexOf(EXEC_MIME_TYPE) == -1) {\n      register_renderer(events, OutputArea);\n    }\n  }\n\n  \n  if (typeof (root._bokeh_timeout) === \"undefined\" || force === true) {\n    root._bokeh_timeout = Date.now() + 5000;\n    root._bokeh_failed_load = false;\n  }\n\n  const NB_LOAD_WARNING = {'data': {'text/html':\n     \"<div style='background-color: #fdd'>\\n\"+\n     \"<p>\\n\"+\n     \"BokehJS does not appear to have successfully loaded. If loading BokehJS from CDN, this \\n\"+\n     \"may be due to a slow or bad network connection. Possible fixes:\\n\"+\n     \"</p>\\n\"+\n     \"<ul>\\n\"+\n     \"<li>re-rerun `output_notebook()` to attempt to load from CDN again, or</li>\\n\"+\n     \"<li>use INLINE resources instead, as so:</li>\\n\"+\n     \"</ul>\\n\"+\n     \"<code>\\n\"+\n     \"from bokeh.resources import INLINE\\n\"+\n     \"output_notebook(resources=INLINE)\\n\"+\n     \"</code>\\n\"+\n     \"</div>\"}};\n\n  function display_loaded() {\n    const el = document.getElementById(\"1281\");\n    if (el != null) {\n      el.textContent = \"BokehJS is loading...\";\n    }\n    if (root.Bokeh !== undefined) {\n      if (el != null) {\n        el.textContent = \"BokehJS \" + root.Bokeh.version + \" successfully loaded.\";\n      }\n    } else if (Date.now() < root._bokeh_timeout) {\n      setTimeout(display_loaded, 100)\n    }\n  }\n\n\n  function run_callbacks() {\n    try {\n      root._bokeh_onload_callbacks.forEach(function(callback) {\n        if (callback != null)\n          callback();\n      });\n    } finally {\n      delete root._bokeh_onload_callbacks\n    }\n    console.debug(\"Bokeh: all callbacks have finished\");\n  }\n\n  function load_libs(css_urls, js_urls, callback) {\n    if (css_urls == null) css_urls = [];\n    if (js_urls == null) js_urls = [];\n\n    root._bokeh_onload_callbacks.push(callback);\n    if (root._bokeh_is_loading > 0) {\n      console.debug(\"Bokeh: BokehJS is being loaded, scheduling callback at\", now());\n      return null;\n    }\n    if (js_urls == null || js_urls.length === 0) {\n      run_callbacks();\n      return null;\n    }\n    console.debug(\"Bokeh: BokehJS not loaded, scheduling load and callback at\", now());\n    root._bokeh_is_loading = css_urls.length + js_urls.length;\n\n    function on_load() {\n      root._bokeh_is_loading--;\n      if (root._bokeh_is_loading === 0) {\n        console.debug(\"Bokeh: all BokehJS libraries/stylesheets loaded\");\n        run_callbacks()\n      }\n    }\n\n    function on_error(url) {\n      console.error(\"failed to load \" + url);\n    }\n\n    for (let i = 0; i < css_urls.length; i++) {\n      const url = css_urls[i];\n      const element = document.createElement(\"link\");\n      element.onload = on_load;\n      element.onerror = on_error.bind(null, url);\n      element.rel = \"stylesheet\";\n      element.type = \"text/css\";\n      element.href = url;\n      console.debug(\"Bokeh: injecting link tag for BokehJS stylesheet: \", url);\n      document.body.appendChild(element);\n    }\n\n    for (let i = 0; i < js_urls.length; i++) {\n      const url = js_urls[i];\n      const element = document.createElement('script');\n      element.onload = on_load;\n      element.onerror = on_error.bind(null, url);\n      element.async = false;\n      element.src = url;\n      console.debug(\"Bokeh: injecting script tag for BokehJS library: \", url);\n      document.head.appendChild(element);\n    }\n  };\n\n  function inject_raw_css(css) {\n    const element = document.createElement(\"style\");\n    element.appendChild(document.createTextNode(css));\n    document.body.appendChild(element);\n  }\n\n  \n  const js_urls = [\"https://cdn.bokeh.org/bokeh/release/bokeh-2.4.2.min.js\", \"https://cdn.bokeh.org/bokeh/release/bokeh-gl-2.4.2.min.js\", \"https://cdn.bokeh.org/bokeh/release/bokeh-widgets-2.4.2.min.js\", \"https://cdn.bokeh.org/bokeh/release/bokeh-tables-2.4.2.min.js\", \"https://cdn.bokeh.org/bokeh/release/bokeh-mathjax-2.4.2.min.js\"];\n  const css_urls = [];\n  \n\n  const inline_js = [\n    function(Bokeh) {\n      Bokeh.set_log_level(\"info\");\n    },\n    function(Bokeh) {\n    \n    \n    }\n  ];\n\n  function run_inline_js() {\n    \n    if (root.Bokeh !== undefined || force === true) {\n      \n    for (let i = 0; i < inline_js.length; i++) {\n      inline_js[i].call(root, root.Bokeh);\n    }\n    if (force === true) {\n        display_loaded();\n      }} else if (Date.now() < root._bokeh_timeout) {\n      setTimeout(run_inline_js, 100);\n    } else if (!root._bokeh_failed_load) {\n      console.log(\"Bokeh: BokehJS failed to load within specified timeout.\");\n      root._bokeh_failed_load = true;\n    } else if (force !== true) {\n      const cell = $(document.getElementById(\"1281\")).parents('.cell').data().cell;\n      cell.output_area.append_execute_result(NB_LOAD_WARNING)\n    }\n\n  }\n\n  if (root._bokeh_is_loading === 0) {\n    console.debug(\"Bokeh: BokehJS loaded, going straight to plotting\");\n    run_inline_js();\n  } else {\n    load_libs(css_urls, js_urls, function() {\n      console.debug(\"Bokeh: BokehJS plotting callback run at\", now());\n      run_inline_js();\n    });\n  }\n}(window));",
      "application/vnd.bokehjs_load.v0+json": ""
     },
     "metadata": {},
     "output_type": "display_data"
    },
    {
     "data": {
      "text/html": [
       "\n",
       "\n",
       "\n",
       "\n",
       "\n",
       "\n",
       "  <div class=\"bk-root\" id=\"9b43bd9e-8539-440e-9952-9afe0747f9b6\" data-root-id=\"1232\"></div>\n"
      ]
     },
     "metadata": {},
     "output_type": "display_data"
    },
    {
     "data": {
      "application/javascript": "(function(root) {\n  function embed_document(root) {\n    \n  const docs_json = {\"382bc575-9d4d-4022-96ba-008a39f32e17\":{\"defs\":[],\"roots\":{\"references\":[{\"attributes\":{\"below\":[{\"id\":\"1241\"}],\"center\":[{\"id\":\"1244\"},{\"id\":\"1248\"}],\"height\":200,\"left\":[{\"id\":\"1245\"}],\"renderers\":[{\"id\":\"1269\"}],\"title\":{\"id\":\"1271\"},\"toolbar\":{\"id\":\"1255\"},\"width\":500,\"x_range\":{\"id\":\"1233\"},\"x_scale\":{\"id\":\"1237\"},\"y_range\":{\"id\":\"1235\"},\"y_scale\":{\"id\":\"1239\"}},\"id\":\"1232\",\"subtype\":\"Figure\",\"type\":\"Plot\"},{\"attributes\":{},\"id\":\"1253\",\"type\":\"SaveTool\"},{\"attributes\":{\"bottom_units\":\"screen\",\"coordinates\":null,\"fill_alpha\":0.5,\"fill_color\":\"lightgrey\",\"group\":null,\"left_units\":\"screen\",\"level\":\"overlay\",\"line_alpha\":1.0,\"line_color\":\"black\",\"line_dash\":[4,4],\"line_width\":2,\"right_units\":\"screen\",\"syncable\":false,\"top_units\":\"screen\"},\"id\":\"1254\",\"type\":\"BoxAnnotation\"},{\"attributes\":{\"bottom\":{\"field\":\"bottom\"},\"fill_alpha\":{\"value\":0.1},\"fill_color\":{\"value\":\"#d53e4f\"},\"hatch_alpha\":{\"value\":0.1},\"left\":{\"field\":\"start_time\"},\"line_alpha\":{\"value\":0.1},\"right\":{\"field\":\"end_time\"},\"top\":{\"field\":\"top\"}},\"id\":\"1267\",\"type\":\"Quad\"},{\"attributes\":{},\"id\":\"1242\",\"type\":\"BasicTicker\"},{\"attributes\":{},\"id\":\"1278\",\"type\":\"UnionRenderers\"},{\"attributes\":{},\"id\":\"1237\",\"type\":\"LinearScale\"},{\"attributes\":{\"source\":{\"id\":\"1264\"}},\"id\":\"1270\",\"type\":\"CDSView\"},{\"attributes\":{\"axis_label\":\"pitch (MIDI)\",\"coordinates\":null,\"formatter\":{\"id\":\"1273\"},\"group\":null,\"major_label_policy\":{\"id\":\"1274\"},\"ticker\":{\"id\":\"1261\"}},\"id\":\"1245\",\"type\":\"LinearAxis\"},{\"attributes\":{\"coordinates\":null,\"data_source\":{\"id\":\"1264\"},\"glyph\":{\"id\":\"1266\"},\"group\":null,\"hover_glyph\":null,\"muted_glyph\":{\"id\":\"1268\"},\"nonselection_glyph\":{\"id\":\"1267\"},\"view\":{\"id\":\"1270\"}},\"id\":\"1269\",\"type\":\"GlyphRenderer\"},{\"attributes\":{\"axis_label\":\"time (sec)\",\"coordinates\":null,\"formatter\":{\"id\":\"1276\"},\"group\":null,\"major_label_policy\":{\"id\":\"1277\"},\"ticker\":{\"id\":\"1242\"}},\"id\":\"1241\",\"type\":\"LinearAxis\"},{\"attributes\":{\"data\":{\"bottom\":{\"__ndarray__\":\"ZmZmZmYmUUBmZmZmZiZSQGZmZmZm5lJAZmZmZmYmUUBmZmZmZiZUQGZmZmZmJlFAZmZmZmbmUkBmZmZmZiZSQGZmZmZmplBAZmZmZmbmUUBmZmZmZuZSQGZmZmZmplBAZmZmZmamU0BmZmZmZqZQQGZmZmZm5lJAZmZmZmbmUUBmZmZmZqZQQGZmZmZmplFAZmZmZmZmUkBmZmZmZqZQQGZmZmZmplNAZmZmZmZmUkBmZmZmZiZRQGZmZmZmZlJAZmZmZmZmU0BmZmZmZiZRQGZmZmZmJlRAZmZmZmYmUUBmZmZmZmZTQGZmZmZmZlJAZmZmZmYmUUBmZmZmZuZRQGZmZmZmJlNAZmZmZmYmUUBmZmZmZiZUQGZmZmZmJlFAZmZmZmYmU0BmZmZmZuZRQGZmZmZmJlFAZmZmZmbmUUBmZmZmZqZQQGZmZmZmplFAZmZmZmbmUkBmZmZmZqZQQGZmZmZmplNAZmZmZmamUEA=\",\"dtype\":\"float64\",\"order\":\"little\",\"shape\":[46]},\"duration\":{\"__ndarray__\":\"AAAAAAAA0D8AAAAAAADQPwAAAAAAANA/AAAAAAAA0D8AAAAAAADQPwAAAAAAANA/AAAAAAAA0D8AAAAAAADQPwAAAAAAANA/AAAAAAAA0D8AAAAAAADQPwAAAAAAANA/AAAAAAAA0D8AAAAAAADQPwAAAAAAANA/AAAAAAAA0D8AAAAAAADQPwAAAAAAANA/AAAAAAAA0D8AAAAAAADQPwAAAAAAANA/AAAAAAAA0D8AAAAAAADQPwAAAAAAANA/AAAAAAAA0D8AAAAAAADQPwAAAAAAANA/AAAAAAAA0D8AAAAAAADQPwAAAAAAANA/AAAAAAAA0D8AAAAAAADQPwAAAAAAANA/AAAAAAAA0D8AAAAAAADQPwAAAAAAANA/AAAAAAAA0D8AAAAAAADQPwAAAAAAANA/AAAAAAAA0D8AAAAAAADQPwAAAAAAANA/AAAAAAAA0D8AAAAAAADQPwAAAAAAANA/AAAAAAAA0D8=\",\"dtype\":\"float64\",\"order\":\"little\",\"shape\":[46]},\"end_time\":{\"__ndarray__\":\"AAAAAADANEAAAAAAAAA1QAAAAAAAQDVAAAAAAACANUAAAAAAAMA1QAAAAAAAADZAAAAAAABANkAAAAAAAIA2QAAAAAAAwDZAAAAAAAAAN0AAAAAAAEA3QAAAAAAAgDdAAAAAAADAN0AAAAAAAAA4QAAAAAAAQDhAAAAAAACAOEAAAAAAAMA4QAAAAAAAADlAAAAAAABAOUAAAAAAAIA5QAAAAAAAwDlAAAAAAAAAOkAAAAAAAEA6QAAAAAAAgDpAAAAAAADAOkAAAAAAAAA7QAAAAAAAQDtAAAAAAACAO0AAAAAAAMA7QAAAAAAAADxAAAAAAABAPEAAAAAAAIA8QAAAAAAAwDxAAAAAAAAAPUAAAAAAAEA9QAAAAAAAgD1AAAAAAADAPUAAAAAAAAA+QAAAAAAAQD5AAAAAAACAPkAAAAAAAMA+QAAAAAAAAD9AAAAAAABAP0AAAAAAAIA/QAAAAAAAwD9AAAAAAAAAQEA=\",\"dtype\":\"float64\",\"order\":\"little\",\"shape\":[46]},\"fill_alpha\":{\"__ndarray__\":\"AAAAAAAA8D8AAAAAAADwPwAAAAAAAPA/AAAAAAAA8D8AAAAAAADwPwAAAAAAAPA/AAAAAAAA8D8AAAAAAADwPwAAAAAAAPA/AAAAAAAA8D8AAAAAAADwPwAAAAAAAPA/AAAAAAAA8D8AAAAAAADwPwAAAAAAAPA/AAAAAAAA8D8AAAAAAADwPwAAAAAAAPA/AAAAAAAA8D8AAAAAAADwPwAAAAAAAPA/AAAAAAAA8D8AAAAAAADwPwAAAAAAAPA/AAAAAAAA8D8AAAAAAADwPwAAAAAAAPA/AAAAAAAA8D8AAAAAAADwPwAAAAAAAPA/AAAAAAAA8D8AAAAAAADwPwAAAAAAAPA/AAAAAAAA8D8AAAAAAADwPwAAAAAAAPA/AAAAAAAA8D8AAAAAAADwPwAAAAAAAPA/AAAAAAAA8D8AAAAAAADwPwAAAAAAAPA/AAAAAAAA8D8AAAAAAADwPwAAAAAAAPA/AAAAAAAA8D8=\",\"dtype\":\"float64\",\"order\":\"little\",\"shape\":[46]},\"index\":[0,1,2,3,4,5,6,7,8,9,10,11,12,13,14,15,16,17,18,19,20,21,22,23,24,25,26,27,28,29,30,31,32,33,34,35,36,37,38,39,40,41,42,43,44,45],\"instrument\":[0,0,0,0,0,0,0,0,0,0,0,0,0,0,0,0,0,0,0,0,0,0,0,0,0,0,0,0,0,0,0,0,0,0,0,0,0,0,0,0,0,0,0,0,0,0],\"pitch\":[69,73,76,69,81,69,76,73,67,72,76,67,79,67,76,72,67,71,74,67,79,74,69,74,78,69,81,69,78,74,69,72,77,69,81,69,77,72,69,72,67,71,76,67,79,67],\"program\":[0,0,0,0,0,0,0,0,0,0,0,0,0,0,0,0,0,0,0,0,0,0,0,0,0,0,0,0,0,0,0,0,0,0,0,0,0,0,0,0,0,0,0,0,0,0],\"start_time\":{\"__ndarray__\":\"AAAAAACANEAAAAAAAMA0QAAAAAAAADVAAAAAAABANUAAAAAAAIA1QAAAAAAAwDVAAAAAAAAANkAAAAAAAEA2QAAAAAAAgDZAAAAAAADANkAAAAAAAAA3QAAAAAAAQDdAAAAAAACAN0AAAAAAAMA3QAAAAAAAADhAAAAAAABAOEAAAAAAAIA4QAAAAAAAwDhAAAAAAAAAOUAAAAAAAEA5QAAAAAAAgDlAAAAAAADAOUAAAAAAAAA6QAAAAAAAQDpAAAAAAACAOkAAAAAAAMA6QAAAAAAAADtAAAAAAABAO0AAAAAAAIA7QAAAAAAAwDtAAAAAAAAAPEAAAAAAAEA8QAAAAAAAgDxAAAAAAADAPEAAAAAAAAA9QAAAAAAAQD1AAAAAAACAPUAAAAAAAMA9QAAAAAAAAD5AAAAAAABAPkAAAAAAAIA+QAAAAAAAwD5AAAAAAAAAP0AAAAAAAEA/QAAAAAAAgD9AAAAAAADAP0A=\",\"dtype\":\"float64\",\"order\":\"little\",\"shape\":[46]},\"top\":{\"__ndarray__\":\"mpmZmZlZUUCamZmZmVlSQJqZmZmZGVNAmpmZmZlZUUCamZmZmVlUQJqZmZmZWVFAmpmZmZkZU0CamZmZmVlSQJqZmZmZ2VBAmpmZmZkZUkCamZmZmRlTQJqZmZmZ2VBAmpmZmZnZU0CamZmZmdlQQJqZmZmZGVNAmpmZmZkZUkCamZmZmdlQQJqZmZmZ2VFAmpmZmZmZUkCamZmZmdlQQJqZmZmZ2VNAmpmZmZmZUkCamZmZmVlRQJqZmZmZmVJAmpmZmZmZU0CamZmZmVlRQJqZmZmZWVRAmpmZmZlZUUCamZmZmZlTQJqZmZmZmVJAmpmZmZlZUUCamZmZmRlSQJqZmZmZWVNAmpmZmZlZUUCamZmZmVlUQJqZmZmZWVFAmpmZmZlZU0CamZmZmRlSQJqZmZmZWVFAmpmZmZkZUkCamZmZmdlQQJqZmZmZ2VFAmpmZmZkZU0CamZmZmdlQQJqZmZmZ2VNAmpmZmZnZUEA=\",\"dtype\":\"float64\",\"order\":\"little\",\"shape\":[46]},\"velocity\":[99,99,99,99,99,99,99,99,99,99,99,99,99,99,99,99,99,99,99,99,99,99,99,99,99,99,99,99,99,99,99,99,99,99,99,99,99,99,99,99,99,99,99,99,99,99]},\"selected\":{\"id\":\"1279\"},\"selection_policy\":{\"id\":\"1278\"}},\"id\":\"1264\",\"type\":\"ColumnDataSource\"},{\"attributes\":{\"axis\":{\"id\":\"1241\"},\"coordinates\":null,\"group\":null,\"ticker\":null},\"id\":\"1244\",\"type\":\"Grid\"},{\"attributes\":{\"coordinates\":null,\"group\":null},\"id\":\"1271\",\"type\":\"Title\"},{\"attributes\":{},\"id\":\"1252\",\"type\":\"ResetTool\"},{\"attributes\":{\"interval\":12},\"id\":\"1261\",\"type\":\"SingleIntervalTicker\"},{\"attributes\":{},\"id\":\"1235\",\"type\":\"DataRange1d\"},{\"attributes\":{},\"id\":\"1276\",\"type\":\"BasicTickFormatter\"},{\"attributes\":{\"bottom\":{\"field\":\"bottom\"},\"fill_alpha\":{\"field\":\"fill_alpha\"},\"fill_color\":{\"value\":\"#d53e4f\"},\"left\":{\"field\":\"start_time\"},\"right\":{\"field\":\"end_time\"},\"top\":{\"field\":\"top\"}},\"id\":\"1266\",\"type\":\"Quad\"},{\"attributes\":{\"callback\":null,\"tooltips\":[[\"pitch\",\"@pitch\"],[\"program\",\"@program\"],[\"velo\",\"@velocity\"],[\"duration\",\"@duration\"],[\"start_time\",\"@start_time\"],[\"end_time\",\"@end_time\"],[\"velocity\",\"@velocity\"],[\"fill_alpha\",\"@fill_alpha\"]]},\"id\":\"1249\",\"type\":\"HoverTool\"},{\"attributes\":{\"overlay\":{\"id\":\"1254\"}},\"id\":\"1251\",\"type\":\"BoxZoomTool\"},{\"attributes\":{},\"id\":\"1273\",\"type\":\"BasicTickFormatter\"},{\"attributes\":{},\"id\":\"1274\",\"type\":\"AllLabels\"},{\"attributes\":{\"tools\":[{\"id\":\"1249\"},{\"id\":\"1250\"},{\"id\":\"1251\"},{\"id\":\"1252\"},{\"id\":\"1253\"}]},\"id\":\"1255\",\"type\":\"Toolbar\"},{\"attributes\":{\"bottom\":{\"field\":\"bottom\"},\"fill_alpha\":{\"value\":0.2},\"fill_color\":{\"value\":\"#d53e4f\"},\"hatch_alpha\":{\"value\":0.2},\"left\":{\"field\":\"start_time\"},\"line_alpha\":{\"value\":0.2},\"right\":{\"field\":\"end_time\"},\"top\":{\"field\":\"top\"}},\"id\":\"1268\",\"type\":\"Quad\"},{\"attributes\":{\"interval\":12},\"id\":\"1263\",\"type\":\"SingleIntervalTicker\"},{\"attributes\":{},\"id\":\"1239\",\"type\":\"LinearScale\"},{\"attributes\":{},\"id\":\"1279\",\"type\":\"Selection\"},{\"attributes\":{\"axis\":{\"id\":\"1245\"},\"coordinates\":null,\"dimension\":1,\"group\":null,\"ticker\":{\"id\":\"1263\"}},\"id\":\"1248\",\"type\":\"Grid\"},{\"attributes\":{},\"id\":\"1277\",\"type\":\"AllLabels\"},{\"attributes\":{},\"id\":\"1233\",\"type\":\"DataRange1d\"},{\"attributes\":{},\"id\":\"1250\",\"type\":\"PanTool\"}],\"root_ids\":[\"1232\"]},\"title\":\"Bokeh Application\",\"version\":\"2.4.2\"}};\n  const render_items = [{\"docid\":\"382bc575-9d4d-4022-96ba-008a39f32e17\",\"root_ids\":[\"1232\"],\"roots\":{\"1232\":\"9b43bd9e-8539-440e-9952-9afe0747f9b6\"}}];\n  root.Bokeh.embed.embed_items_notebook(docs_json, render_items);\n\n  }\n  if (root.Bokeh !== undefined) {\n    embed_document(root);\n  } else {\n    let attempts = 0;\n    const timer = setInterval(function(root) {\n      if (root.Bokeh !== undefined) {\n        clearInterval(timer);\n        embed_document(root);\n      } else {\n        attempts++;\n        if (attempts > 100) {\n          clearInterval(timer);\n          console.log(\"Bokeh: ERROR: Unable to run BokehJS code because BokehJS library is missing\");\n        }\n      }\n    }, 10, root)\n  }\n})(window);",
      "application/vnd.bokehjs_exec.v0+json": ""
     },
     "metadata": {
      "application/vnd.bokehjs_exec.v0+json": {
       "id": "1232"
      }
     },
     "output_type": "display_data"
    },
    {
     "data": {
      "text/html": [
       "\n",
       "    <div class=\"bk-root\">\n",
       "        <a href=\"https://bokeh.org\" target=\"_blank\" class=\"bk-logo bk-logo-small bk-logo-notebook\"></a>\n",
       "        <span id=\"1411\">Loading BokehJS ...</span>\n",
       "    </div>"
      ]
     },
     "metadata": {},
     "output_type": "display_data"
    },
    {
     "data": {
      "application/javascript": "\n(function(root) {\n  function now() {\n    return new Date();\n  }\n\n  const force = true;\n\n  if (typeof root._bokeh_onload_callbacks === \"undefined\" || force === true) {\n    root._bokeh_onload_callbacks = [];\n    root._bokeh_is_loading = undefined;\n  }\n\n  const JS_MIME_TYPE = 'application/javascript';\n  const HTML_MIME_TYPE = 'text/html';\n  const EXEC_MIME_TYPE = 'application/vnd.bokehjs_exec.v0+json';\n  const CLASS_NAME = 'output_bokeh rendered_html';\n\n  /**\n   * Render data to the DOM node\n   */\n  function render(props, node) {\n    const script = document.createElement(\"script\");\n    node.appendChild(script);\n  }\n\n  /**\n   * Handle when an output is cleared or removed\n   */\n  function handleClearOutput(event, handle) {\n    const cell = handle.cell;\n\n    const id = cell.output_area._bokeh_element_id;\n    const server_id = cell.output_area._bokeh_server_id;\n    // Clean up Bokeh references\n    if (id != null && id in Bokeh.index) {\n      Bokeh.index[id].model.document.clear();\n      delete Bokeh.index[id];\n    }\n\n    if (server_id !== undefined) {\n      // Clean up Bokeh references\n      const cmd_clean = \"from bokeh.io.state import curstate; print(curstate().uuid_to_server['\" + server_id + \"'].get_sessions()[0].document.roots[0]._id)\";\n      cell.notebook.kernel.execute(cmd_clean, {\n        iopub: {\n          output: function(msg) {\n            const id = msg.content.text.trim();\n            if (id in Bokeh.index) {\n              Bokeh.index[id].model.document.clear();\n              delete Bokeh.index[id];\n            }\n          }\n        }\n      });\n      // Destroy server and session\n      const cmd_destroy = \"import bokeh.io.notebook as ion; ion.destroy_server('\" + server_id + \"')\";\n      cell.notebook.kernel.execute(cmd_destroy);\n    }\n  }\n\n  /**\n   * Handle when a new output is added\n   */\n  function handleAddOutput(event, handle) {\n    const output_area = handle.output_area;\n    const output = handle.output;\n\n    // limit handleAddOutput to display_data with EXEC_MIME_TYPE content only\n    if ((output.output_type != \"display_data\") || (!Object.prototype.hasOwnProperty.call(output.data, EXEC_MIME_TYPE))) {\n      return\n    }\n\n    const toinsert = output_area.element.find(\".\" + CLASS_NAME.split(' ')[0]);\n\n    if (output.metadata[EXEC_MIME_TYPE][\"id\"] !== undefined) {\n      toinsert[toinsert.length - 1].firstChild.textContent = output.data[JS_MIME_TYPE];\n      // store reference to embed id on output_area\n      output_area._bokeh_element_id = output.metadata[EXEC_MIME_TYPE][\"id\"];\n    }\n    if (output.metadata[EXEC_MIME_TYPE][\"server_id\"] !== undefined) {\n      const bk_div = document.createElement(\"div\");\n      bk_div.innerHTML = output.data[HTML_MIME_TYPE];\n      const script_attrs = bk_div.children[0].attributes;\n      for (let i = 0; i < script_attrs.length; i++) {\n        toinsert[toinsert.length - 1].firstChild.setAttribute(script_attrs[i].name, script_attrs[i].value);\n        toinsert[toinsert.length - 1].firstChild.textContent = bk_div.children[0].textContent\n      }\n      // store reference to server id on output_area\n      output_area._bokeh_server_id = output.metadata[EXEC_MIME_TYPE][\"server_id\"];\n    }\n  }\n\n  function register_renderer(events, OutputArea) {\n\n    function append_mime(data, metadata, element) {\n      // create a DOM node to render to\n      const toinsert = this.create_output_subarea(\n        metadata,\n        CLASS_NAME,\n        EXEC_MIME_TYPE\n      );\n      this.keyboard_manager.register_events(toinsert);\n      // Render to node\n      const props = {data: data, metadata: metadata[EXEC_MIME_TYPE]};\n      render(props, toinsert[toinsert.length - 1]);\n      element.append(toinsert);\n      return toinsert\n    }\n\n    /* Handle when an output is cleared or removed */\n    events.on('clear_output.CodeCell', handleClearOutput);\n    events.on('delete.Cell', handleClearOutput);\n\n    /* Handle when a new output is added */\n    events.on('output_added.OutputArea', handleAddOutput);\n\n    /**\n     * Register the mime type and append_mime function with output_area\n     */\n    OutputArea.prototype.register_mime_type(EXEC_MIME_TYPE, append_mime, {\n      /* Is output safe? */\n      safe: true,\n      /* Index of renderer in `output_area.display_order` */\n      index: 0\n    });\n  }\n\n  // register the mime type if in Jupyter Notebook environment and previously unregistered\n  if (root.Jupyter !== undefined) {\n    const events = require('base/js/events');\n    const OutputArea = require('notebook/js/outputarea').OutputArea;\n\n    if (OutputArea.prototype.mime_types().indexOf(EXEC_MIME_TYPE) == -1) {\n      register_renderer(events, OutputArea);\n    }\n  }\n\n  \n  if (typeof (root._bokeh_timeout) === \"undefined\" || force === true) {\n    root._bokeh_timeout = Date.now() + 5000;\n    root._bokeh_failed_load = false;\n  }\n\n  const NB_LOAD_WARNING = {'data': {'text/html':\n     \"<div style='background-color: #fdd'>\\n\"+\n     \"<p>\\n\"+\n     \"BokehJS does not appear to have successfully loaded. If loading BokehJS from CDN, this \\n\"+\n     \"may be due to a slow or bad network connection. Possible fixes:\\n\"+\n     \"</p>\\n\"+\n     \"<ul>\\n\"+\n     \"<li>re-rerun `output_notebook()` to attempt to load from CDN again, or</li>\\n\"+\n     \"<li>use INLINE resources instead, as so:</li>\\n\"+\n     \"</ul>\\n\"+\n     \"<code>\\n\"+\n     \"from bokeh.resources import INLINE\\n\"+\n     \"output_notebook(resources=INLINE)\\n\"+\n     \"</code>\\n\"+\n     \"</div>\"}};\n\n  function display_loaded() {\n    const el = document.getElementById(\"1411\");\n    if (el != null) {\n      el.textContent = \"BokehJS is loading...\";\n    }\n    if (root.Bokeh !== undefined) {\n      if (el != null) {\n        el.textContent = \"BokehJS \" + root.Bokeh.version + \" successfully loaded.\";\n      }\n    } else if (Date.now() < root._bokeh_timeout) {\n      setTimeout(display_loaded, 100)\n    }\n  }\n\n\n  function run_callbacks() {\n    try {\n      root._bokeh_onload_callbacks.forEach(function(callback) {\n        if (callback != null)\n          callback();\n      });\n    } finally {\n      delete root._bokeh_onload_callbacks\n    }\n    console.debug(\"Bokeh: all callbacks have finished\");\n  }\n\n  function load_libs(css_urls, js_urls, callback) {\n    if (css_urls == null) css_urls = [];\n    if (js_urls == null) js_urls = [];\n\n    root._bokeh_onload_callbacks.push(callback);\n    if (root._bokeh_is_loading > 0) {\n      console.debug(\"Bokeh: BokehJS is being loaded, scheduling callback at\", now());\n      return null;\n    }\n    if (js_urls == null || js_urls.length === 0) {\n      run_callbacks();\n      return null;\n    }\n    console.debug(\"Bokeh: BokehJS not loaded, scheduling load and callback at\", now());\n    root._bokeh_is_loading = css_urls.length + js_urls.length;\n\n    function on_load() {\n      root._bokeh_is_loading--;\n      if (root._bokeh_is_loading === 0) {\n        console.debug(\"Bokeh: all BokehJS libraries/stylesheets loaded\");\n        run_callbacks()\n      }\n    }\n\n    function on_error(url) {\n      console.error(\"failed to load \" + url);\n    }\n\n    for (let i = 0; i < css_urls.length; i++) {\n      const url = css_urls[i];\n      const element = document.createElement(\"link\");\n      element.onload = on_load;\n      element.onerror = on_error.bind(null, url);\n      element.rel = \"stylesheet\";\n      element.type = \"text/css\";\n      element.href = url;\n      console.debug(\"Bokeh: injecting link tag for BokehJS stylesheet: \", url);\n      document.body.appendChild(element);\n    }\n\n    for (let i = 0; i < js_urls.length; i++) {\n      const url = js_urls[i];\n      const element = document.createElement('script');\n      element.onload = on_load;\n      element.onerror = on_error.bind(null, url);\n      element.async = false;\n      element.src = url;\n      console.debug(\"Bokeh: injecting script tag for BokehJS library: \", url);\n      document.head.appendChild(element);\n    }\n  };\n\n  function inject_raw_css(css) {\n    const element = document.createElement(\"style\");\n    element.appendChild(document.createTextNode(css));\n    document.body.appendChild(element);\n  }\n\n  \n  const js_urls = [\"https://cdn.bokeh.org/bokeh/release/bokeh-2.4.2.min.js\", \"https://cdn.bokeh.org/bokeh/release/bokeh-gl-2.4.2.min.js\", \"https://cdn.bokeh.org/bokeh/release/bokeh-widgets-2.4.2.min.js\", \"https://cdn.bokeh.org/bokeh/release/bokeh-tables-2.4.2.min.js\", \"https://cdn.bokeh.org/bokeh/release/bokeh-mathjax-2.4.2.min.js\"];\n  const css_urls = [];\n  \n\n  const inline_js = [\n    function(Bokeh) {\n      Bokeh.set_log_level(\"info\");\n    },\n    function(Bokeh) {\n    \n    \n    }\n  ];\n\n  function run_inline_js() {\n    \n    if (root.Bokeh !== undefined || force === true) {\n      \n    for (let i = 0; i < inline_js.length; i++) {\n      inline_js[i].call(root, root.Bokeh);\n    }\n    if (force === true) {\n        display_loaded();\n      }} else if (Date.now() < root._bokeh_timeout) {\n      setTimeout(run_inline_js, 100);\n    } else if (!root._bokeh_failed_load) {\n      console.log(\"Bokeh: BokehJS failed to load within specified timeout.\");\n      root._bokeh_failed_load = true;\n    } else if (force !== true) {\n      const cell = $(document.getElementById(\"1411\")).parents('.cell').data().cell;\n      cell.output_area.append_execute_result(NB_LOAD_WARNING)\n    }\n\n  }\n\n  if (root._bokeh_is_loading === 0) {\n    console.debug(\"Bokeh: BokehJS loaded, going straight to plotting\");\n    run_inline_js();\n  } else {\n    load_libs(css_urls, js_urls, function() {\n      console.debug(\"Bokeh: BokehJS plotting callback run at\", now());\n      run_inline_js();\n    });\n  }\n}(window));",
      "application/vnd.bokehjs_load.v0+json": ""
     },
     "metadata": {},
     "output_type": "display_data"
    },
    {
     "data": {
      "text/html": [
       "\n",
       "\n",
       "\n",
       "\n",
       "\n",
       "\n",
       "  <div class=\"bk-root\" id=\"e9147e04-82ac-4651-ad39-6de8094fe4f6\" data-root-id=\"1362\"></div>\n"
      ]
     },
     "metadata": {},
     "output_type": "display_data"
    },
    {
     "data": {
      "application/javascript": "(function(root) {\n  function embed_document(root) {\n    \n  const docs_json = {\"18cb5e61-8006-4d15-8e03-67a9cabe2fd1\":{\"defs\":[],\"roots\":{\"references\":[{\"attributes\":{\"below\":[{\"id\":\"1371\"}],\"center\":[{\"id\":\"1374\"},{\"id\":\"1378\"}],\"height\":200,\"left\":[{\"id\":\"1375\"}],\"renderers\":[{\"id\":\"1399\"}],\"title\":{\"id\":\"1401\"},\"toolbar\":{\"id\":\"1385\"},\"width\":500,\"x_range\":{\"id\":\"1363\"},\"x_scale\":{\"id\":\"1367\"},\"y_range\":{\"id\":\"1365\"},\"y_scale\":{\"id\":\"1369\"}},\"id\":\"1362\",\"subtype\":\"Figure\",\"type\":\"Plot\"},{\"attributes\":{\"bottom\":{\"field\":\"bottom\"},\"fill_alpha\":{\"value\":0.2},\"fill_color\":{\"value\":\"#d53e4f\"},\"hatch_alpha\":{\"value\":0.2},\"left\":{\"field\":\"start_time\"},\"line_alpha\":{\"value\":0.2},\"right\":{\"field\":\"end_time\"},\"top\":{\"field\":\"top\"}},\"id\":\"1398\",\"type\":\"Quad\"},{\"attributes\":{\"callback\":null,\"tooltips\":[[\"pitch\",\"@pitch\"],[\"program\",\"@program\"],[\"velo\",\"@velocity\"],[\"duration\",\"@duration\"],[\"start_time\",\"@start_time\"],[\"end_time\",\"@end_time\"],[\"velocity\",\"@velocity\"],[\"fill_alpha\",\"@fill_alpha\"]]},\"id\":\"1379\",\"type\":\"HoverTool\"},{\"attributes\":{},\"id\":\"1363\",\"type\":\"DataRange1d\"},{\"attributes\":{\"coordinates\":null,\"group\":null},\"id\":\"1401\",\"type\":\"Title\"},{\"attributes\":{},\"id\":\"1382\",\"type\":\"ResetTool\"},{\"attributes\":{\"interval\":12},\"id\":\"1391\",\"type\":\"SingleIntervalTicker\"},{\"attributes\":{\"axis_label\":\"time (sec)\",\"coordinates\":null,\"formatter\":{\"id\":\"1406\"},\"group\":null,\"major_label_policy\":{\"id\":\"1407\"},\"ticker\":{\"id\":\"1372\"}},\"id\":\"1371\",\"type\":\"LinearAxis\"},{\"attributes\":{\"source\":{\"id\":\"1394\"}},\"id\":\"1400\",\"type\":\"CDSView\"},{\"attributes\":{\"bottom_units\":\"screen\",\"coordinates\":null,\"fill_alpha\":0.5,\"fill_color\":\"lightgrey\",\"group\":null,\"left_units\":\"screen\",\"level\":\"overlay\",\"line_alpha\":1.0,\"line_color\":\"black\",\"line_dash\":[4,4],\"line_width\":2,\"right_units\":\"screen\",\"syncable\":false,\"top_units\":\"screen\"},\"id\":\"1384\",\"type\":\"BoxAnnotation\"},{\"attributes\":{},\"id\":\"1365\",\"type\":\"DataRange1d\"},{\"attributes\":{},\"id\":\"1367\",\"type\":\"LinearScale\"},{\"attributes\":{\"interval\":12},\"id\":\"1393\",\"type\":\"SingleIntervalTicker\"},{\"attributes\":{\"bottom\":{\"field\":\"bottom\"},\"fill_alpha\":{\"value\":0.1},\"fill_color\":{\"value\":\"#d53e4f\"},\"hatch_alpha\":{\"value\":0.1},\"left\":{\"field\":\"start_time\"},\"line_alpha\":{\"value\":0.1},\"right\":{\"field\":\"end_time\"},\"top\":{\"field\":\"top\"}},\"id\":\"1397\",\"type\":\"Quad\"},{\"attributes\":{},\"id\":\"1408\",\"type\":\"UnionRenderers\"},{\"attributes\":{},\"id\":\"1409\",\"type\":\"Selection\"},{\"attributes\":{},\"id\":\"1369\",\"type\":\"LinearScale\"},{\"attributes\":{},\"id\":\"1372\",\"type\":\"BasicTicker\"},{\"attributes\":{\"bottom\":{\"field\":\"bottom\"},\"fill_alpha\":{\"field\":\"fill_alpha\"},\"fill_color\":{\"value\":\"#d53e4f\"},\"left\":{\"field\":\"start_time\"},\"right\":{\"field\":\"end_time\"},\"top\":{\"field\":\"top\"}},\"id\":\"1396\",\"type\":\"Quad\"},{\"attributes\":{\"axis\":{\"id\":\"1371\"},\"coordinates\":null,\"group\":null,\"ticker\":null},\"id\":\"1374\",\"type\":\"Grid\"},{\"attributes\":{},\"id\":\"1407\",\"type\":\"AllLabels\"},{\"attributes\":{},\"id\":\"1406\",\"type\":\"BasicTickFormatter\"},{\"attributes\":{\"coordinates\":null,\"data_source\":{\"id\":\"1394\"},\"glyph\":{\"id\":\"1396\"},\"group\":null,\"hover_glyph\":null,\"muted_glyph\":{\"id\":\"1398\"},\"nonselection_glyph\":{\"id\":\"1397\"},\"view\":{\"id\":\"1400\"}},\"id\":\"1399\",\"type\":\"GlyphRenderer\"},{\"attributes\":{\"data\":{\"bottom\":{\"__ndarray__\":\"mpmZmZmZPUDNzMzMzMxEQJqZmZmZmT5AzczMzMxMRUCamZmZmZk9QM3MzMzMzERAmpmZmZmZPUDNzMzMzMxEQJqZmZmZmT5AzczMzMxMRUCamZmZmZk9QM3MzMzMzERAzczMzMxMQEDNzMzMzExCQM3MzMzMzENAzczMzMxMRkCamZmZmZk7QM3MzMzMzENAmpmZmZmZO0DNzMzMzMxDQJqZmZmZmTtAzczMzMzMQ0CamZmZmZk7QM3MzMzMzENAmpmZmZmZO0DNzMzMzMxDQJqZmZmZmTtAzczMzMzMQ0CamZmZmZk7QM3MzMzMzENAmpmZmZmZO0DNzMzMzMxDQM3MzMzMTEFAzczMzMxMR0DNzMzMzExBQM3MzMzMTEdAzczMzMxMQUDNzMzMzExHQJqZmZmZmTtAzczMzMzMQ0CamZmZmZk7QM3MzMzMzENAmpmZmZmZO0DNzMzMzMxDQM3MzMzMTEFAzczMzMxMR0DNzMzMzExBQM3MzMzMTEdAzczMzMxMQUDNzMzMzExHQJqZmZmZmTtAzczMzMzMQ0CamZmZmZk7QM3MzMzMzENAmpmZmZmZO0DNzMzMzMxDQM3MzMzMTEFAzczMzMxMR0DNzMzMzExBQM3MzMzMTEdAzczMzMxMQUDNzMzMzExHQJqZmZmZmTtAzczMzMzMQ0CamZmZmZk7QM3MzMzMzENAmpmZmZmZO0DNzMzMzMxDQM3MzMzMTEFAzczMzMxMR0DNzMzMzExBQM3MzMzMTEdAzczMzMxMQUDNzMzMzExHQA==\",\"dtype\":\"float64\",\"order\":\"little\",\"shape\":[74]},\"duration\":{\"__ndarray__\":\"AAAAAAAA0D8AAAAAAADQPwAAAAAAANA/AAAAAAAA0D8AAAAAAADgPwAAAAAAAOA/AAAAAAAA0D8AAAAAAADQPwAAAAAAANA/AAAAAAAA0D8AAAAAAADgPwAAAAAAAOA/AAAAAAAA6D8AAAAAAADoPwAAAAAAAOg/AAAAAAAA6D8AAAAAAADQPwAAAAAAANA/AAAAAAAA0D8AAAAAAADQPwAAAAAAANA/AAAAAAAA0D8AAAAAAADQPwAAAAAAANA/AAAAAAAA0D8AAAAAAADQPwAAAAAAANA/AAAAAAAA0D8AAAAAAADQPwAAAAAAANA/AAAAAAAA0D8AAAAAAADQPwAAAAAAAOg/AAAAAAAA6D8AAAAAAADoPwAAAAAAAOg/AAAAAAAA4D8AAAAAAADgPwAAAAAAAOg/AAAAAAAA6D8AAAAAAADoPwAAAAAAAOg/AAAAAAAA4D8AAAAAAADgPwAAAAAAAOg/AAAAAAAA6D8AAAAAAADoPwAAAAAAAOg/AAAAAAAA4D8AAAAAAADgPwAAAAAAAOg/AAAAAAAA6D8AAAAAAADoPwAAAAAAAOg/AAAAAAAA4D8AAAAAAADgPwAAAAAAAOg/AAAAAAAA6D8AAAAAAADoPwAAAAAAAOg/AAAAAAAA4D8AAAAAAADgPwAAAAAAAOg/AAAAAAAA6D8AAAAAAADoPwAAAAAAAOg/AAAAAAAA4D8AAAAAAADgPwAAAAAAAOg/AAAAAAAA6D8AAAAAAADoPwAAAAAAAOg/AAAAAAAA4D8AAAAAAADgPw==\",\"dtype\":\"float64\",\"order\":\"little\",\"shape\":[74]},\"end_time\":{\"__ndarray__\":\"AAAAAAAA9D8AAAAAAAD0PwAAAAAAAPg/AAAAAAAA+D8AAAAAAAAAQAAAAAAAAABAAAAAAACAIkAAAAAAAIAiQAAAAAAAACNAAAAAAAAAI0AAAAAAAAAkQAAAAAAAACRAAAAAAAAALEAAAAAAAAAsQAAAAAAAACxAAAAAAAAALEAAAAAAAEAwQAAAAAAAQDBAAAAAAACAMEAAAAAAAIAwQAAAAAAAwDBAAAAAAADAMEAAAAAAAAAxQAAAAAAAADFAAAAAAABAMUAAAAAAAEAxQAAAAAAAgDFAAAAAAACAMUAAAAAAAMAxQAAAAAAAwDFAAAAAAAAAMkAAAAAAAAAyQAAAAAAAwDJAAAAAAADAMkAAAAAAAIAzQAAAAAAAgDNAAAAAAAAANEAAAAAAAAA0QAAAAAAAwDRAAAAAAADANEAAAAAAAIA1QAAAAAAAgDVAAAAAAAAANkAAAAAAAAA2QAAAAAAAwDZAAAAAAADANkAAAAAAAIA3QAAAAAAAgDdAAAAAAAAAOEAAAAAAAAA4QAAAAAAAwDhAAAAAAADAOEAAAAAAAIA5QAAAAAAAgDlAAAAAAAAAOkAAAAAAAAA6QAAAAAAAwDpAAAAAAADAOkAAAAAAAIA7QAAAAAAAgDtAAAAAAAAAPEAAAAAAAAA8QAAAAAAAwDxAAAAAAADAPEAAAAAAAIA9QAAAAAAAgD1AAAAAAAAAPkAAAAAAAAA+QAAAAAAAwD5AAAAAAADAPkAAAAAAAIA/QAAAAAAAgD9AAAAAAAAAQEAAAAAAAABAQA==\",\"dtype\":\"float64\",\"order\":\"little\",\"shape\":[74]},\"fill_alpha\":{\"__ndarray__\":\"AAAAAAAA8D8AAAAAAADwPwAAAAAAAPA/AAAAAAAA8D8AAAAAAADwPwAAAAAAAPA/AAAAAAAA8D8AAAAAAADwPwAAAAAAAPA/AAAAAAAA8D8AAAAAAADwPwAAAAAAAPA/AAAAAAAA8D8AAAAAAADwPwAAAAAAAPA/AAAAAAAA8D8AAAAAAADwPwAAAAAAAPA/AAAAAAAA8D8AAAAAAADwPwAAAAAAAPA/AAAAAAAA8D8AAAAAAADwPwAAAAAAAPA/AAAAAAAA8D8AAAAAAADwPwAAAAAAAPA/AAAAAAAA8D8AAAAAAADwPwAAAAAAAPA/AAAAAAAA8D8AAAAAAADwPwAAAAAAAPA/AAAAAAAA8D8AAAAAAADwPwAAAAAAAPA/AAAAAAAA8D8AAAAAAADwPwAAAAAAAPA/AAAAAAAA8D8AAAAAAADwPwAAAAAAAPA/AAAAAAAA8D8AAAAAAADwPwAAAAAAAPA/AAAAAAAA8D8AAAAAAADwPwAAAAAAAPA/AAAAAAAA8D8AAAAAAADwPwAAAAAAAPA/AAAAAAAA8D8AAAAAAADwPwAAAAAAAPA/AAAAAAAA8D8AAAAAAADwPwAAAAAAAPA/AAAAAAAA8D8AAAAAAADwPwAAAAAAAPA/AAAAAAAA8D8AAAAAAADwPwAAAAAAAPA/AAAAAAAA8D8AAAAAAADwPwAAAAAAAPA/AAAAAAAA8D8AAAAAAADwPwAAAAAAAPA/AAAAAAAA8D8AAAAAAADwPwAAAAAAAPA/AAAAAAAA8D8AAAAAAADwPw==\",\"dtype\":\"float64\",\"order\":\"little\",\"shape\":[74]},\"index\":[0,1,2,3,4,5,6,7,8,9,10,11,12,13,14,15,16,17,18,19,20,21,22,23,24,25,26,27,28,29,30,31,32,33,34,35,36,37,38,39,40,41,42,43,44,45,46,47,48,49,50,51,52,53,54,55,56,57,58,59,60,61,62,63,64,65,66,67,68,69,70,71,72,73],\"instrument\":[0,0,0,0,0,0,0,0,0,0,0,0,0,0,0,0,0,0,0,0,0,0,0,0,0,0,0,0,0,0,0,0,0,0,0,0,0,0,0,0,0,0,0,0,0,0,0,0,0,0,0,0,0,0,0,0,0,0,0,0,0,0,0,0,0,0,0,0,0,0,0,0,0,0],\"pitch\":[30,42,31,43,30,42,30,42,31,43,30,42,33,37,40,45,28,40,28,40,28,40,28,40,28,40,28,40,28,40,28,40,35,47,35,47,35,47,28,40,28,40,28,40,35,47,35,47,35,47,28,40,28,40,28,40,35,47,35,47,35,47,28,40,28,40,28,40,35,47,35,47,35,47],\"program\":[0,0,0,0,0,0,0,0,0,0,0,0,0,0,0,0,0,0,0,0,0,0,0,0,0,0,0,0,0,0,0,0,0,0,0,0,0,0,0,0,0,0,0,0,0,0,0,0,0,0,0,0,0,0,0,0,0,0,0,0,0,0,0,0,0,0,0,0,0,0,0,0,0,0],\"start_time\":{\"__ndarray__\":\"AAAAAAAA8D8AAAAAAADwPwAAAAAAAPQ/AAAAAAAA9D8AAAAAAAD4PwAAAAAAAPg/AAAAAAAAIkAAAAAAAAAiQAAAAAAAgCJAAAAAAACAIkAAAAAAAAAjQAAAAAAAACNAAAAAAACAKkAAAAAAAIAqQAAAAAAAgCpAAAAAAACAKkAAAAAAAAAwQAAAAAAAADBAAAAAAABAMEAAAAAAAEAwQAAAAAAAgDBAAAAAAACAMEAAAAAAAMAwQAAAAAAAwDBAAAAAAAAAMUAAAAAAAAAxQAAAAAAAQDFAAAAAAABAMUAAAAAAAIAxQAAAAAAAgDFAAAAAAADAMUAAAAAAAMAxQAAAAAAAADJAAAAAAAAAMkAAAAAAAMAyQAAAAAAAwDJAAAAAAACAM0AAAAAAAIAzQAAAAAAAADRAAAAAAAAANEAAAAAAAMA0QAAAAAAAwDRAAAAAAACANUAAAAAAAIA1QAAAAAAAADZAAAAAAAAANkAAAAAAAMA2QAAAAAAAwDZAAAAAAACAN0AAAAAAAIA3QAAAAAAAADhAAAAAAAAAOEAAAAAAAMA4QAAAAAAAwDhAAAAAAACAOUAAAAAAAIA5QAAAAAAAADpAAAAAAAAAOkAAAAAAAMA6QAAAAAAAwDpAAAAAAACAO0AAAAAAAIA7QAAAAAAAADxAAAAAAAAAPEAAAAAAAMA8QAAAAAAAwDxAAAAAAACAPUAAAAAAAIA9QAAAAAAAAD5AAAAAAAAAPkAAAAAAAMA+QAAAAAAAwD5AAAAAAACAP0AAAAAAAIA/QA==\",\"dtype\":\"float64\",\"order\":\"little\",\"shape\":[74]},\"top\":{\"__ndarray__\":\"ZmZmZmZmPkAzMzMzMzNFQGZmZmZmZj9AMzMzMzOzRUBmZmZmZmY+QDMzMzMzM0VAZmZmZmZmPkAzMzMzMzNFQGZmZmZmZj9AMzMzMzOzRUBmZmZmZmY+QDMzMzMzM0VAMzMzMzOzQEAzMzMzM7NCQDMzMzMzM0RAMzMzMzOzRkBmZmZmZmY8QDMzMzMzM0RAZmZmZmZmPEAzMzMzMzNEQGZmZmZmZjxAMzMzMzMzREBmZmZmZmY8QDMzMzMzM0RAZmZmZmZmPEAzMzMzMzNEQGZmZmZmZjxAMzMzMzMzREBmZmZmZmY8QDMzMzMzM0RAZmZmZmZmPEAzMzMzMzNEQDMzMzMzs0FAMzMzMzOzR0AzMzMzM7NBQDMzMzMzs0dAMzMzMzOzQUAzMzMzM7NHQGZmZmZmZjxAMzMzMzMzREBmZmZmZmY8QDMzMzMzM0RAZmZmZmZmPEAzMzMzMzNEQDMzMzMzs0FAMzMzMzOzR0AzMzMzM7NBQDMzMzMzs0dAMzMzMzOzQUAzMzMzM7NHQGZmZmZmZjxAMzMzMzMzREBmZmZmZmY8QDMzMzMzM0RAZmZmZmZmPEAzMzMzMzNEQDMzMzMzs0FAMzMzMzOzR0AzMzMzM7NBQDMzMzMzs0dAMzMzMzOzQUAzMzMzM7NHQGZmZmZmZjxAMzMzMzMzREBmZmZmZmY8QDMzMzMzM0RAZmZmZmZmPEAzMzMzMzNEQDMzMzMzs0FAMzMzMzOzR0AzMzMzM7NBQDMzMzMzs0dAMzMzMzOzQUAzMzMzM7NHQA==\",\"dtype\":\"float64\",\"order\":\"little\",\"shape\":[74]},\"velocity\":[99,99,99,99,99,99,99,99,99,99,99,99,99,99,99,99,99,99,99,99,99,99,99,99,99,99,99,99,99,99,99,99,99,99,99,99,99,99,99,99,99,99,99,99,99,99,99,99,99,99,99,99,99,99,99,99,99,99,99,99,99,99,99,99,99,99,99,99,99,99,99,99,99,99]},\"selected\":{\"id\":\"1409\"},\"selection_policy\":{\"id\":\"1408\"}},\"id\":\"1394\",\"type\":\"ColumnDataSource\"},{\"attributes\":{\"axis\":{\"id\":\"1375\"},\"coordinates\":null,\"dimension\":1,\"group\":null,\"ticker\":{\"id\":\"1393\"}},\"id\":\"1378\",\"type\":\"Grid\"},{\"attributes\":{\"axis_label\":\"pitch (MIDI)\",\"coordinates\":null,\"formatter\":{\"id\":\"1403\"},\"group\":null,\"major_label_policy\":{\"id\":\"1404\"},\"ticker\":{\"id\":\"1391\"}},\"id\":\"1375\",\"type\":\"LinearAxis\"},{\"attributes\":{},\"id\":\"1403\",\"type\":\"BasicTickFormatter\"},{\"attributes\":{},\"id\":\"1404\",\"type\":\"AllLabels\"},{\"attributes\":{},\"id\":\"1380\",\"type\":\"PanTool\"},{\"attributes\":{},\"id\":\"1383\",\"type\":\"SaveTool\"},{\"attributes\":{\"overlay\":{\"id\":\"1384\"}},\"id\":\"1381\",\"type\":\"BoxZoomTool\"},{\"attributes\":{\"tools\":[{\"id\":\"1379\"},{\"id\":\"1380\"},{\"id\":\"1381\"},{\"id\":\"1382\"},{\"id\":\"1383\"}]},\"id\":\"1385\",\"type\":\"Toolbar\"}],\"root_ids\":[\"1362\"]},\"title\":\"Bokeh Application\",\"version\":\"2.4.2\"}};\n  const render_items = [{\"docid\":\"18cb5e61-8006-4d15-8e03-67a9cabe2fd1\",\"root_ids\":[\"1362\"],\"roots\":{\"1362\":\"e9147e04-82ac-4651-ad39-6de8094fe4f6\"}}];\n  root.Bokeh.embed.embed_items_notebook(docs_json, render_items);\n\n  }\n  if (root.Bokeh !== undefined) {\n    embed_document(root);\n  } else {\n    let attempts = 0;\n    const timer = setInterval(function(root) {\n      if (root.Bokeh !== undefined) {\n        clearInterval(timer);\n        embed_document(root);\n      } else {\n        attempts++;\n        if (attempts > 100) {\n          clearInterval(timer);\n          console.log(\"Bokeh: ERROR: Unable to run BokehJS code because BokehJS library is missing\");\n        }\n      }\n    }, 10, root)\n  }\n})(window);",
      "application/vnd.bokehjs_exec.v0+json": ""
     },
     "metadata": {
      "application/vnd.bokehjs_exec.v0+json": {
       "id": "1362"
      }
     },
     "output_type": "display_data"
    },
    {
     "data": {
      "text/html": [
       "\n",
       "    <div class=\"bk-root\">\n",
       "        <a href=\"https://bokeh.org\" target=\"_blank\" class=\"bk-logo bk-logo-small bk-logo-notebook\"></a>\n",
       "        <span id=\"1551\">Loading BokehJS ...</span>\n",
       "    </div>"
      ]
     },
     "metadata": {},
     "output_type": "display_data"
    },
    {
     "data": {
      "application/javascript": "\n(function(root) {\n  function now() {\n    return new Date();\n  }\n\n  const force = true;\n\n  if (typeof root._bokeh_onload_callbacks === \"undefined\" || force === true) {\n    root._bokeh_onload_callbacks = [];\n    root._bokeh_is_loading = undefined;\n  }\n\n  const JS_MIME_TYPE = 'application/javascript';\n  const HTML_MIME_TYPE = 'text/html';\n  const EXEC_MIME_TYPE = 'application/vnd.bokehjs_exec.v0+json';\n  const CLASS_NAME = 'output_bokeh rendered_html';\n\n  /**\n   * Render data to the DOM node\n   */\n  function render(props, node) {\n    const script = document.createElement(\"script\");\n    node.appendChild(script);\n  }\n\n  /**\n   * Handle when an output is cleared or removed\n   */\n  function handleClearOutput(event, handle) {\n    const cell = handle.cell;\n\n    const id = cell.output_area._bokeh_element_id;\n    const server_id = cell.output_area._bokeh_server_id;\n    // Clean up Bokeh references\n    if (id != null && id in Bokeh.index) {\n      Bokeh.index[id].model.document.clear();\n      delete Bokeh.index[id];\n    }\n\n    if (server_id !== undefined) {\n      // Clean up Bokeh references\n      const cmd_clean = \"from bokeh.io.state import curstate; print(curstate().uuid_to_server['\" + server_id + \"'].get_sessions()[0].document.roots[0]._id)\";\n      cell.notebook.kernel.execute(cmd_clean, {\n        iopub: {\n          output: function(msg) {\n            const id = msg.content.text.trim();\n            if (id in Bokeh.index) {\n              Bokeh.index[id].model.document.clear();\n              delete Bokeh.index[id];\n            }\n          }\n        }\n      });\n      // Destroy server and session\n      const cmd_destroy = \"import bokeh.io.notebook as ion; ion.destroy_server('\" + server_id + \"')\";\n      cell.notebook.kernel.execute(cmd_destroy);\n    }\n  }\n\n  /**\n   * Handle when a new output is added\n   */\n  function handleAddOutput(event, handle) {\n    const output_area = handle.output_area;\n    const output = handle.output;\n\n    // limit handleAddOutput to display_data with EXEC_MIME_TYPE content only\n    if ((output.output_type != \"display_data\") || (!Object.prototype.hasOwnProperty.call(output.data, EXEC_MIME_TYPE))) {\n      return\n    }\n\n    const toinsert = output_area.element.find(\".\" + CLASS_NAME.split(' ')[0]);\n\n    if (output.metadata[EXEC_MIME_TYPE][\"id\"] !== undefined) {\n      toinsert[toinsert.length - 1].firstChild.textContent = output.data[JS_MIME_TYPE];\n      // store reference to embed id on output_area\n      output_area._bokeh_element_id = output.metadata[EXEC_MIME_TYPE][\"id\"];\n    }\n    if (output.metadata[EXEC_MIME_TYPE][\"server_id\"] !== undefined) {\n      const bk_div = document.createElement(\"div\");\n      bk_div.innerHTML = output.data[HTML_MIME_TYPE];\n      const script_attrs = bk_div.children[0].attributes;\n      for (let i = 0; i < script_attrs.length; i++) {\n        toinsert[toinsert.length - 1].firstChild.setAttribute(script_attrs[i].name, script_attrs[i].value);\n        toinsert[toinsert.length - 1].firstChild.textContent = bk_div.children[0].textContent\n      }\n      // store reference to server id on output_area\n      output_area._bokeh_server_id = output.metadata[EXEC_MIME_TYPE][\"server_id\"];\n    }\n  }\n\n  function register_renderer(events, OutputArea) {\n\n    function append_mime(data, metadata, element) {\n      // create a DOM node to render to\n      const toinsert = this.create_output_subarea(\n        metadata,\n        CLASS_NAME,\n        EXEC_MIME_TYPE\n      );\n      this.keyboard_manager.register_events(toinsert);\n      // Render to node\n      const props = {data: data, metadata: metadata[EXEC_MIME_TYPE]};\n      render(props, toinsert[toinsert.length - 1]);\n      element.append(toinsert);\n      return toinsert\n    }\n\n    /* Handle when an output is cleared or removed */\n    events.on('clear_output.CodeCell', handleClearOutput);\n    events.on('delete.Cell', handleClearOutput);\n\n    /* Handle when a new output is added */\n    events.on('output_added.OutputArea', handleAddOutput);\n\n    /**\n     * Register the mime type and append_mime function with output_area\n     */\n    OutputArea.prototype.register_mime_type(EXEC_MIME_TYPE, append_mime, {\n      /* Is output safe? */\n      safe: true,\n      /* Index of renderer in `output_area.display_order` */\n      index: 0\n    });\n  }\n\n  // register the mime type if in Jupyter Notebook environment and previously unregistered\n  if (root.Jupyter !== undefined) {\n    const events = require('base/js/events');\n    const OutputArea = require('notebook/js/outputarea').OutputArea;\n\n    if (OutputArea.prototype.mime_types().indexOf(EXEC_MIME_TYPE) == -1) {\n      register_renderer(events, OutputArea);\n    }\n  }\n\n  \n  if (typeof (root._bokeh_timeout) === \"undefined\" || force === true) {\n    root._bokeh_timeout = Date.now() + 5000;\n    root._bokeh_failed_load = false;\n  }\n\n  const NB_LOAD_WARNING = {'data': {'text/html':\n     \"<div style='background-color: #fdd'>\\n\"+\n     \"<p>\\n\"+\n     \"BokehJS does not appear to have successfully loaded. If loading BokehJS from CDN, this \\n\"+\n     \"may be due to a slow or bad network connection. Possible fixes:\\n\"+\n     \"</p>\\n\"+\n     \"<ul>\\n\"+\n     \"<li>re-rerun `output_notebook()` to attempt to load from CDN again, or</li>\\n\"+\n     \"<li>use INLINE resources instead, as so:</li>\\n\"+\n     \"</ul>\\n\"+\n     \"<code>\\n\"+\n     \"from bokeh.resources import INLINE\\n\"+\n     \"output_notebook(resources=INLINE)\\n\"+\n     \"</code>\\n\"+\n     \"</div>\"}};\n\n  function display_loaded() {\n    const el = document.getElementById(\"1551\");\n    if (el != null) {\n      el.textContent = \"BokehJS is loading...\";\n    }\n    if (root.Bokeh !== undefined) {\n      if (el != null) {\n        el.textContent = \"BokehJS \" + root.Bokeh.version + \" successfully loaded.\";\n      }\n    } else if (Date.now() < root._bokeh_timeout) {\n      setTimeout(display_loaded, 100)\n    }\n  }\n\n\n  function run_callbacks() {\n    try {\n      root._bokeh_onload_callbacks.forEach(function(callback) {\n        if (callback != null)\n          callback();\n      });\n    } finally {\n      delete root._bokeh_onload_callbacks\n    }\n    console.debug(\"Bokeh: all callbacks have finished\");\n  }\n\n  function load_libs(css_urls, js_urls, callback) {\n    if (css_urls == null) css_urls = [];\n    if (js_urls == null) js_urls = [];\n\n    root._bokeh_onload_callbacks.push(callback);\n    if (root._bokeh_is_loading > 0) {\n      console.debug(\"Bokeh: BokehJS is being loaded, scheduling callback at\", now());\n      return null;\n    }\n    if (js_urls == null || js_urls.length === 0) {\n      run_callbacks();\n      return null;\n    }\n    console.debug(\"Bokeh: BokehJS not loaded, scheduling load and callback at\", now());\n    root._bokeh_is_loading = css_urls.length + js_urls.length;\n\n    function on_load() {\n      root._bokeh_is_loading--;\n      if (root._bokeh_is_loading === 0) {\n        console.debug(\"Bokeh: all BokehJS libraries/stylesheets loaded\");\n        run_callbacks()\n      }\n    }\n\n    function on_error(url) {\n      console.error(\"failed to load \" + url);\n    }\n\n    for (let i = 0; i < css_urls.length; i++) {\n      const url = css_urls[i];\n      const element = document.createElement(\"link\");\n      element.onload = on_load;\n      element.onerror = on_error.bind(null, url);\n      element.rel = \"stylesheet\";\n      element.type = \"text/css\";\n      element.href = url;\n      console.debug(\"Bokeh: injecting link tag for BokehJS stylesheet: \", url);\n      document.body.appendChild(element);\n    }\n\n    for (let i = 0; i < js_urls.length; i++) {\n      const url = js_urls[i];\n      const element = document.createElement('script');\n      element.onload = on_load;\n      element.onerror = on_error.bind(null, url);\n      element.async = false;\n      element.src = url;\n      console.debug(\"Bokeh: injecting script tag for BokehJS library: \", url);\n      document.head.appendChild(element);\n    }\n  };\n\n  function inject_raw_css(css) {\n    const element = document.createElement(\"style\");\n    element.appendChild(document.createTextNode(css));\n    document.body.appendChild(element);\n  }\n\n  \n  const js_urls = [\"https://cdn.bokeh.org/bokeh/release/bokeh-2.4.2.min.js\", \"https://cdn.bokeh.org/bokeh/release/bokeh-gl-2.4.2.min.js\", \"https://cdn.bokeh.org/bokeh/release/bokeh-widgets-2.4.2.min.js\", \"https://cdn.bokeh.org/bokeh/release/bokeh-tables-2.4.2.min.js\", \"https://cdn.bokeh.org/bokeh/release/bokeh-mathjax-2.4.2.min.js\"];\n  const css_urls = [];\n  \n\n  const inline_js = [\n    function(Bokeh) {\n      Bokeh.set_log_level(\"info\");\n    },\n    function(Bokeh) {\n    \n    \n    }\n  ];\n\n  function run_inline_js() {\n    \n    if (root.Bokeh !== undefined || force === true) {\n      \n    for (let i = 0; i < inline_js.length; i++) {\n      inline_js[i].call(root, root.Bokeh);\n    }\n    if (force === true) {\n        display_loaded();\n      }} else if (Date.now() < root._bokeh_timeout) {\n      setTimeout(run_inline_js, 100);\n    } else if (!root._bokeh_failed_load) {\n      console.log(\"Bokeh: BokehJS failed to load within specified timeout.\");\n      root._bokeh_failed_load = true;\n    } else if (force !== true) {\n      const cell = $(document.getElementById(\"1551\")).parents('.cell').data().cell;\n      cell.output_area.append_execute_result(NB_LOAD_WARNING)\n    }\n\n  }\n\n  if (root._bokeh_is_loading === 0) {\n    console.debug(\"Bokeh: BokehJS loaded, going straight to plotting\");\n    run_inline_js();\n  } else {\n    load_libs(css_urls, js_urls, function() {\n      console.debug(\"Bokeh: BokehJS plotting callback run at\", now());\n      run_inline_js();\n    });\n  }\n}(window));",
      "application/vnd.bokehjs_load.v0+json": ""
     },
     "metadata": {},
     "output_type": "display_data"
    },
    {
     "data": {
      "text/html": [
       "\n",
       "\n",
       "\n",
       "\n",
       "\n",
       "\n",
       "  <div class=\"bk-root\" id=\"a3ab4f87-5e17-481a-b1b1-2cde3c1d2dd8\" data-root-id=\"1502\"></div>\n"
      ]
     },
     "metadata": {},
     "output_type": "display_data"
    },
    {
     "data": {
      "application/javascript": "(function(root) {\n  function embed_document(root) {\n    \n  const docs_json = {\"bdce828e-3f6a-456f-a659-43ef2117b4a4\":{\"defs\":[],\"roots\":{\"references\":[{\"attributes\":{\"below\":[{\"id\":\"1511\"}],\"center\":[{\"id\":\"1514\"},{\"id\":\"1518\"}],\"height\":200,\"left\":[{\"id\":\"1515\"}],\"renderers\":[{\"id\":\"1539\"}],\"title\":{\"id\":\"1541\"},\"toolbar\":{\"id\":\"1525\"},\"width\":500,\"x_range\":{\"id\":\"1503\"},\"x_scale\":{\"id\":\"1507\"},\"y_range\":{\"id\":\"1505\"},\"y_scale\":{\"id\":\"1509\"}},\"id\":\"1502\",\"subtype\":\"Figure\",\"type\":\"Plot\"},{\"attributes\":{\"interval\":12},\"id\":\"1531\",\"type\":\"SingleIntervalTicker\"},{\"attributes\":{},\"id\":\"1522\",\"type\":\"ResetTool\"},{\"attributes\":{\"bottom_units\":\"screen\",\"coordinates\":null,\"fill_alpha\":0.5,\"fill_color\":\"lightgrey\",\"group\":null,\"left_units\":\"screen\",\"level\":\"overlay\",\"line_alpha\":1.0,\"line_color\":\"black\",\"line_dash\":[4,4],\"line_width\":2,\"right_units\":\"screen\",\"syncable\":false,\"top_units\":\"screen\"},\"id\":\"1524\",\"type\":\"BoxAnnotation\"},{\"attributes\":{},\"id\":\"1503\",\"type\":\"DataRange1d\"},{\"attributes\":{},\"id\":\"1507\",\"type\":\"LinearScale\"},{\"attributes\":{},\"id\":\"1544\",\"type\":\"AllLabels\"},{\"attributes\":{\"source\":{\"id\":\"1534\"}},\"id\":\"1540\",\"type\":\"CDSView\"},{\"attributes\":{\"axis_label\":\"time (sec)\",\"coordinates\":null,\"formatter\":{\"id\":\"1546\"},\"group\":null,\"major_label_policy\":{\"id\":\"1547\"},\"ticker\":{\"id\":\"1512\"}},\"id\":\"1511\",\"type\":\"LinearAxis\"},{\"attributes\":{\"axis_label\":\"pitch (MIDI)\",\"coordinates\":null,\"formatter\":{\"id\":\"1543\"},\"group\":null,\"major_label_policy\":{\"id\":\"1544\"},\"ticker\":{\"id\":\"1531\"}},\"id\":\"1515\",\"type\":\"LinearAxis\"},{\"attributes\":{},\"id\":\"1546\",\"type\":\"BasicTickFormatter\"},{\"attributes\":{},\"id\":\"1505\",\"type\":\"DataRange1d\"},{\"attributes\":{},\"id\":\"1543\",\"type\":\"BasicTickFormatter\"},{\"attributes\":{},\"id\":\"1509\",\"type\":\"LinearScale\"},{\"attributes\":{\"tools\":[{\"id\":\"1519\"},{\"id\":\"1520\"},{\"id\":\"1521\"},{\"id\":\"1522\"},{\"id\":\"1523\"}]},\"id\":\"1525\",\"type\":\"Toolbar\"},{\"attributes\":{\"data\":{\"bottom\":{\"__ndarray__\":\"zczMzMzMTEDNzMzMzMxOQGZmZmZmJlBAzczMzMzMTEDNzMzMzMxOQGZmZmZmJlBAzczMzMzMTEDNzMzMzMxOQGZmZmZmJlBAzczMzMzMTEDNzMzMzMxOQGZmZmZmJlBAzczMzMzMTEDNzMzMzMxOQGZmZmZmJlBAzczMzMzMTUDNzMzMzExPQGZmZmZmplBAzczMzMzMTUDNzMzMzExPQGZmZmZmplBAzczMzMzMTUDNzMzMzExPQGZmZmZmplBAzczMzMzMTUDNzMzMzExPQGZmZmZmplBAzczMzMzMTUDNzMzMzExPQGZmZmZmplBAzczMzMzMTEDNzMzMzMxOQGZmZmZmplBAzczMzMzMTEDNzMzMzMxOQGZmZmZmplBAzczMzMzMTEDNzMzMzMxOQGZmZmZmplBAzczMzMzMTEDNzMzMzMxOQGZmZmZmplBAzczMzMzMTEDNzMzMzMxOQGZmZmZmplBAzczMzMzMS0DNzMzMzMxNQGZmZmZmJlBAzczMzMzMS0DNzMzMzMxNQGZmZmZmJlBAzczMzMzMS0DNzMzMzMxNQGZmZmZmJlBAzczMzMzMS0DNzMzMzMxNQGZmZmZmJlBAzczMzMzMS0DNzMzMzMxNQGZmZmZmJlBAzczMzMzMTEDNzMzMzMxOQGZmZmZmJlBAzczMzMzMTEDNzMzMzMxOQGZmZmZmJlBAzczMzMzMTEDNzMzMzMxOQGZmZmZmJlBAzczMzMzMTEDNzMzMzMxOQGZmZmZmJlBAzczMzMzMTEDNzMzMzMxOQGZmZmZmJlBAzczMzMzMTEDNzMzMzExPQGZmZmZmplBAzczMzMzMTEDNzMzMzExPQGZmZmZmplBAzczMzMzMTEDNzMzMzExPQGZmZmZmplBAzczMzMzMTEDNzMzMzExPQGZmZmZmplBAzczMzMzMTEDNzMzMzExPQGZmZmZmplBAzczMzMzMTEDNzMzMzMxOQGZmZmZmJlBAzczMzMzMTEDNzMzMzMxOQGZmZmZmJlBAzczMzMzMTEDNzMzMzMxOQGZmZmZmJlBAzczMzMzMTEDNzMzMzMxOQGZmZmZmJlBAzczMzMzMTEDNzMzMzMxOQGZmZmZmJlBAzczMzMzMTUDNzMzMzMxPQGZmZmZmplBAzczMzMzMTUDNzMzMzMxPQGZmZmZmplBAzczMzMzMTUDNzMzMzMxPQGZmZmZmplBAzczMzMzMTUDNzMzMzMxPQGZmZmZmplBAzczMzMzMTUDNzMzMzMxPQGZmZmZmplBAzczMzMzMTUDNzMzMzMxPQGZmZmZmplBAzczMzMzMTUDNzMzMzMxPQGZmZmZmplBAzczMzMzMTUDNzMzMzMxPQGZmZmZmplBAzczMzMzMTUDNzMzMzMxPQGZmZmZmplBAzczMzMzMTUDNzMzMzMxPQGZmZmZmplBA\",\"dtype\":\"float64\",\"order\":\"little\",\"shape\":[135]},\"duration\":{\"__ndarray__\":\"AAAAAAAA1D8AAAAAAADUPwAAAAAAANA/AAAAAAAA0D8AAAAAAADQPwAAAAAAANA/AAAAAAAAwD8AAAAAAADAPwAAAAAAAMA/AAAAAAAA1D8AAAAAAADUPwAAAAAAANQ/AAAAAAAAwD8AAAAAAADAPwAAAAAAAMA/AAAAAAAA0D8AAAAAAADQPwAAAAAAANA/AAAAAAAA0D8AAAAAAADIPwAAAAAAAMg/AAAAAAAAwD8AAAAAAADAPwAAAAAAAMA/AAAAAAAA0D8AAAAAAADQPwAAAAAAAMg/AAAAAAAAsD8AAAAAAACwPwAAAAAAALA/AAAAAAAA0D8AAAAAAADUPwAAAAAAANA/AAAAAAAA0D8AAAAAAADQPwAAAAAAANA/AAAAAAAAwD8AAAAAAADAPwAAAAAAAMA/AAAAAAAAyD8AAAAAAADIPwAAAAAAAMg/AAAAAAAAsD8AAAAAAACwPwAAAAAAALA/AAAAAAAA0D8AAAAAAADUPwAAAAAAANA/AAAAAAAA0D8AAAAAAADQPwAAAAAAANA/AAAAAAAAwD8AAAAAAADAPwAAAAAAAMA/AAAAAAAA0D8AAAAAAADQPwAAAAAAAMg/AAAAAAAAwD8AAAAAAADAPwAAAAAAAMA/AAAAAAAA1D8AAAAAAADUPwAAAAAAANQ/AAAAAAAA0D8AAAAAAADIPwAAAAAAANA/AAAAAAAAwD8AAAAAAADAPwAAAAAAAMA/AAAAAAAA0D8AAAAAAADQPwAAAAAAANA/AAAAAAAAwD8AAAAAAADAPwAAAAAAAMA/AAAAAAAA0D8AAAAAAADQPwAAAAAAANA/AAAAAAAA0D8AAAAAAADQPwAAAAAAANA/AAAAAAAAyD8AAAAAAADIPwAAAAAAAMg/AAAAAAAA0D8AAAAAAADQPwAAAAAAAMg/AAAAAAAAwD8AAAAAAADAPwAAAAAAAMA/AAAAAAAA1D8AAAAAAADUPwAAAAAAANQ/AAAAAAAA0D8AAAAAAADUPwAAAAAAANQ/AAAAAAAAyD8AAAAAAADIPwAAAAAAAMg/AAAAAAAA0D8AAAAAAADQPwAAAAAAANA/AAAAAAAAsD8AAAAAAACwPwAAAAAAAMA/AAAAAAAA0D8AAAAAAADUPwAAAAAAANQ/AAAAAAAAyD8AAAAAAADIPwAAAAAAANA/AAAAAAAAyD8AAAAAAADIPwAAAAAAAMg/AAAAAAAA1D8AAAAAAADUPwAAAAAAANQ/AAAAAAAAwD8AAAAAAADAPwAAAAAAAMA/AAAAAAAA0D8AAAAAAADQPwAAAAAAANA/AAAAAAAA0D8AAAAAAADQPwAAAAAAANA/AAAAAAAAyD8AAAAAAADIPwAAAAAAAMg/AAAAAAAA1D8AAAAAAADUPwAAAAAAANQ/AAAAAAAAwD8AAAAAAADAPwAAAAAAAMA/\",\"dtype\":\"float64\",\"order\":\"little\",\"shape\":[135]},\"end_time\":{\"__ndarray__\":\"AAAAAAAA1D8AAAAAAADUPwAAAAAAANA/AAAAAAAA6D8AAAAAAADoPwAAAAAAAOg/AAAAAAAA8D8AAAAAAADwPwAAAAAAAPA/AAAAAAAA+T8AAAAAAAD5PwAAAAAAAPk/AAAAAAAA/j8AAAAAAAD+PwAAAAAAAP4/AAAAAAAAAkAAAAAAAAACQAAAAAAAAAJAAAAAAAAABkAAAAAAAIAFQAAAAAAAgAVAAAAAAAAACEAAAAAAAAAIQAAAAAAAAAhAAAAAAAAADEAAAAAAAAAMQAAAAAAAgAtAAAAAAACADkAAAAAAAIAOQAAAAAAAgA5AAAAAAAAAEUAAAAAAAEARQAAAAAAAABFAAAAAAAAAE0AAAAAAAAATQAAAAAAAABNAAAAAAAAAFEAAAAAAAAAUQAAAAAAAABRAAAAAAADAFUAAAAAAAMAVQAAAAAAAwBVAAAAAAABAF0AAAAAAAEAXQAAAAAAAQBdAAAAAAAAAGUAAAAAAAEAZQAAAAAAAABlAAAAAAAAAG0AAAAAAAAAbQAAAAAAAABtAAAAAAAAAHEAAAAAAAAAcQAAAAAAAABxAAAAAAAAAHkAAAAAAAAAeQAAAAAAAwB1AAAAAAACAH0AAAAAAAIAfQAAAAAAAgB9AAAAAAACgIEAAAAAAAKAgQAAAAAAAoCBAAAAAAACAIUAAAAAAAGAhQAAAAAAAgCFAAAAAAAAAIkAAAAAAAAAiQAAAAAAAACJAAAAAAAAAI0AAAAAAAAAjQAAAAAAAACNAAAAAAADAI0AAAAAAAMAjQAAAAAAAwCNAAAAAAACAJEAAAAAAAIAkQAAAAAAAgCRAAAAAAACAJUAAAAAAAIAlQAAAAAAAgCVAAAAAAAAgJkAAAAAAACAmQAAAAAAAICZAAAAAAAAAJ0AAAAAAAAAnQAAAAAAA4CZAAAAAAADAJ0AAAAAAAMAnQAAAAAAAwCdAAAAAAACgKEAAAAAAAKAoQAAAAAAAoChAAAAAAACAKUAAAAAAAKApQAAAAAAAoClAAAAAAAAgKkAAAAAAACAqQAAAAAAAICpAAAAAAAAAK0AAAAAAAAArQAAAAAAAACtAAAAAAACgK0AAAAAAAKArQAAAAAAAwCtAAAAAAACALEAAAAAAAKAsQAAAAAAAoCxAAAAAAABgLUAAAAAAAGAtQAAAAAAAgC1AAAAAAAAgLkAAAAAAACAuQAAAAAAAIC5AAAAAAAAgL0AAAAAAACAvQAAAAAAAIC9AAAAAAADAL0AAAAAAAMAvQAAAAAAAwC9AAAAAAABAMEAAAAAAAEAwQAAAAAAAQDBAAAAAAADAMEAAAAAAAMAwQAAAAAAAwDBAAAAAAAAQMUAAAAAAABAxQAAAAAAAEDFAAAAAAACQMUAAAAAAAJAxQAAAAAAAkDFAAAAAAADgMUAAAAAAAOAxQAAAAAAA4DFA\",\"dtype\":\"float64\",\"order\":\"little\",\"shape\":[135]},\"fill_alpha\":{\"__ndarray__\":\"AAAAAAAA8D8AAAAAAADwPwAAAAAAAPA/AAAAAAAA8D8AAAAAAADwPwAAAAAAAPA/AAAAAAAA8D8AAAAAAADwPwAAAAAAAPA/AAAAAAAA8D8AAAAAAADwPwAAAAAAAPA/AAAAAAAA8D8AAAAAAADwPwAAAAAAAPA/AAAAAAAA8D8AAAAAAADwPwAAAAAAAPA/AAAAAAAA8D8AAAAAAADwPwAAAAAAAPA/AAAAAAAA8D8AAAAAAADwPwAAAAAAAPA/AAAAAAAA8D8AAAAAAADwPwAAAAAAAPA/AAAAAAAA8D8AAAAAAADwPwAAAAAAAPA/AAAAAAAA8D8AAAAAAADwPwAAAAAAAPA/AAAAAAAA8D8AAAAAAADwPwAAAAAAAPA/AAAAAAAA8D8AAAAAAADwPwAAAAAAAPA/AAAAAAAA8D8AAAAAAADwPwAAAAAAAPA/AAAAAAAA8D8AAAAAAADwPwAAAAAAAPA/AAAAAAAA8D8AAAAAAADwPwAAAAAAAPA/AAAAAAAA8D8AAAAAAADwPwAAAAAAAPA/AAAAAAAA8D8AAAAAAADwPwAAAAAAAPA/AAAAAAAA8D8AAAAAAADwPwAAAAAAAPA/AAAAAAAA8D8AAAAAAADwPwAAAAAAAPA/AAAAAAAA8D8AAAAAAADwPwAAAAAAAPA/AAAAAAAA8D8AAAAAAADwPwAAAAAAAPA/AAAAAAAA8D8AAAAAAADwPwAAAAAAAPA/AAAAAAAA8D8AAAAAAADwPwAAAAAAAPA/AAAAAAAA8D8AAAAAAADwPwAAAAAAAPA/AAAAAAAA8D8AAAAAAADwPwAAAAAAAPA/AAAAAAAA8D8AAAAAAADwPwAAAAAAAPA/AAAAAAAA8D8AAAAAAADwPwAAAAAAAPA/AAAAAAAA8D8AAAAAAADwPwAAAAAAAPA/AAAAAAAA8D8AAAAAAADwPwAAAAAAAPA/AAAAAAAA8D8AAAAAAADwPwAAAAAAAPA/AAAAAAAA8D8AAAAAAADwPwAAAAAAAPA/AAAAAAAA8D8AAAAAAADwPwAAAAAAAPA/AAAAAAAA8D8AAAAAAADwPwAAAAAAAPA/AAAAAAAA8D8AAAAAAADwPwAAAAAAAPA/AAAAAAAA8D8AAAAAAADwPwAAAAAAAPA/AAAAAAAA8D8AAAAAAADwPwAAAAAAAPA/AAAAAAAA8D8AAAAAAADwPwAAAAAAAPA/AAAAAAAA8D8AAAAAAADwPwAAAAAAAPA/AAAAAAAA8D8AAAAAAADwPwAAAAAAAPA/AAAAAAAA8D8AAAAAAADwPwAAAAAAAPA/AAAAAAAA8D8AAAAAAADwPwAAAAAAAPA/AAAAAAAA8D8AAAAAAADwPwAAAAAAAPA/AAAAAAAA8D8AAAAAAADwPwAAAAAAAPA/AAAAAAAA8D8AAAAAAADwPwAAAAAAAPA/\",\"dtype\":\"float64\",\"order\":\"little\",\"shape\":[135]},\"index\":[0,1,2,3,4,5,6,7,8,9,10,11,12,13,14,15,16,17,18,19,20,21,22,23,24,25,26,27,28,29,30,31,32,33,34,35,36,37,38,39,40,41,42,43,44,45,46,47,48,49,50,51,52,53,54,55,56,57,58,59,60,61,62,63,64,65,66,67,68,69,70,71,72,73,74,75,76,77,78,79,80,81,82,83,84,85,86,87,88,89,90,91,92,93,94,95,96,97,98,99,100,101,102,103,104,105,106,107,108,109,110,111,112,113,114,115,116,117,118,119,120,121,122,123,124,125,126,127,128,129,130,131,132,133,134],\"instrument\":[0,0,0,0,0,0,0,0,0,0,0,0,0,0,0,0,0,0,0,0,0,0,0,0,0,0,0,0,0,0,0,0,0,0,0,0,0,0,0,0,0,0,0,0,0,0,0,0,0,0,0,0,0,0,0,0,0,0,0,0,0,0,0,0,0,0,0,0,0,0,0,0,0,0,0,0,0,0,0,0,0,0,0,0,0,0,0,0,0,0,0,0,0,0,0,0,0,0,0,0,0,0,0,0,0,0,0,0,0,0,0,0,0,0,0,0,0,0,0,0,0,0,0,0,0,0,0,0,0,0,0,0,0,0,0],\"pitch\":[58,62,65,58,62,65,58,62,65,58,62,65,58,62,65,60,63,67,60,63,67,60,63,67,60,63,67,60,63,67,58,62,67,58,62,67,58,62,67,58,62,67,58,62,67,56,60,65,56,60,65,56,60,65,56,60,65,56,60,65,58,62,65,58,62,65,58,62,65,58,62,65,58,62,65,58,63,67,58,63,67,58,63,67,58,63,67,58,63,67,58,62,65,58,62,65,58,62,65,58,62,65,58,62,65,60,64,67,60,64,67,60,64,67,60,64,67,60,64,67,60,64,67,60,64,67,60,64,67,60,64,67,60,64,67],\"program\":[0,0,0,0,0,0,0,0,0,0,0,0,0,0,0,0,0,0,0,0,0,0,0,0,0,0,0,0,0,0,0,0,0,0,0,0,0,0,0,0,0,0,0,0,0,0,0,0,0,0,0,0,0,0,0,0,0,0,0,0,0,0,0,0,0,0,0,0,0,0,0,0,0,0,0,0,0,0,0,0,0,0,0,0,0,0,0,0,0,0,0,0,0,0,0,0,0,0,0,0,0,0,0,0,0,0,0,0,0,0,0,0,0,0,0,0,0,0,0,0,0,0,0,0,0,0,0,0,0,0,0,0,0,0,0],\"start_time\":{\"__ndarray__\":\"AAAAAAAAAAAAAAAAAAAAAAAAAAAAAAAAAAAAAAAA4D8AAAAAAADgPwAAAAAAAOA/AAAAAAAA7D8AAAAAAADsPwAAAAAAAOw/AAAAAAAA9D8AAAAAAAD0PwAAAAAAAPQ/AAAAAAAA/D8AAAAAAAD8PwAAAAAAAPw/AAAAAAAAAEAAAAAAAAAAQAAAAAAAAABAAAAAAAAABEAAAAAAAAAEQAAAAAAAAARAAAAAAAAAB0AAAAAAAAAHQAAAAAAAAAdAAAAAAAAACkAAAAAAAAAKQAAAAAAAAApAAAAAAAAADkAAAAAAAAAOQAAAAAAAAA5AAAAAAAAAEEAAAAAAAAAQQAAAAAAAABBAAAAAAAAAEkAAAAAAAAASQAAAAAAAABJAAAAAAACAE0AAAAAAAIATQAAAAAAAgBNAAAAAAAAAFUAAAAAAAAAVQAAAAAAAABVAAAAAAAAAF0AAAAAAAAAXQAAAAAAAABdAAAAAAAAAGEAAAAAAAAAYQAAAAAAAABhAAAAAAAAAGkAAAAAAAAAaQAAAAAAAABpAAAAAAACAG0AAAAAAAIAbQAAAAAAAgBtAAAAAAAAAHUAAAAAAAAAdQAAAAAAAAB1AAAAAAAAAH0AAAAAAAAAfQAAAAAAAAB9AAAAAAAAAIEAAAAAAAAAgQAAAAAAAACBAAAAAAAAAIUAAAAAAAAAhQAAAAAAAACFAAAAAAADAIUAAAAAAAMAhQAAAAAAAwCFAAAAAAACAIkAAAAAAAIAiQAAAAAAAgCJAAAAAAACAI0AAAAAAAIAjQAAAAAAAgCNAAAAAAAAAJEAAAAAAAAAkQAAAAAAAACRAAAAAAAAAJUAAAAAAAAAlQAAAAAAAACVAAAAAAADAJUAAAAAAAMAlQAAAAAAAwCVAAAAAAACAJkAAAAAAAIAmQAAAAAAAgCZAAAAAAACAJ0AAAAAAAIAnQAAAAAAAgCdAAAAAAAAAKEAAAAAAAAAoQAAAAAAAAChAAAAAAAAAKUAAAAAAAAApQAAAAAAAAClAAAAAAADAKUAAAAAAAMApQAAAAAAAwClAAAAAAACAKkAAAAAAAIAqQAAAAAAAgCpAAAAAAACAK0AAAAAAAIArQAAAAAAAgCtAAAAAAAAALEAAAAAAAAAsQAAAAAAAACxAAAAAAAAALUAAAAAAAAAtQAAAAAAAAC1AAAAAAADALUAAAAAAAMAtQAAAAAAAwC1AAAAAAACALkAAAAAAAIAuQAAAAAAAgC5AAAAAAACAL0AAAAAAAIAvQAAAAAAAgC9AAAAAAAAAMEAAAAAAAAAwQAAAAAAAADBAAAAAAACAMEAAAAAAAIAwQAAAAAAAgDBAAAAAAADgMEAAAAAAAOAwQAAAAAAA4DBAAAAAAABAMUAAAAAAAEAxQAAAAAAAQDFAAAAAAADAMUAAAAAAAMAxQAAAAAAAwDFA\",\"dtype\":\"float64\",\"order\":\"little\",\"shape\":[135]},\"top\":{\"__ndarray__\":\"MzMzMzMzTUAzMzMzMzNPQJqZmZmZWVBAMzMzMzMzTUAzMzMzMzNPQJqZmZmZWVBAMzMzMzMzTUAzMzMzMzNPQJqZmZmZWVBAMzMzMzMzTUAzMzMzMzNPQJqZmZmZWVBAMzMzMzMzTUAzMzMzMzNPQJqZmZmZWVBAMzMzMzMzTkAzMzMzM7NPQJqZmZmZ2VBAMzMzMzMzTkAzMzMzM7NPQJqZmZmZ2VBAMzMzMzMzTkAzMzMzM7NPQJqZmZmZ2VBAMzMzMzMzTkAzMzMzM7NPQJqZmZmZ2VBAMzMzMzMzTkAzMzMzM7NPQJqZmZmZ2VBAMzMzMzMzTUAzMzMzMzNPQJqZmZmZ2VBAMzMzMzMzTUAzMzMzMzNPQJqZmZmZ2VBAMzMzMzMzTUAzMzMzMzNPQJqZmZmZ2VBAMzMzMzMzTUAzMzMzMzNPQJqZmZmZ2VBAMzMzMzMzTUAzMzMzMzNPQJqZmZmZ2VBAMzMzMzMzTEAzMzMzMzNOQJqZmZmZWVBAMzMzMzMzTEAzMzMzMzNOQJqZmZmZWVBAMzMzMzMzTEAzMzMzMzNOQJqZmZmZWVBAMzMzMzMzTEAzMzMzMzNOQJqZmZmZWVBAMzMzMzMzTEAzMzMzMzNOQJqZmZmZWVBAMzMzMzMzTUAzMzMzMzNPQJqZmZmZWVBAMzMzMzMzTUAzMzMzMzNPQJqZmZmZWVBAMzMzMzMzTUAzMzMzMzNPQJqZmZmZWVBAMzMzMzMzTUAzMzMzMzNPQJqZmZmZWVBAMzMzMzMzTUAzMzMzMzNPQJqZmZmZWVBAMzMzMzMzTUAzMzMzM7NPQJqZmZmZ2VBAMzMzMzMzTUAzMzMzM7NPQJqZmZmZ2VBAMzMzMzMzTUAzMzMzM7NPQJqZmZmZ2VBAMzMzMzMzTUAzMzMzM7NPQJqZmZmZ2VBAMzMzMzMzTUAzMzMzM7NPQJqZmZmZ2VBAMzMzMzMzTUAzMzMzMzNPQJqZmZmZWVBAMzMzMzMzTUAzMzMzMzNPQJqZmZmZWVBAMzMzMzMzTUAzMzMzMzNPQJqZmZmZWVBAMzMzMzMzTUAzMzMzMzNPQJqZmZmZWVBAMzMzMzMzTUAzMzMzMzNPQJqZmZmZWVBAMzMzMzMzTkCamZmZmRlQQJqZmZmZ2VBAMzMzMzMzTkCamZmZmRlQQJqZmZmZ2VBAMzMzMzMzTkCamZmZmRlQQJqZmZmZ2VBAMzMzMzMzTkCamZmZmRlQQJqZmZmZ2VBAMzMzMzMzTkCamZmZmRlQQJqZmZmZ2VBAMzMzMzMzTkCamZmZmRlQQJqZmZmZ2VBAMzMzMzMzTkCamZmZmRlQQJqZmZmZ2VBAMzMzMzMzTkCamZmZmRlQQJqZmZmZ2VBAMzMzMzMzTkCamZmZmRlQQJqZmZmZ2VBAMzMzMzMzTkCamZmZmRlQQJqZmZmZ2VBA\",\"dtype\":\"float64\",\"order\":\"little\",\"shape\":[135]},\"velocity\":[99,99,99,99,99,99,99,99,99,99,99,99,99,99,99,99,99,99,99,99,99,99,99,99,99,99,99,99,99,99,99,99,99,99,99,99,99,99,99,99,99,99,99,99,99,99,99,99,99,99,99,99,99,99,99,99,99,99,99,99,99,99,99,99,99,99,99,99,99,99,99,99,99,99,99,99,99,99,99,99,99,99,99,99,99,99,99,99,99,99,99,99,99,99,99,99,99,99,99,99,99,99,99,99,99,99,99,99,99,99,99,99,99,99,99,99,99,99,99,99,99,99,99,99,99,99,99,99,99,99,99,99,99,99,99]},\"selected\":{\"id\":\"1549\"},\"selection_policy\":{\"id\":\"1548\"}},\"id\":\"1534\",\"type\":\"ColumnDataSource\"},{\"attributes\":{\"axis\":{\"id\":\"1511\"},\"coordinates\":null,\"group\":null,\"ticker\":null},\"id\":\"1514\",\"type\":\"Grid\"},{\"attributes\":{},\"id\":\"1512\",\"type\":\"BasicTicker\"},{\"attributes\":{\"coordinates\":null,\"group\":null},\"id\":\"1541\",\"type\":\"Title\"},{\"attributes\":{\"interval\":12},\"id\":\"1533\",\"type\":\"SingleIntervalTicker\"},{\"attributes\":{},\"id\":\"1547\",\"type\":\"AllLabels\"},{\"attributes\":{\"coordinates\":null,\"data_source\":{\"id\":\"1534\"},\"glyph\":{\"id\":\"1536\"},\"group\":null,\"hover_glyph\":null,\"muted_glyph\":{\"id\":\"1538\"},\"nonselection_glyph\":{\"id\":\"1537\"},\"view\":{\"id\":\"1540\"}},\"id\":\"1539\",\"type\":\"GlyphRenderer\"},{\"attributes\":{\"axis\":{\"id\":\"1515\"},\"coordinates\":null,\"dimension\":1,\"group\":null,\"ticker\":{\"id\":\"1533\"}},\"id\":\"1518\",\"type\":\"Grid\"},{\"attributes\":{\"bottom\":{\"field\":\"bottom\"},\"fill_alpha\":{\"value\":0.2},\"fill_color\":{\"value\":\"#d53e4f\"},\"hatch_alpha\":{\"value\":0.2},\"left\":{\"field\":\"start_time\"},\"line_alpha\":{\"value\":0.2},\"right\":{\"field\":\"end_time\"},\"top\":{\"field\":\"top\"}},\"id\":\"1538\",\"type\":\"Quad\"},{\"attributes\":{\"bottom\":{\"field\":\"bottom\"},\"fill_alpha\":{\"value\":0.1},\"fill_color\":{\"value\":\"#d53e4f\"},\"hatch_alpha\":{\"value\":0.1},\"left\":{\"field\":\"start_time\"},\"line_alpha\":{\"value\":0.1},\"right\":{\"field\":\"end_time\"},\"top\":{\"field\":\"top\"}},\"id\":\"1537\",\"type\":\"Quad\"},{\"attributes\":{},\"id\":\"1520\",\"type\":\"PanTool\"},{\"attributes\":{},\"id\":\"1548\",\"type\":\"UnionRenderers\"},{\"attributes\":{},\"id\":\"1523\",\"type\":\"SaveTool\"},{\"attributes\":{\"bottom\":{\"field\":\"bottom\"},\"fill_alpha\":{\"field\":\"fill_alpha\"},\"fill_color\":{\"value\":\"#d53e4f\"},\"left\":{\"field\":\"start_time\"},\"right\":{\"field\":\"end_time\"},\"top\":{\"field\":\"top\"}},\"id\":\"1536\",\"type\":\"Quad\"},{\"attributes\":{\"overlay\":{\"id\":\"1524\"}},\"id\":\"1521\",\"type\":\"BoxZoomTool\"},{\"attributes\":{\"callback\":null,\"tooltips\":[[\"pitch\",\"@pitch\"],[\"program\",\"@program\"],[\"velo\",\"@velocity\"],[\"duration\",\"@duration\"],[\"start_time\",\"@start_time\"],[\"end_time\",\"@end_time\"],[\"velocity\",\"@velocity\"],[\"fill_alpha\",\"@fill_alpha\"]]},\"id\":\"1519\",\"type\":\"HoverTool\"},{\"attributes\":{},\"id\":\"1549\",\"type\":\"Selection\"}],\"root_ids\":[\"1502\"]},\"title\":\"Bokeh Application\",\"version\":\"2.4.2\"}};\n  const render_items = [{\"docid\":\"bdce828e-3f6a-456f-a659-43ef2117b4a4\",\"root_ids\":[\"1502\"],\"roots\":{\"1502\":\"a3ab4f87-5e17-481a-b1b1-2cde3c1d2dd8\"}}];\n  root.Bokeh.embed.embed_items_notebook(docs_json, render_items);\n\n  }\n  if (root.Bokeh !== undefined) {\n    embed_document(root);\n  } else {\n    let attempts = 0;\n    const timer = setInterval(function(root) {\n      if (root.Bokeh !== undefined) {\n        clearInterval(timer);\n        embed_document(root);\n      } else {\n        attempts++;\n        if (attempts > 100) {\n          clearInterval(timer);\n          console.log(\"Bokeh: ERROR: Unable to run BokehJS code because BokehJS library is missing\");\n        }\n      }\n    }, 10, root)\n  }\n})(window);",
      "application/vnd.bokehjs_exec.v0+json": ""
     },
     "metadata": {
      "application/vnd.bokehjs_exec.v0+json": {
       "id": "1502"
      }
     },
     "output_type": "display_data"
    },
    {
     "data": {
      "text/html": [
       "\n",
       "    <div class=\"bk-root\">\n",
       "        <a href=\"https://bokeh.org\" target=\"_blank\" class=\"bk-logo bk-logo-small bk-logo-notebook\"></a>\n",
       "        <span id=\"1701\">Loading BokehJS ...</span>\n",
       "    </div>"
      ]
     },
     "metadata": {},
     "output_type": "display_data"
    },
    {
     "data": {
      "application/javascript": "\n(function(root) {\n  function now() {\n    return new Date();\n  }\n\n  const force = true;\n\n  if (typeof root._bokeh_onload_callbacks === \"undefined\" || force === true) {\n    root._bokeh_onload_callbacks = [];\n    root._bokeh_is_loading = undefined;\n  }\n\n  const JS_MIME_TYPE = 'application/javascript';\n  const HTML_MIME_TYPE = 'text/html';\n  const EXEC_MIME_TYPE = 'application/vnd.bokehjs_exec.v0+json';\n  const CLASS_NAME = 'output_bokeh rendered_html';\n\n  /**\n   * Render data to the DOM node\n   */\n  function render(props, node) {\n    const script = document.createElement(\"script\");\n    node.appendChild(script);\n  }\n\n  /**\n   * Handle when an output is cleared or removed\n   */\n  function handleClearOutput(event, handle) {\n    const cell = handle.cell;\n\n    const id = cell.output_area._bokeh_element_id;\n    const server_id = cell.output_area._bokeh_server_id;\n    // Clean up Bokeh references\n    if (id != null && id in Bokeh.index) {\n      Bokeh.index[id].model.document.clear();\n      delete Bokeh.index[id];\n    }\n\n    if (server_id !== undefined) {\n      // Clean up Bokeh references\n      const cmd_clean = \"from bokeh.io.state import curstate; print(curstate().uuid_to_server['\" + server_id + \"'].get_sessions()[0].document.roots[0]._id)\";\n      cell.notebook.kernel.execute(cmd_clean, {\n        iopub: {\n          output: function(msg) {\n            const id = msg.content.text.trim();\n            if (id in Bokeh.index) {\n              Bokeh.index[id].model.document.clear();\n              delete Bokeh.index[id];\n            }\n          }\n        }\n      });\n      // Destroy server and session\n      const cmd_destroy = \"import bokeh.io.notebook as ion; ion.destroy_server('\" + server_id + \"')\";\n      cell.notebook.kernel.execute(cmd_destroy);\n    }\n  }\n\n  /**\n   * Handle when a new output is added\n   */\n  function handleAddOutput(event, handle) {\n    const output_area = handle.output_area;\n    const output = handle.output;\n\n    // limit handleAddOutput to display_data with EXEC_MIME_TYPE content only\n    if ((output.output_type != \"display_data\") || (!Object.prototype.hasOwnProperty.call(output.data, EXEC_MIME_TYPE))) {\n      return\n    }\n\n    const toinsert = output_area.element.find(\".\" + CLASS_NAME.split(' ')[0]);\n\n    if (output.metadata[EXEC_MIME_TYPE][\"id\"] !== undefined) {\n      toinsert[toinsert.length - 1].firstChild.textContent = output.data[JS_MIME_TYPE];\n      // store reference to embed id on output_area\n      output_area._bokeh_element_id = output.metadata[EXEC_MIME_TYPE][\"id\"];\n    }\n    if (output.metadata[EXEC_MIME_TYPE][\"server_id\"] !== undefined) {\n      const bk_div = document.createElement(\"div\");\n      bk_div.innerHTML = output.data[HTML_MIME_TYPE];\n      const script_attrs = bk_div.children[0].attributes;\n      for (let i = 0; i < script_attrs.length; i++) {\n        toinsert[toinsert.length - 1].firstChild.setAttribute(script_attrs[i].name, script_attrs[i].value);\n        toinsert[toinsert.length - 1].firstChild.textContent = bk_div.children[0].textContent\n      }\n      // store reference to server id on output_area\n      output_area._bokeh_server_id = output.metadata[EXEC_MIME_TYPE][\"server_id\"];\n    }\n  }\n\n  function register_renderer(events, OutputArea) {\n\n    function append_mime(data, metadata, element) {\n      // create a DOM node to render to\n      const toinsert = this.create_output_subarea(\n        metadata,\n        CLASS_NAME,\n        EXEC_MIME_TYPE\n      );\n      this.keyboard_manager.register_events(toinsert);\n      // Render to node\n      const props = {data: data, metadata: metadata[EXEC_MIME_TYPE]};\n      render(props, toinsert[toinsert.length - 1]);\n      element.append(toinsert);\n      return toinsert\n    }\n\n    /* Handle when an output is cleared or removed */\n    events.on('clear_output.CodeCell', handleClearOutput);\n    events.on('delete.Cell', handleClearOutput);\n\n    /* Handle when a new output is added */\n    events.on('output_added.OutputArea', handleAddOutput);\n\n    /**\n     * Register the mime type and append_mime function with output_area\n     */\n    OutputArea.prototype.register_mime_type(EXEC_MIME_TYPE, append_mime, {\n      /* Is output safe? */\n      safe: true,\n      /* Index of renderer in `output_area.display_order` */\n      index: 0\n    });\n  }\n\n  // register the mime type if in Jupyter Notebook environment and previously unregistered\n  if (root.Jupyter !== undefined) {\n    const events = require('base/js/events');\n    const OutputArea = require('notebook/js/outputarea').OutputArea;\n\n    if (OutputArea.prototype.mime_types().indexOf(EXEC_MIME_TYPE) == -1) {\n      register_renderer(events, OutputArea);\n    }\n  }\n\n  \n  if (typeof (root._bokeh_timeout) === \"undefined\" || force === true) {\n    root._bokeh_timeout = Date.now() + 5000;\n    root._bokeh_failed_load = false;\n  }\n\n  const NB_LOAD_WARNING = {'data': {'text/html':\n     \"<div style='background-color: #fdd'>\\n\"+\n     \"<p>\\n\"+\n     \"BokehJS does not appear to have successfully loaded. If loading BokehJS from CDN, this \\n\"+\n     \"may be due to a slow or bad network connection. Possible fixes:\\n\"+\n     \"</p>\\n\"+\n     \"<ul>\\n\"+\n     \"<li>re-rerun `output_notebook()` to attempt to load from CDN again, or</li>\\n\"+\n     \"<li>use INLINE resources instead, as so:</li>\\n\"+\n     \"</ul>\\n\"+\n     \"<code>\\n\"+\n     \"from bokeh.resources import INLINE\\n\"+\n     \"output_notebook(resources=INLINE)\\n\"+\n     \"</code>\\n\"+\n     \"</div>\"}};\n\n  function display_loaded() {\n    const el = document.getElementById(\"1701\");\n    if (el != null) {\n      el.textContent = \"BokehJS is loading...\";\n    }\n    if (root.Bokeh !== undefined) {\n      if (el != null) {\n        el.textContent = \"BokehJS \" + root.Bokeh.version + \" successfully loaded.\";\n      }\n    } else if (Date.now() < root._bokeh_timeout) {\n      setTimeout(display_loaded, 100)\n    }\n  }\n\n\n  function run_callbacks() {\n    try {\n      root._bokeh_onload_callbacks.forEach(function(callback) {\n        if (callback != null)\n          callback();\n      });\n    } finally {\n      delete root._bokeh_onload_callbacks\n    }\n    console.debug(\"Bokeh: all callbacks have finished\");\n  }\n\n  function load_libs(css_urls, js_urls, callback) {\n    if (css_urls == null) css_urls = [];\n    if (js_urls == null) js_urls = [];\n\n    root._bokeh_onload_callbacks.push(callback);\n    if (root._bokeh_is_loading > 0) {\n      console.debug(\"Bokeh: BokehJS is being loaded, scheduling callback at\", now());\n      return null;\n    }\n    if (js_urls == null || js_urls.length === 0) {\n      run_callbacks();\n      return null;\n    }\n    console.debug(\"Bokeh: BokehJS not loaded, scheduling load and callback at\", now());\n    root._bokeh_is_loading = css_urls.length + js_urls.length;\n\n    function on_load() {\n      root._bokeh_is_loading--;\n      if (root._bokeh_is_loading === 0) {\n        console.debug(\"Bokeh: all BokehJS libraries/stylesheets loaded\");\n        run_callbacks()\n      }\n    }\n\n    function on_error(url) {\n      console.error(\"failed to load \" + url);\n    }\n\n    for (let i = 0; i < css_urls.length; i++) {\n      const url = css_urls[i];\n      const element = document.createElement(\"link\");\n      element.onload = on_load;\n      element.onerror = on_error.bind(null, url);\n      element.rel = \"stylesheet\";\n      element.type = \"text/css\";\n      element.href = url;\n      console.debug(\"Bokeh: injecting link tag for BokehJS stylesheet: \", url);\n      document.body.appendChild(element);\n    }\n\n    for (let i = 0; i < js_urls.length; i++) {\n      const url = js_urls[i];\n      const element = document.createElement('script');\n      element.onload = on_load;\n      element.onerror = on_error.bind(null, url);\n      element.async = false;\n      element.src = url;\n      console.debug(\"Bokeh: injecting script tag for BokehJS library: \", url);\n      document.head.appendChild(element);\n    }\n  };\n\n  function inject_raw_css(css) {\n    const element = document.createElement(\"style\");\n    element.appendChild(document.createTextNode(css));\n    document.body.appendChild(element);\n  }\n\n  \n  const js_urls = [\"https://cdn.bokeh.org/bokeh/release/bokeh-2.4.2.min.js\", \"https://cdn.bokeh.org/bokeh/release/bokeh-gl-2.4.2.min.js\", \"https://cdn.bokeh.org/bokeh/release/bokeh-widgets-2.4.2.min.js\", \"https://cdn.bokeh.org/bokeh/release/bokeh-tables-2.4.2.min.js\", \"https://cdn.bokeh.org/bokeh/release/bokeh-mathjax-2.4.2.min.js\"];\n  const css_urls = [];\n  \n\n  const inline_js = [\n    function(Bokeh) {\n      Bokeh.set_log_level(\"info\");\n    },\n    function(Bokeh) {\n    \n    \n    }\n  ];\n\n  function run_inline_js() {\n    \n    if (root.Bokeh !== undefined || force === true) {\n      \n    for (let i = 0; i < inline_js.length; i++) {\n      inline_js[i].call(root, root.Bokeh);\n    }\n    if (force === true) {\n        display_loaded();\n      }} else if (Date.now() < root._bokeh_timeout) {\n      setTimeout(run_inline_js, 100);\n    } else if (!root._bokeh_failed_load) {\n      console.log(\"Bokeh: BokehJS failed to load within specified timeout.\");\n      root._bokeh_failed_load = true;\n    } else if (force !== true) {\n      const cell = $(document.getElementById(\"1701\")).parents('.cell').data().cell;\n      cell.output_area.append_execute_result(NB_LOAD_WARNING)\n    }\n\n  }\n\n  if (root._bokeh_is_loading === 0) {\n    console.debug(\"Bokeh: BokehJS loaded, going straight to plotting\");\n    run_inline_js();\n  } else {\n    load_libs(css_urls, js_urls, function() {\n      console.debug(\"Bokeh: BokehJS plotting callback run at\", now());\n      run_inline_js();\n    });\n  }\n}(window));",
      "application/vnd.bokehjs_load.v0+json": ""
     },
     "metadata": {},
     "output_type": "display_data"
    },
    {
     "data": {
      "text/html": [
       "\n",
       "\n",
       "\n",
       "\n",
       "\n",
       "\n",
       "  <div class=\"bk-root\" id=\"585aac70-693a-4f45-b509-fed19bf0ea00\" data-root-id=\"1652\"></div>\n"
      ]
     },
     "metadata": {},
     "output_type": "display_data"
    },
    {
     "data": {
      "application/javascript": "(function(root) {\n  function embed_document(root) {\n    \n  const docs_json = {\"8d664365-db70-421c-8e48-b4c8c26bcab0\":{\"defs\":[],\"roots\":{\"references\":[{\"attributes\":{\"below\":[{\"id\":\"1661\"}],\"center\":[{\"id\":\"1664\"},{\"id\":\"1668\"}],\"height\":200,\"left\":[{\"id\":\"1665\"}],\"renderers\":[{\"id\":\"1689\"}],\"title\":{\"id\":\"1691\"},\"toolbar\":{\"id\":\"1675\"},\"width\":500,\"x_range\":{\"id\":\"1653\"},\"x_scale\":{\"id\":\"1657\"},\"y_range\":{\"id\":\"1655\"},\"y_scale\":{\"id\":\"1659\"}},\"id\":\"1652\",\"subtype\":\"Figure\",\"type\":\"Plot\"},{\"attributes\":{},\"id\":\"1697\",\"type\":\"AllLabels\"},{\"attributes\":{\"bottom\":{\"field\":\"bottom\"},\"fill_alpha\":{\"value\":0.2},\"fill_color\":{\"value\":\"#d53e4f\"},\"hatch_alpha\":{\"value\":0.2},\"left\":{\"field\":\"start_time\"},\"line_alpha\":{\"value\":0.2},\"right\":{\"field\":\"end_time\"},\"top\":{\"field\":\"top\"}},\"id\":\"1688\",\"type\":\"Quad\"},{\"attributes\":{},\"id\":\"1653\",\"type\":\"DataRange1d\"},{\"attributes\":{\"axis_label\":\"time (sec)\",\"coordinates\":null,\"formatter\":{\"id\":\"1696\"},\"group\":null,\"major_label_policy\":{\"id\":\"1697\"},\"ticker\":{\"id\":\"1662\"}},\"id\":\"1661\",\"type\":\"LinearAxis\"},{\"attributes\":{\"source\":{\"id\":\"1684\"}},\"id\":\"1690\",\"type\":\"CDSView\"},{\"attributes\":{},\"id\":\"1659\",\"type\":\"LinearScale\"},{\"attributes\":{\"tools\":[{\"id\":\"1669\"},{\"id\":\"1670\"},{\"id\":\"1671\"},{\"id\":\"1672\"},{\"id\":\"1673\"}]},\"id\":\"1675\",\"type\":\"Toolbar\"},{\"attributes\":{},\"id\":\"1696\",\"type\":\"BasicTickFormatter\"},{\"attributes\":{\"bottom_units\":\"screen\",\"coordinates\":null,\"fill_alpha\":0.5,\"fill_color\":\"lightgrey\",\"group\":null,\"left_units\":\"screen\",\"level\":\"overlay\",\"line_alpha\":1.0,\"line_color\":\"black\",\"line_dash\":[4,4],\"line_width\":2,\"right_units\":\"screen\",\"syncable\":false,\"top_units\":\"screen\"},\"id\":\"1674\",\"type\":\"BoxAnnotation\"},{\"attributes\":{},\"id\":\"1672\",\"type\":\"ResetTool\"},{\"attributes\":{\"data\":{\"bottom\":{\"__ndarray__\":\"ZmZmZmamUUBmZmZmZqZUQGZmZmZmplFAZmZmZmamVEBmZmZmZiZRQGZmZmZmJlRAZmZmZmYmUUBmZmZmZiZUQGZmZmZmplFAZmZmZmamVEBmZmZmZqZRQGZmZmZmplRAZmZmZmYmUUBmZmZmZiZUQGZmZmZmJlFAZmZmZmYmVEBmZmZmZqZRQGZmZmZmplRAZmZmZmamUUBmZmZmZqZUQGZmZmZmJlFAZmZmZmYmVEBmZmZmZiZRQGZmZmZmJlRAZmZmZmamUUBmZmZmZqZUQGZmZmZmplFAZmZmZmamVEBmZmZmZiZRQGZmZmZmJlRAZmZmZmYmUUBmZmZmZiZUQA==\",\"dtype\":\"float64\",\"order\":\"little\",\"shape\":[32]},\"duration\":{\"__ndarray__\":\"AAAAAAAAwD8AAAAAAADAPwAAAAAAAMA/AAAAAAAAwD8AAAAAAADAPwAAAAAAAMA/AAAAAAAAwD8AAAAAAADAPwAAAAAAAMA/AAAAAAAAwD8AAAAAAADAPwAAAAAAAMA/AAAAAAAAwD8AAAAAAADAPwAAAAAAAMA/AAAAAAAAwD8AAAAAAADAPwAAAAAAAMA/AAAAAAAAwD8AAAAAAADAPwAAAAAAAMA/AAAAAAAAwD8AAAAAAADAPwAAAAAAAMA/AAAAAAAAwD8AAAAAAADAPwAAAAAAAMA/AAAAAAAAwD8AAAAAAADAPwAAAAAAAMA/AAAAAAAAwD8AAAAAAADAPw==\",\"dtype\":\"float64\",\"order\":\"little\",\"shape\":[32]},\"end_time\":{\"__ndarray__\":\"AAAAAAAAAUAAAAAAAAACQAAAAAAAAANAAAAAAAAABEAAAAAAAIAWQAAAAAAAABdAAAAAAACAF0AAAAAAAAAYQAAAAAAAQCRAAAAAAACAJEAAAAAAAMAkQAAAAAAAACVAAAAAAABAK0AAAAAAAIArQAAAAAAAwCtAAAAAAAAALEAAAAAAACAyQAAAAAAAQDJAAAAAAABgMkAAAAAAAIAyQAAAAAAAoDVAAAAAAADANUAAAAAAAOA1QAAAAAAAADZAAAAAAAAgOkAAAAAAAEA6QAAAAAAAYDpAAAAAAACAOkAAAAAAAKA9QAAAAAAAwD1AAAAAAADgPUAAAAAAAAA+QA==\",\"dtype\":\"float64\",\"order\":\"little\",\"shape\":[32]},\"fill_alpha\":{\"__ndarray__\":\"AAAAAAAA8D8AAAAAAADwPwAAAAAAAPA/AAAAAAAA8D8AAAAAAADwPwAAAAAAAPA/AAAAAAAA8D8AAAAAAADwPwAAAAAAAPA/AAAAAAAA8D8AAAAAAADwPwAAAAAAAPA/AAAAAAAA8D8AAAAAAADwPwAAAAAAAPA/AAAAAAAA8D8AAAAAAADwPwAAAAAAAPA/AAAAAAAA8D8AAAAAAADwPwAAAAAAAPA/AAAAAAAA8D8AAAAAAADwPwAAAAAAAPA/AAAAAAAA8D8AAAAAAADwPwAAAAAAAPA/AAAAAAAA8D8AAAAAAADwPwAAAAAAAPA/AAAAAAAA8D8AAAAAAADwPw==\",\"dtype\":\"float64\",\"order\":\"little\",\"shape\":[32]},\"index\":[0,1,2,3,4,5,6,7,8,9,10,11,12,13,14,15,16,17,18,19,20,21,22,23,24,25,26,27,28,29,30,31],\"instrument\":[0,0,0,0,0,0,0,0,0,0,0,0,0,0,0,0,0,0,0,0,0,0,0,0,0,0,0,0,0,0,0,0],\"pitch\":[71,83,71,83,69,81,69,81,71,83,71,83,69,81,69,81,71,83,71,83,69,81,69,81,71,83,71,83,69,81,69,81],\"program\":[0,0,0,0,0,0,0,0,0,0,0,0,0,0,0,0,0,0,0,0,0,0,0,0,0,0,0,0,0,0,0,0],\"start_time\":{\"__ndarray__\":\"AAAAAAAAAEAAAAAAAAABQAAAAAAAAAJAAAAAAAAAA0AAAAAAAAAWQAAAAAAAgBZAAAAAAAAAF0AAAAAAAIAXQAAAAAAAACRAAAAAAABAJEAAAAAAAIAkQAAAAAAAwCRAAAAAAAAAK0AAAAAAAEArQAAAAAAAgCtAAAAAAADAK0AAAAAAAAAyQAAAAAAAIDJAAAAAAABAMkAAAAAAAGAyQAAAAAAAgDVAAAAAAACgNUAAAAAAAMA1QAAAAAAA4DVAAAAAAAAAOkAAAAAAACA6QAAAAAAAQDpAAAAAAABgOkAAAAAAAIA9QAAAAAAAoD1AAAAAAADAPUAAAAAAAOA9QA==\",\"dtype\":\"float64\",\"order\":\"little\",\"shape\":[32]},\"top\":{\"__ndarray__\":\"mpmZmZnZUUCamZmZmdlUQJqZmZmZ2VFAmpmZmZnZVECamZmZmVlRQJqZmZmZWVRAmpmZmZlZUUCamZmZmVlUQJqZmZmZ2VFAmpmZmZnZVECamZmZmdlRQJqZmZmZ2VRAmpmZmZlZUUCamZmZmVlUQJqZmZmZWVFAmpmZmZlZVECamZmZmdlRQJqZmZmZ2VRAmpmZmZnZUUCamZmZmdlUQJqZmZmZWVFAmpmZmZlZVECamZmZmVlRQJqZmZmZWVRAmpmZmZnZUUCamZmZmdlUQJqZmZmZ2VFAmpmZmZnZVECamZmZmVlRQJqZmZmZWVRAmpmZmZlZUUCamZmZmVlUQA==\",\"dtype\":\"float64\",\"order\":\"little\",\"shape\":[32]},\"velocity\":[71,71,71,71,71,71,71,71,71,71,71,71,71,71,71,71,71,71,71,71,71,71,71,71,71,71,71,71,71,71,71,71]},\"selected\":{\"id\":\"1699\"},\"selection_policy\":{\"id\":\"1698\"}},\"id\":\"1684\",\"type\":\"ColumnDataSource\"},{\"attributes\":{\"overlay\":{\"id\":\"1674\"}},\"id\":\"1671\",\"type\":\"BoxZoomTool\"},{\"attributes\":{\"interval\":12},\"id\":\"1681\",\"type\":\"SingleIntervalTicker\"},{\"attributes\":{},\"id\":\"1662\",\"type\":\"BasicTicker\"},{\"attributes\":{\"coordinates\":null,\"group\":null},\"id\":\"1691\",\"type\":\"Title\"},{\"attributes\":{\"coordinates\":null,\"data_source\":{\"id\":\"1684\"},\"glyph\":{\"id\":\"1686\"},\"group\":null,\"hover_glyph\":null,\"muted_glyph\":{\"id\":\"1688\"},\"nonselection_glyph\":{\"id\":\"1687\"},\"view\":{\"id\":\"1690\"}},\"id\":\"1689\",\"type\":\"GlyphRenderer\"},{\"attributes\":{\"interval\":12},\"id\":\"1683\",\"type\":\"SingleIntervalTicker\"},{\"attributes\":{},\"id\":\"1670\",\"type\":\"PanTool\"},{\"attributes\":{},\"id\":\"1693\",\"type\":\"BasicTickFormatter\"},{\"attributes\":{},\"id\":\"1673\",\"type\":\"SaveTool\"},{\"attributes\":{},\"id\":\"1694\",\"type\":\"AllLabels\"},{\"attributes\":{},\"id\":\"1698\",\"type\":\"UnionRenderers\"},{\"attributes\":{\"axis\":{\"id\":\"1661\"},\"coordinates\":null,\"group\":null,\"ticker\":null},\"id\":\"1664\",\"type\":\"Grid\"},{\"attributes\":{\"bottom\":{\"field\":\"bottom\"},\"fill_alpha\":{\"value\":0.1},\"fill_color\":{\"value\":\"#d53e4f\"},\"hatch_alpha\":{\"value\":0.1},\"left\":{\"field\":\"start_time\"},\"line_alpha\":{\"value\":0.1},\"right\":{\"field\":\"end_time\"},\"top\":{\"field\":\"top\"}},\"id\":\"1687\",\"type\":\"Quad\"},{\"attributes\":{},\"id\":\"1699\",\"type\":\"Selection\"},{\"attributes\":{},\"id\":\"1657\",\"type\":\"LinearScale\"},{\"attributes\":{\"bottom\":{\"field\":\"bottom\"},\"fill_alpha\":{\"field\":\"fill_alpha\"},\"fill_color\":{\"value\":\"#d53e4f\"},\"left\":{\"field\":\"start_time\"},\"right\":{\"field\":\"end_time\"},\"top\":{\"field\":\"top\"}},\"id\":\"1686\",\"type\":\"Quad\"},{\"attributes\":{\"callback\":null,\"tooltips\":[[\"pitch\",\"@pitch\"],[\"program\",\"@program\"],[\"velo\",\"@velocity\"],[\"duration\",\"@duration\"],[\"start_time\",\"@start_time\"],[\"end_time\",\"@end_time\"],[\"velocity\",\"@velocity\"],[\"fill_alpha\",\"@fill_alpha\"]]},\"id\":\"1669\",\"type\":\"HoverTool\"},{\"attributes\":{\"axis_label\":\"pitch (MIDI)\",\"coordinates\":null,\"formatter\":{\"id\":\"1693\"},\"group\":null,\"major_label_policy\":{\"id\":\"1694\"},\"ticker\":{\"id\":\"1681\"}},\"id\":\"1665\",\"type\":\"LinearAxis\"},{\"attributes\":{\"axis\":{\"id\":\"1665\"},\"coordinates\":null,\"dimension\":1,\"group\":null,\"ticker\":{\"id\":\"1683\"}},\"id\":\"1668\",\"type\":\"Grid\"},{\"attributes\":{},\"id\":\"1655\",\"type\":\"DataRange1d\"}],\"root_ids\":[\"1652\"]},\"title\":\"Bokeh Application\",\"version\":\"2.4.2\"}};\n  const render_items = [{\"docid\":\"8d664365-db70-421c-8e48-b4c8c26bcab0\",\"root_ids\":[\"1652\"],\"roots\":{\"1652\":\"585aac70-693a-4f45-b509-fed19bf0ea00\"}}];\n  root.Bokeh.embed.embed_items_notebook(docs_json, render_items);\n\n  }\n  if (root.Bokeh !== undefined) {\n    embed_document(root);\n  } else {\n    let attempts = 0;\n    const timer = setInterval(function(root) {\n      if (root.Bokeh !== undefined) {\n        clearInterval(timer);\n        embed_document(root);\n      } else {\n        attempts++;\n        if (attempts > 100) {\n          clearInterval(timer);\n          console.log(\"Bokeh: ERROR: Unable to run BokehJS code because BokehJS library is missing\");\n        }\n      }\n    }, 10, root)\n  }\n})(window);",
      "application/vnd.bokehjs_exec.v0+json": ""
     },
     "metadata": {
      "application/vnd.bokehjs_exec.v0+json": {
       "id": "1652"
      }
     },
     "output_type": "display_data"
    }
   ],
   "source": [
    "from random import choice\n",
    "from src.utils import miditoolkit_to_notesequence\n",
    "from note_seq import plot_sequence\n",
    "\n",
    "for i in range(5):\n",
    "    plot_sequence(miditoolkit_to_notesequence(\n",
    "        tokenizer.tokens_to_midi([choice(data.dataset.all_tokens)])))\n"
   ]
  },
  {
   "cell_type": "code",
   "execution_count": 8,
   "metadata": {},
   "outputs": [
    {
     "name": "stdout",
     "output_type": "stream",
     "text": [
      "{'input_ids': tensor([[  1, 186,  50,  ...,   0,   0,   0],\n",
      "        [  1,   1,   1,  ...,   0,   0,   0],\n",
      "        [  1, 194,  34,  ...,   0,   0,   0],\n",
      "        ...,\n",
      "        [  1,   1, 202,  ...,   0,   0,   0],\n",
      "        [  1, 186,  23,  ...,   0,   0,   0],\n",
      "        [  1, 186,  47,  ...,   0,   0,   0]])}\n"
     ]
    }
   ],
   "source": [
    "for idx, d in enumerate(data.train_dataloader()):\n",
    "    if idx == 1:\n",
    "        break"
   ]
  },
  {
   "cell_type": "code",
   "execution_count": 13,
   "metadata": {},
   "outputs": [
    {
     "data": {
      "text/plain": [
       "torch.Size([32, 1024])"
      ]
     },
     "execution_count": 13,
     "metadata": {},
     "output_type": "execute_result"
    }
   ],
   "source": [
    "d[\"input_ids\"].size()"
   ]
  },
  {
   "cell_type": "code",
   "execution_count": 12,
   "metadata": {},
   "outputs": [
    {
     "data": {
      "text/plain": [
       "[ticks per beat: 480\n",
       " max tick: 72002\n",
       " tempo changes: 68\n",
       " time sig: 2\n",
       " key sig: 0\n",
       " markers: 0\n",
       " lyrics: False\n",
       " instruments: 1,\n",
       " ticks per beat: 480\n",
       " max tick: 72002\n",
       " tempo changes: 68\n",
       " time sig: 2\n",
       " key sig: 0\n",
       " markers: 0\n",
       " lyrics: False\n",
       " instruments: 1]"
      ]
     },
     "execution_count": 12,
     "metadata": {},
     "output_type": "execute_result"
    }
   ],
   "source": [
    "from src.datasets import _tokenize_midi_file, extract_target_part\n",
    "import miditoolkit\n",
    "from miditoolkit import MidiFile, notes2pianoroll\n",
    "from miditok import (REMI, CPWord, Event, MIDILike, MIDITokenizer, MuMIDI,\n",
    "                     OctupleMono)\n",
    "\n",
    "path_midi = miditoolkit.midi.utils.example_midi_file()\n",
    "midi = MidiFile(path_midi)\n",
    "midis = extract_target_part(midi, 'melody')\n",
    "midis"
   ]
  },
  {
   "cell_type": "markdown",
   "metadata": {},
   "source": [
    "## Check Network Graph"
   ]
  },
  {
   "cell_type": "code",
   "execution_count": 5,
   "metadata": {},
   "outputs": [],
   "source": [
    "from src.models import LtMusicVAE\n",
    "\n",
    "model = LtMusicVAE(data.tokenizer, config)"
   ]
  },
  {
   "cell_type": "code",
   "execution_count": 6,
   "metadata": {},
   "outputs": [],
   "source": [
    "import torch\n",
    "\n",
    "_input = torch.randint(0, len(tokenizer.vocab), (32, 1024))\n",
    "mu, sigma = model.encoder(_input)"
   ]
  },
  {
   "cell_type": "code",
   "execution_count": 7,
   "metadata": {},
   "outputs": [
    {
     "name": "stdout",
     "output_type": "stream",
     "text": [
      "mu:  torch.Size([32, 512])\n",
      "sigma:  torch.Size([32, 512])\n"
     ]
    }
   ],
   "source": [
    "print(\"mu: \", mu.size())\n",
    "print(\"sigma: \", sigma.size())"
   ]
  },
  {
   "cell_type": "code",
   "execution_count": 8,
   "metadata": {},
   "outputs": [],
   "source": [
    "z = model.reparametrize(mu, sigma)"
   ]
  },
  {
   "cell_type": "code",
   "execution_count": 9,
   "metadata": {},
   "outputs": [
    {
     "name": "stdout",
     "output_type": "stream",
     "text": [
      "z:  torch.Size([32, 512])\n"
     ]
    }
   ],
   "source": [
    "print(\"z: \", z.size())"
   ]
  },
  {
   "cell_type": "code",
   "execution_count": 10,
   "metadata": {},
   "outputs": [],
   "source": [
    "decoded = model.decoder(z)"
   ]
  },
  {
   "cell_type": "code",
   "execution_count": 11,
   "metadata": {},
   "outputs": [
    {
     "data": {
      "text/plain": [
       "torch.Size([32, 1024, 218])"
      ]
     },
     "execution_count": 11,
     "metadata": {},
     "output_type": "execute_result"
    }
   ],
   "source": [
    "decoded.size()"
   ]
  },
  {
   "cell_type": "code",
   "execution_count": 12,
   "metadata": {},
   "outputs": [],
   "source": [
    "for idx, d in enumerate(data.train_dataloader()):\n",
    "    if idx == 1:\n",
    "        break\n",
    "x, z, mu, sigma = model(d[\"input_ids\"])"
   ]
  },
  {
   "cell_type": "code",
   "execution_count": 13,
   "metadata": {},
   "outputs": [
    {
     "name": "stdout",
     "output_type": "stream",
     "text": [
      "torch.Size([32, 1024, 218])\n",
      "torch.Size([32, 1024])\n"
     ]
    }
   ],
   "source": [
    "print(x.size())\n",
    "print(d[\"input_ids\"].size())"
   ]
  },
  {
   "cell_type": "code",
   "execution_count": 35,
   "metadata": {},
   "outputs": [
    {
     "data": {
      "text/plain": [
       "torch.Size([32, 218, 1024])"
      ]
     },
     "execution_count": 35,
     "metadata": {},
     "output_type": "execute_result"
    }
   ],
   "source": [
    "x.transpose(1, 2).size()"
   ]
  },
  {
   "cell_type": "code",
   "execution_count": 36,
   "metadata": {},
   "outputs": [
    {
     "data": {
      "text/plain": [
       "tensor(-0.0046, grad_fn=<NllLoss2DBackward>)"
      ]
     },
     "execution_count": 36,
     "metadata": {},
     "output_type": "execute_result"
    }
   ],
   "source": [
    "\n",
    "from torch.nn.functional import binary_cross_entropy, nll_loss\n",
    "\n",
    "nll_loss(x.transpose(1, 2), d[\"input_ids\"], ignore_index=0)"
   ]
  },
  {
   "cell_type": "code",
   "execution_count": 45,
   "metadata": {},
   "outputs": [
    {
     "data": {
      "text/plain": [
       "tensor([[1.0452, 0.9702, 1.0159,  ..., 1.0049, 1.0567, 1.0468],\n",
       "        [1.0885, 1.0312, 1.0289,  ..., 1.0259, 1.0585, 1.0647],\n",
       "        [1.0646, 1.0344, 1.0075,  ..., 0.9881, 1.0511, 1.0192],\n",
       "        ...,\n",
       "        [1.0887, 1.0322, 1.0287,  ..., 1.0265, 1.0593, 1.0659],\n",
       "        [1.0579, 1.0288, 1.0160,  ..., 0.9967, 1.0532, 1.0109],\n",
       "        [1.0657, 0.9650, 0.9859,  ..., 0.9839, 1.0438, 1.0358]],\n",
       "       grad_fn=<AddBackward0>)"
      ]
     },
     "execution_count": 45,
     "metadata": {},
     "output_type": "execute_result"
    }
   ],
   "source": [
    "sigma + 1"
   ]
  },
  {
   "cell_type": "code",
   "execution_count": 46,
   "metadata": {},
   "outputs": [],
   "source": [
    "from torch.distributions.kl import kl_divergence\n",
    "from torch.distributions.normal import Normal\n",
    "\n",
    "sigma_prior = torch.tensor([1.0])\n",
    "mu_prior = torch.tensor([0.0])\n",
    "p = Normal(mu_prior, sigma_prior)\n",
    "q = Normal(mu, sigma + 1)"
   ]
  },
  {
   "cell_type": "code",
   "execution_count": 51,
   "metadata": {},
   "outputs": [
    {
     "data": {
      "text/plain": [
       "tensor([[ 0.0452, -0.0298,  0.0159,  ...,  0.0049,  0.0567,  0.0468],\n",
       "        [ 0.0885,  0.0312,  0.0289,  ...,  0.0259,  0.0585,  0.0647],\n",
       "        [ 0.0646,  0.0344,  0.0075,  ..., -0.0119,  0.0511,  0.0192],\n",
       "        ...,\n",
       "        [ 0.0887,  0.0322,  0.0287,  ...,  0.0265,  0.0593,  0.0659],\n",
       "        [ 0.0579,  0.0288,  0.0160,  ..., -0.0033,  0.0532,  0.0109],\n",
       "        [ 0.0657, -0.0350, -0.0141,  ..., -0.0161,  0.0438,  0.0358]],\n",
       "       grad_fn=<LogBackward>)"
      ]
     },
     "execution_count": 51,
     "metadata": {},
     "output_type": "execute_result"
    }
   ],
   "source": [
    "sigma"
   ]
  },
  {
   "cell_type": "code",
   "execution_count": 50,
   "metadata": {},
   "outputs": [],
   "source": [
    "q = Normal(mu, abs(sigma))"
   ]
  },
  {
   "cell_type": "markdown",
   "metadata": {},
   "source": [
    "## free notes"
   ]
  },
  {
   "cell_type": "code",
   "execution_count": 20,
   "metadata": {},
   "outputs": [],
   "source": [
    "import torch.nn as nn\n",
    "\n",
    "m = nn.LogSoftmax(dim=1)\n",
    "loss = nn.NLLLoss()\n",
    "# input is of size N x C = 3 x 5\n",
    "input = torch.randn(3, 5, requires_grad=True)\n",
    "# each element in target has to have 0 <= value < C\n",
    "target = torch.tensor([1, 0, 4])\n",
    "output = loss(m(input), target)\n"
   ]
  },
  {
   "cell_type": "code",
   "execution_count": 24,
   "metadata": {},
   "outputs": [
    {
     "data": {
      "text/plain": [
       "torch.Size([3, 5])"
      ]
     },
     "execution_count": 24,
     "metadata": {},
     "output_type": "execute_result"
    }
   ],
   "source": [
    "input.size()"
   ]
  },
  {
   "cell_type": "code",
   "execution_count": 25,
   "metadata": {},
   "outputs": [
    {
     "data": {
      "text/plain": [
       "torch.Size([3])"
      ]
     },
     "execution_count": 25,
     "metadata": {},
     "output_type": "execute_result"
    }
   ],
   "source": [
    "target.size()"
   ]
  },
  {
   "cell_type": "code",
   "execution_count": 23,
   "metadata": {},
   "outputs": [
    {
     "data": {
      "text/plain": [
       "torch.Size([3, 5])"
      ]
     },
     "execution_count": 23,
     "metadata": {},
     "output_type": "execute_result"
    }
   ],
   "source": [
    "m(input).size()"
   ]
  },
  {
   "cell_type": "code",
   "execution_count": 38,
   "metadata": {},
   "outputs": [],
   "source": [
    "from torch import Tensor as T\n",
    "\n",
    "batch_size = 32\n",
    "hidden_size = 1024\n",
    "output_size = 512\n",
    "\n",
    "\n",
    "# conductor_out: [1, output_size]\n",
    "_cond_input = torch.zeros(\n",
    "    batch_size, 16, output_size)\n",
    "_cond_init = (torch.rand(2, batch_size, hidden_size),\n",
    "              torch.stack([torch.tanh(model.decoder.fc(z)),\n",
    "                           torch.tanh(model.decoder.fc(z))]))  # 2 layers LSTM\n",
    "conductor_out, (cond_c, cond_h) = model.decoder.conductor(\n",
    "    _cond_input, _cond_init)\n",
    "\n",
    "output: T = torch.tensor([[]])  # [batch, segment_seq]\n",
    "last_decoder_c: T = torch.rand(2, batch_size, model.decoder.hidden_size)\n",
    "for segment_idx in range(model.decoder.conductor_max_len):\n",
    "    results: T = torch.tensor([[]])\n",
    "    for token_idx in range(model.decoder.decoder_max_len):\n",
    "        # concat last hidden and concuctor out\n",
    "        _input = torch.cat([torch.tanh(model.decoder.fc_2(conductor_out[:, segment_idx, :])),\n",
    "                            torch.tanh(model.decoder.fc_2(last_decoder_c.mean(dim=0)))], dim=1).view(batch_size, 1, model.decoder.output_size)\n",
    "        decoder_out, (decoder_c, _) = model.decoder.decoder(_input)\n",
    "        last_decoder_c = decoder_c\n",
    "        result = model.decoder.sample(decoder_out[:, 0, :])  # [batch]]\n",
    "        output = torch.cat([output, result], 1)  # [batch, seq_len]\n"
   ]
  },
  {
   "cell_type": "code",
   "execution_count": 51,
   "metadata": {},
   "outputs": [
    {
     "data": {
      "text/plain": [
       "torch.Size([32, 16])"
      ]
     },
     "execution_count": 51,
     "metadata": {},
     "output_type": "execute_result"
    }
   ],
   "source": [
    "torch.cat([torch.rand(32).view(32, 1) for _ in range(16)], dim=1).size()"
   ]
  },
  {
   "cell_type": "code",
   "execution_count": 42,
   "metadata": {},
   "outputs": [
    {
     "ename": "RuntimeError",
     "evalue": "stack expects each tensor to be equal size, but got [1, 0] at entry 0 and [32] at entry 1",
     "output_type": "error",
     "traceback": [
      "\u001b[0;31m---------------------------------------------------------------------------\u001b[0m",
      "\u001b[0;31mRuntimeError\u001b[0m                              Traceback (most recent call last)",
      "\u001b[0;32m/tmp/ipykernel_25810/1211510264.py\u001b[0m in \u001b[0;36m<module>\u001b[0;34m\u001b[0m\n\u001b[0;32m----> 1\u001b[0;31m \u001b[0moutput\u001b[0m \u001b[0;34m=\u001b[0m \u001b[0mtorch\u001b[0m\u001b[0;34m.\u001b[0m\u001b[0mstack\u001b[0m\u001b[0;34m(\u001b[0m\u001b[0;34m[\u001b[0m\u001b[0moutput\u001b[0m\u001b[0;34m,\u001b[0m \u001b[0mresult\u001b[0m\u001b[0;34m]\u001b[0m\u001b[0;34m)\u001b[0m  \u001b[0;31m# [batch, seq_len]\u001b[0m\u001b[0;34m\u001b[0m\u001b[0;34m\u001b[0m\u001b[0m\n\u001b[0m",
      "\u001b[0;31mRuntimeError\u001b[0m: stack expects each tensor to be equal size, but got [1, 0] at entry 0 and [32] at entry 1"
     ]
    }
   ],
   "source": [
    "output = torch.stack([output, result])  # [batch, seq_len]"
   ]
  },
  {
   "cell_type": "code",
   "execution_count": 31,
   "metadata": {},
   "outputs": [
    {
     "data": {
      "text/plain": [
       "torch.Size([32, 256])"
      ]
     },
     "execution_count": 31,
     "metadata": {},
     "output_type": "execute_result"
    }
   ],
   "source": [
    "torch.tanh(model.decoder.fc_2(last_decoder_c.mean(dim=0))).size()"
   ]
  },
  {
   "cell_type": "code",
   "execution_count": 24,
   "metadata": {},
   "outputs": [
    {
     "data": {
      "text/plain": [
       "torch.Size([32, 1024])"
      ]
     },
     "execution_count": 24,
     "metadata": {},
     "output_type": "execute_result"
    }
   ],
   "source": [
    "last_decoder_c.size()"
   ]
  },
  {
   "cell_type": "code",
   "execution_count": 25,
   "metadata": {},
   "outputs": [
    {
     "data": {
      "text/plain": [
       "torch.Size([32, 16, 256])"
      ]
     },
     "execution_count": 25,
     "metadata": {},
     "output_type": "execute_result"
    }
   ],
   "source": [
    "_cond_input.size()"
   ]
  },
  {
   "cell_type": "code",
   "execution_count": 28,
   "metadata": {},
   "outputs": [
    {
     "data": {
      "text/plain": [
       "torch.Size([32, 16, 1024])"
      ]
     },
     "execution_count": 28,
     "metadata": {},
     "output_type": "execute_result"
    }
   ],
   "source": [
    "conductor_out.size()"
   ]
  },
  {
   "cell_type": "code",
   "execution_count": 30,
   "metadata": {},
   "outputs": [
    {
     "data": {
      "text/plain": [
       "torch.Size([2, 32, 1024])"
      ]
     },
     "execution_count": 30,
     "metadata": {},
     "output_type": "execute_result"
    }
   ],
   "source": [
    "cond_h.size()"
   ]
  },
  {
   "cell_type": "code",
   "execution_count": 27,
   "metadata": {},
   "outputs": [],
   "source": [
    "segment_idx = 0\n",
    "_input = torch.zeros(\n",
    "    batch_size, model.decoder.decoder_max_len, model.decoder.output_size)\n",
    "_init = (last_decoder_c,\n",
    "         conductor_out[:, segment_idx, :].view(1, batch_size, model.decoder.hidden_size))\n"
   ]
  },
  {
   "cell_type": "code",
   "execution_count": 22,
   "metadata": {},
   "outputs": [
    {
     "data": {
      "text/plain": [
       "torch.Size([32, 2048])"
      ]
     },
     "execution_count": 22,
     "metadata": {},
     "output_type": "execute_result"
    }
   ],
   "source": [
    "torch.cat([conductor_out[0, :, :], conductor_out[1, :, :]], dim=1).size()"
   ]
  },
  {
   "cell_type": "code",
   "execution_count": null,
   "metadata": {},
   "outputs": [],
   "source": []
  }
 ],
 "metadata": {
  "interpreter": {
   "hash": "0fe5182ea1612d991abab4abe4ae6579b661970a30252adee1657d005422f463"
  },
  "kernelspec": {
   "display_name": "Python 3.10.4 ('musicvae')",
   "language": "python",
   "name": "python3"
  },
  "language_info": {
   "codemirror_mode": {
    "name": "ipython",
    "version": 3
   },
   "file_extension": ".py",
   "mimetype": "text/x-python",
   "name": "python",
   "nbconvert_exporter": "python",
   "pygments_lexer": "ipython3",
   "version": "3.9.7"
  },
  "orig_nbformat": 4
 },
 "nbformat": 4,
 "nbformat_minor": 2
}
