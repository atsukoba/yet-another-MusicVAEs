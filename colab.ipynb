{
  "cells": [
    {
      "cell_type": "code",
      "execution_count": null,
      "metadata": {
        "colab": {
          "base_uri": "https://localhost:8080/"
        },
        "id": "IgInscZqmNE6",
        "outputId": "8b94702a-2bc0-40fe-f916-7e7fb2f35cbd"
      },
      "outputs": [],
      "source": [
        "# install newer python runtime\n",
        "!sudo add-apt-repository -y ppa:deadsnakes/ppa\n",
        "!sudo apt-get -y update\n",
        "!sudo apt-get -y install python3.9\n",
        "!sudo apt-get -y install python3.9-dev\n",
        "!sudo apt-get -y install python3-pip\n",
        "!sudo apt-get -y install python3.9-distutils\n",
        "!python3.9 -m pip install --upgrade setuptools\n",
        "!python3.9 -m pip install --upgrade pip\n",
        "!python3.9 -m pip install --upgrade distlib"
      ]
    },
    {
      "cell_type": "code",
      "execution_count": null,
      "metadata": {
        "colab": {
          "base_uri": "https://localhost:8080/"
        },
        "id": "JVCZcmGgdbma",
        "outputId": "e282fc24-0be2-48f3-be32-fc788186dc8d"
      },
      "outputs": [],
      "source": [
        "# connect drive\n",
        "from google.colab import drive\n",
        "\n",
        "drive.mount('/content/drive')"
      ]
    },
    {
      "cell_type": "code",
      "execution_count": null,
      "metadata": {
        "colab": {
          "base_uri": "https://localhost:8080/"
        },
        "id": "lps3PTC-gm83",
        "outputId": "c9d2d0a4-239b-48b7-c9af-5467ce7f6ec7"
      },
      "outputs": [],
      "source": [
        "# clone repo\n",
        "!cd /content/\n",
        "!git config --global user.name \"atsukoba\"\n",
        "!git config --global user.email \"atsuya@sfc.keio.ac.jp\"\n",
        "!git clone https://TOKEN@github.com/atsukoba/yet-another-MusicVAEs.git"
      ]
    },
    {
      "cell_type": "code",
      "execution_count": null,
      "metadata": {
        "id": "WNiy8SNpt34E"
      },
      "outputs": [],
      "source": [
        "# install requirements\n",
        "!pip install -r /content/yet-another-MusicVAEs/requirements.txt"
      ]
    },
    {
      "cell_type": "code",
      "execution_count": null,
      "metadata": {
        "id": "RK_fFwMSC_-F"
      },
      "outputs": [],
      "source": [
        "# externally instaled python runtime need ipykernel\n",
        "!pip install ipykernel"
      ]
    },
    {
      "cell_type": "code",
      "execution_count": null,
      "metadata": {
        "colab": {
          "base_uri": "https://localhost:8080/"
        },
        "id": "LWQzIhRIldwM",
        "outputId": "1ddf7ed8-dfc7-453c-be86-420bfd11cd3d"
      },
      "outputs": [],
      "source": [
        "# check the script correctly loaded\n",
        "!python3.9 /content/yet-another-MusicVAEs/train.py -h"
      ]
    },
    {
      "cell_type": "code",
      "execution_count": null,
      "metadata": {
        "id": "lFZ-XVW2DZDJ"
      },
      "outputs": [],
      "source": [
        "# unpack dataset on your drive\n",
        "!unzip /content/drive/MyDrive/lmd_matched.zip -d /content/"
      ]
    },
    {
      "cell_type": "code",
      "execution_count": null,
      "metadata": {
        "colab": {
          "base_uri": "https://localhost:8080/"
        },
        "id": "8pokzWMODVyJ",
        "outputId": "15851907-15c1-44ea-f107-c8a8ca3e7e5a"
      },
      "outputs": [],
      "source": [
        "# check your dataset available\n",
        "from glob import glob\n",
        "\n",
        "len(glob(\"/content/lmd_matched/**/*.mid\", recursive=True))"
      ]
    },
    {
      "cell_type": "code",
      "execution_count": null,
      "metadata": {
        "colab": {
          "base_uri": "https://localhost:8080/"
        },
        "id": "zjjywv5Vl4w4",
        "outputId": "ac343648-3250-4932-9bbb-f1ba0897e360"
      },
      "outputs": [],
      "source": [
        "# run training\n",
        "!python3.9 yet-another-MusicVAEs/train.py -e remi -t melody -d /content/lmd_matched --max_midi_files 5000"
      ]
    }
  ],
  "metadata": {
    "accelerator": "GPU",
    "colab": {
      "collapsed_sections": [],
      "name": "musicvae_training.ipynb",
      "provenance": []
    },
    "kernelspec": {
      "display_name": "Python 3",
      "name": "python3"
    },
    "language_info": {
      "name": "python"
    }
  },
  "nbformat": 4,
  "nbformat_minor": 0
}
