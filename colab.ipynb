{
  "cells": [
    {
      "cell_type": "markdown",
      "metadata": {},
      "source": [
        "# Run Training on Google Colab"
      ]
    },
    {
      "cell_type": "code",
      "execution_count": null,
      "metadata": {
        "id": "IgInscZqmNE6"
      },
      "outputs": [],
      "source": [
        "!sudo add-apt-repository -y ppa:deadsnakes/ppa\n",
        "!sudo apt-get -y update\n",
        "!sudo apt-get -y install python3.9\n",
        "!sudo apt-get -y install python3.9-dev\n",
        "!sudo apt-get -y install python3-pip\n",
        "!sudo apt-get -y install python3.9-distutils\n",
        "!python3.9 -m pip install --upgrade setuptools\n",
        "!python3.9 -m pip install --upgrade pip\n",
        "!python3.9 -m pip install --upgrade distlib"
      ]
    },
    {
      "cell_type": "code",
      "execution_count": null,
      "metadata": {
        "colab": {
          "base_uri": "https://localhost:8080/"
        },
        "id": "JVCZcmGgdbma",
        "outputId": "ce320fe4-7b79-491e-8aab-7e3ccedb4ea2"
      },
      "outputs": [],
      "source": [
        "from google.colab import drive\n",
        "\n",
        "drive.mount('/content/drive')"
      ]
    },
    {
      "cell_type": "code",
      "execution_count": null,
      "metadata": {
        "colab": {
          "base_uri": "https://localhost:8080/"
        },
        "id": "lps3PTC-gm83",
        "outputId": "d3e28784-d35d-4100-f17d-443654eb4f75"
      },
      "outputs": [],
      "source": [
        "!cd /content/\n",
        "!git clone https://github.com/atsukoba/yet-another-MusicVAEs.git"
      ]
    },
    {
      "cell_type": "code",
      "execution_count": null,
      "metadata": {
        "colab": {
          "base_uri": "https://localhost:8080/"
        },
        "id": "WNiy8SNpt34E",
        "outputId": "0f5bbc7e-90db-4875-cbc3-0e7640fca500"
      },
      "outputs": [],
      "source": [
        "!pip install -r /content/yet-another-MusicVAEs/requirements.txt"
      ]
    },
    {
      "cell_type": "code",
      "execution_count": null,
      "metadata": {
        "colab": {
          "base_uri": "https://localhost:8080/"
        },
        "id": "LWQzIhRIldwM",
        "outputId": "19978798-396b-43ea-be86-90d5f4800a6c"
      },
      "outputs": [],
      "source": [
        "!python3.9 /content/yet-another-MusicVAEs/train.py -h"
      ]
    }
  ],
  "metadata": {
    "accelerator": "TPU",
    "colab": {
      "name": "musicvae_training.ipynb",
      "provenance": []
    },
    "kernelspec": {
      "display_name": "Python 3",
      "name": "python3"
    },
    "language_info": {
      "name": "python"
    }
  },
  "nbformat": 4,
  "nbformat_minor": 0
}
